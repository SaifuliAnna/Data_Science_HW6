{
  "nbformat": 4,
  "nbformat_minor": 0,
  "metadata": {
    "colab": {
      "provenance": [],
      "include_colab_link": true
    },
    "kernelspec": {
      "name": "python3",
      "display_name": "Python 3"
    },
    "language_info": {
      "name": "python"
    },
    "accelerator": "GPU",
    "gpuClass": "standard"
  },
  "cells": [
    {
      "cell_type": "markdown",
      "metadata": {
        "id": "view-in-github",
        "colab_type": "text"
      },
      "source": [
        "<a href=\"https://colab.research.google.com/github/SaifuliAnna/DataScience_HW11/blob/main/HW_11(CNN_part_two).ipynb\" target=\"_parent\"><img src=\"https://colab.research.google.com/assets/colab-badge.svg\" alt=\"Open In Colab\"/></a>"
      ]
    },
    {
      "cell_type": "code",
      "source": [
        "from sklearn.metrics import confusion_matrix\n",
        "from keras.utils.np_utils import to_categorical\n",
        "from keras.models import Sequential\n",
        "from keras.layers import Dense, Dropout, Flatten, Conv2D, MaxPool2D\n",
        "from keras.optimizers import RMSprop, Adam\n",
        "from keras.preprocessing.image import ImageDataGenerator\n",
        "from keras.callbacks import ReduceLROnPlateau\n",
        "import itertools"
      ],
      "metadata": {
        "id": "b4_576Efddj4"
      },
      "execution_count": 2,
      "outputs": []
    },
    {
      "cell_type": "code",
      "source": [
        "import numpy as np\n",
        "import pandas as pd\n",
        "import seaborn as sns\n",
        "\n",
        "import matplotlib.pyplot as plt# Reading Train Data\n",
        "from keras.datasets import fashion_mnist\n",
        "\n",
        "(train_images, train_labels), (test_images, test_labels) = fashion_mnist.load_data()\n",
        "print(\"Shape of Train : \" + str(train_images.size))\n",
        "print(\"Shape of Train : \" + str(train_labels.size))\n",
        "print(\"Shape of Train : \" + str(test_images.size))\n",
        "print(\"Shape of Train : \" + str(test_labels.size))"
      ],
      "metadata": {
        "id": "rtD5Vm8g-dPv",
        "colab": {
          "base_uri": "https://localhost:8080/"
        },
        "outputId": "2b7598cb-5881-46bb-bded-3737974f7b36"
      },
      "execution_count": 3,
      "outputs": [
        {
          "output_type": "stream",
          "name": "stdout",
          "text": [
            "Downloading data from https://storage.googleapis.com/tensorflow/tf-keras-datasets/train-labels-idx1-ubyte.gz\n",
            "29515/29515 [==============================] - 0s 0us/step\n",
            "Downloading data from https://storage.googleapis.com/tensorflow/tf-keras-datasets/train-images-idx3-ubyte.gz\n",
            "26421880/26421880 [==============================] - 2s 0us/step\n",
            "Downloading data from https://storage.googleapis.com/tensorflow/tf-keras-datasets/t10k-labels-idx1-ubyte.gz\n",
            "5148/5148 [==============================] - 0s 0us/step\n",
            "Downloading data from https://storage.googleapis.com/tensorflow/tf-keras-datasets/t10k-images-idx3-ubyte.gz\n",
            "4422102/4422102 [==============================] - 0s 0us/step\n",
            "Shape of Train : 47040000\n",
            "Shape of Train : 60000\n",
            "Shape of Train : 7840000\n",
            "Shape of Train : 10000\n"
          ]
        }
      ]
    },
    {
      "cell_type": "markdown",
      "source": [
        "Example Images from Dataset"
      ],
      "metadata": {
        "id": "U2mVSB7CGOvd"
      }
    },
    {
      "cell_type": "code",
      "source": [
        "plt.figure(figsize=(20,5))\n",
        "for i in range(10):\n",
        "    plt.subplot(2,5,i+1)\n",
        "    img = train_images[i]\n",
        "    plt.imshow(img, cmap='gray')\n",
        "    plt.title(\"Class: \" + str(i))\n",
        "    plt.axis('off')\n",
        "    \n",
        "plt.show()"
      ],
      "metadata": {
        "colab": {
          "base_uri": "https://localhost:8080/",
          "height": 319
        },
        "id": "npo-DONNGOOH",
        "outputId": "50fceec0-2770-4d77-9520-bb19b72d55b3"
      },
      "execution_count": null,
      "outputs": [
        {
          "output_type": "display_data",
          "data": {
            "text/plain": [
              "<Figure size 1440x360 with 10 Axes>"
            ],
            "image/png": "[encoded data removed]"
          },
          "metadata": {
            "needs_background": "light"
          }
        }
      ]
    },
    {
      "cell_type": "markdown",
      "source": [
        "Normalization"
      ],
      "metadata": {
        "id": "fDXsiX-qHCrs"
      }
    },
    {
      "cell_type": "code",
      "source": [
        "X_train = X_train / 255.0\n",
        "X_test = X_test / 255.0"
      ],
      "metadata": {
        "id": "IBYwPXqYHB3E"
      },
      "execution_count": null,
      "outputs": []
    },
    {
      "cell_type": "markdown",
      "source": [
        "Reshape"
      ],
      "metadata": {
        "id": "y-GI4NPWHc5R"
      }
    },
    {
      "cell_type": "code",
      "source": [
        "X_train = X_train.reshape(-1, 28, 28, 1)\n",
        "X_test = X_test.reshape(-1, 28, 28, 1)\n",
        "\n",
        "print(\"X_train Shape: \", X_train.shape)\n",
        "print(\"X_test Shape: \", X_test.shape)\n"
      ],
      "metadata": {
        "colab": {
          "base_uri": "https://localhost:8080/"
        },
        "id": "zM-nrXo8Hdrz",
        "outputId": "7643280b-a10e-4f65-ce91-51daeff53188"
      },
      "execution_count": null,
      "outputs": [
        {
          "output_type": "stream",
          "name": "stdout",
          "text": [
            "X_train Shape:  (60000, 28, 28, 1)\n",
            "X_test Shape:  (10000, 28, 28, 1)\n"
          ]
        }
      ]
    },
    {
      "cell_type": "markdown",
      "source": [
        "Label Encoding\n",
        "\n",
        "We turn our classes into one-hot encoding label."
      ],
      "metadata": {
        "id": "DCVMVU6sH12K"
      }
    },
    {
      "cell_type": "code",
      "source": [
        "from keras.utils.np_utils import to_categorical\n",
        "\n",
        "Y_train = to_categorical(Y_train, num_classes=10)"
      ],
      "metadata": {
        "id": "wiVabKZTIAxX"
      },
      "execution_count": null,
      "outputs": []
    },
    {
      "cell_type": "markdown",
      "source": [
        "Train-Test Split"
      ],
      "metadata": {
        "id": "jzucCnI9Jf-z"
      }
    },
    {
      "cell_type": "code",
      "source": [
        "from sklearn.model_selection import train_test_split\n",
        "x_train, x_val, y_train, y_val = train_test_split(X_train, Y_train, test_size = 0.3, random_state = 42)\n",
        "\n",
        "print(\"x_train shape\",x_train.shape)\n",
        "print(\"x_test shape\",x_val.shape)\n",
        "print(\"y_train shape\",y_train.shape)\n",
        "print(\"y_test shape\",y_val.shape)"
      ],
      "metadata": {
        "colab": {
          "base_uri": "https://localhost:8080/"
        },
        "id": "RctkQ9w4IHpN",
        "outputId": "8ed15665-5df1-4e53-d5a9-34093af2b800"
      },
      "execution_count": null,
      "outputs": [
        {
          "output_type": "stream",
          "name": "stdout",
          "text": [
            "x_train shape (42000, 28, 28, 1)\n",
            "x_test shape (18000, 28, 28, 1)\n",
            "y_train shape (42000, 10)\n",
            "y_test shape (18000, 10)\n"
          ]
        }
      ]
    },
    {
      "cell_type": "markdown",
      "source": [
        "Implementing Convolutional Neural Network Algorithm with Keras\n",
        "\n",
        "Create Model"
      ],
      "metadata": {
        "id": "fDaW3qdrJ6rq"
      }
    },
    {
      "cell_type": "code",
      "source": [
        "model = Sequential()\n",
        "model.add(Conv2D(filters = 32, kernel_size = (3,3), padding = 'Same', activation='relu', input_shape=(28,28,1)))\n",
        "model.add(MaxPool2D(pool_size = (2,2)))\n",
        "model.add(Dropout(0.25))\n",
        "model.add(Conv2D(filters = 64, kernel_size = (3,3),padding = 'Same', activation ='relu'))\n",
        "model.add(MaxPool2D(pool_size=(2,2)))\n",
        "model.add(Dropout(0.25))\n",
        "model.add(Conv2D(filters = 128, kernel_size = (3,3),padding = 'Same', activation ='relu'))\n",
        "model.add(MaxPool2D(pool_size=(2,2)))\n",
        "model.add(Dropout(0.25))\n",
        "model.add(Flatten())\n",
        "model.add(Dense(256, activation='relu'))\n",
        "model.add(Dropout(0.25))\n",
        "model.add(Dense(256, activation='relu'))\n",
        "model.add(Dropout(0.1))\n",
        "model.add(Dense(10, activation='softmax'))"
      ],
      "metadata": {
        "id": "nkQQiX7GJ5It"
      },
      "execution_count": null,
      "outputs": []
    },
    {
      "cell_type": "markdown",
      "source": [
        "Optimizer\n",
        "\n",
        "Adam optimizer we can say adam optimizer updates leraning rate dynamically."
      ],
      "metadata": {
        "id": "nCgLyl5JKqOY"
      }
    },
    {
      "cell_type": "code",
      "source": [
        "optimizer = Adam(learning_rate=0.001, beta_1=0.9, beta_2=0.999, epsilon=None, decay=0.0, amsgrad=False);"
      ],
      "metadata": {
        "id": "JjayGF1bKqo8"
      },
      "execution_count": null,
      "outputs": []
    },
    {
      "cell_type": "markdown",
      "source": [
        "Compile Model\n",
        "\n",
        "Since we have 10 classes we’ll use categorical crossentropy."
      ],
      "metadata": {
        "id": "-uAu-53NLXmy"
      }
    },
    {
      "cell_type": "code",
      "source": [
        "model.compile(optimizer = optimizer, loss = 'categorical_crossentropy', metrics=['accuracy'])"
      ],
      "metadata": {
        "id": "8CT0En8eLYb9"
      },
      "execution_count": null,
      "outputs": []
    },
    {
      "cell_type": "markdown",
      "source": [
        "Epoch and Batch Size"
      ],
      "metadata": {
        "id": "Cz9XHrKoLsnU"
      }
    },
    {
      "cell_type": "markdown",
      "source": [
        "Epoch is the number of times the algorithm sees the entire data set. If one epoch is too big to run to the computer at once we divide it smaller parts and number of this parts is called batch."
      ],
      "metadata": {
        "id": "mlN3q3a1L05R"
      }
    },
    {
      "cell_type": "code",
      "source": [
        "epochs = 100\n",
        "batchSize = 300\n",
        "steps_per_epoch=x_train.shape[0] // batchSize"
      ],
      "metadata": {
        "id": "RHwowmecLtvA"
      },
      "execution_count": null,
      "outputs": []
    },
    {
      "cell_type": "markdown",
      "source": [
        "Data Augmentation\n",
        "\n",
        "By using “data augmentation” we can create new data with different orientations. It prevents overfitting."
      ],
      "metadata": {
        "id": "kaJ52oo4L41W"
      }
    },
    {
      "cell_type": "markdown",
      "source": [
        "Data Augmentation\n",
        "\n",
        "By using “data augmentation” we can create new data with different orientations. It prevents overfitting."
      ],
      "metadata": {
        "id": "c8E1ekgkMBaa"
      }
    },
    {
      "cell_type": "code",
      "source": [
        "# Data Augmentation\n",
        "datagen = ImageDataGenerator(\n",
        "        featurewise_center=False,  # set input mean to 0 over the dataset\n",
        "        samplewise_center=False,  # set each sample mean to 0\n",
        "        featurewise_std_normalization=False,  # divide inputs by std of the dataset\n",
        "        samplewise_std_normalization=False,  # divide each input by its std\n",
        "        zca_whitening=False,  # dimesion reduction\n",
        "        rotation_range=0.1,  # randomly rotate images in the range\n",
        "        zoom_range =0.1, # Randomly zoom image\n",
        "        width_shift_range=0.1,  # randomly shift images horizontally\n",
        "        height_shift_range=0.1,  # randomly shift images vertically\n",
        "        horizontal_flip=False,  # randomly flip images\n",
        "        vertical_flip=False)  # randomly flip imagesdatagen.fit(x_train)\n",
        "\n",
        "datagen.fit(x_train)"
      ],
      "metadata": {
        "id": "le72zZbKMKnP"
      },
      "execution_count": null,
      "outputs": []
    },
    {
      "cell_type": "markdown",
      "source": [
        "Fit The Model"
      ],
      "metadata": {
        "id": "mFuUmKDIM5vY"
      }
    },
    {
      "cell_type": "code",
      "source": [
        "cnn = model.fit(datagen.flow(x_train, y_train, batch_size=batchSize), epochs=epochs, validation_data=(x_val, y_val), steps_per_epoch=steps_per_epoch)"
      ],
      "metadata": {
        "id": "wxqyZNVTNBre"
      },
      "execution_count": null,
      "outputs": []
    },
    {
      "cell_type": "code",
      "source": [
        "model.save(\"my_model_cnn_1\")"
      ],
      "metadata": {
        "id": "9QXeo0LjdBzE"
      },
      "execution_count": null,
      "outputs": []
    },
    {
      "cell_type": "markdown",
      "source": [
        "Evaluate The Model"
      ],
      "metadata": {
        "id": "jvkkW6G_WeEw"
      }
    },
    {
      "cell_type": "code",
      "source": [
        "test_loss, test_acc = model.evaluate(x_val, y_val)\n",
        "\n",
        "print(f'\\nTest loss:{test_loss},    Test accuracy:{test_acc}')"
      ],
      "metadata": {
        "colab": {
          "base_uri": "https://localhost:8080/"
        },
        "id": "jEv4Ysl9jtMW",
        "outputId": "caac2edc-0710-4459-b313-cfcbb6267fee"
      },
      "execution_count": null,
      "outputs": [
        {
          "output_type": "stream",
          "name": "stdout",
          "text": [
            "563/563 [==============================] - 2s 3ms/step - loss: 0.2007 - accuracy: 0.9266\n",
            "\n",
            "Test loss:0.20067347586154938,    Test accuracy:0.9265555739402771\n"
          ]
        }
      ]
    },
    {
      "cell_type": "code",
      "source": [
        "print(f\"Accuracy after fitting: {cnn.history['accuracy'][-1]*100}%\")\n",
        "\n",
        "# For better accuracy i can increase number of epochs or i can change \n",
        "# parameters on layers or i can add additional layer to the model."
      ],
      "metadata": {
        "colab": {
          "base_uri": "https://localhost:8080/"
        },
        "id": "5p2sJng6We7J",
        "outputId": "5e4c0a19-663d-48ee-b418-351263160625"
      },
      "execution_count": null,
      "outputs": [
        {
          "output_type": "stream",
          "name": "stdout",
          "text": [
            "Accuracy after fitting: 91.25476479530334%\n"
          ]
        }
      ]
    },
    {
      "cell_type": "code",
      "source": [
        "plt.figure(figsize=(20,6))\n",
        "\n",
        "plt.subplot(1,2,1)\n",
        "plt.plot(cnn.history['loss'], color=\"blue\", label = \"Loss\")\n",
        "plt.plot(cnn.history['val_loss'], color=\"orange\", label = \"Validation Loss\")\n",
        "plt.ylabel(\"Loss\")\n",
        "plt.xlabel(\"Number of Epochs\")\n",
        "plt.legend()\n",
        "\n",
        "plt.subplot(1,2,2)\n",
        "plt.plot(cnn.history['accuracy'], color=\"green\", label = \"Accuracy\")\n",
        "plt.plot(cnn.history['val_accuracy'], color=\"red\", label = \"Validation Accuracy\")\n",
        "plt.ylabel(\"Accuracy\")\n",
        "plt.xlabel(\"Number of Epochs\")\n",
        "plt.legend()\n",
        "plt.show()"
      ],
      "metadata": {
        "colab": {
          "base_uri": "https://localhost:8080/",
          "height": 388
        },
        "id": "UMwj00fbXTbD",
        "outputId": "2278acd1-79ae-432f-a0db-45509b7da83f"
      },
      "execution_count": null,
      "outputs": [
        {
          "output_type": "display_data",
          "data": {
            "text/plain": [
              "<Figure size 1440x432 with 2 Axes>"
            ],
            "image/png": "[encoded data removed]"
          },
          "metadata": {
            "needs_background": "light"
          }
        }
      ]
    },
    {
      "cell_type": "markdown",
      "source": [
        "out score by giving test data we imported before"
      ],
      "metadata": {
        "id": "x-4xLvWGYE95"
      }
    },
    {
      "cell_type": "code",
      "source": [
        "Y_test = to_categorical(Y_test, num_classes=10) # One-Hot Encoding\n",
        "score = model.evaluate(X_test, Y_test)\n",
        "print(f\"Test Loss: {score[0]}\")\n",
        "print(f\"Test Accuracy: {score[1]*100}%\")"
      ],
      "metadata": {
        "colab": {
          "base_uri": "https://localhost:8080/"
        },
        "id": "tMTesWoQYO-f",
        "outputId": "42cbade5-a6ba-411e-d93c-c8087e691cc8"
      },
      "execution_count": null,
      "outputs": [
        {
          "output_type": "stream",
          "name": "stdout",
          "text": [
            "313/313 [==============================] - 1s 3ms/step - loss: 0.2131 - accuracy: 0.9236\n",
            "Test Loss: 0.21313349902629852\n",
            "Test Accuracy: 92.36000180244446%\n"
          ]
        }
      ]
    },
    {
      "cell_type": "code",
      "source": [
        "Y_pred = model.predict(X_test)\n",
        "Y_pred_classes = np.argmax(Y_pred, axis = 1)\n",
        "Y_true = np.argmax(Y_test, axis = 1)\n",
        "confusionMatrix = confusion_matrix(Y_true, Y_pred_classes)\n",
        "f,ax=plt.subplots(figsize=(10,10))\n",
        "sns.heatmap(confusionMatrix, annot=True, linewidths=0.1, cmap = \"gist_yarg_r\", linecolor=\"black\", fmt='.0f', ax=ax)\n",
        "plt.xlabel(\"Predicted Label\")\n",
        "plt.ylabel(\"True Label\")\n",
        "plt.title(\"Confusion Matrix\")\n",
        "plt.show()"
      ],
      "metadata": {
        "colab": {
          "base_uri": "https://localhost:8080/",
          "height": 639
        },
        "id": "bnEk-0KBYrZA",
        "outputId": "abef283c-96d0-4464-ed9b-b50df1ce95d7"
      },
      "execution_count": null,
      "outputs": [
        {
          "output_type": "stream",
          "name": "stdout",
          "text": [
            "313/313 [==============================] - 1s 2ms/step\n"
          ]
        },
        {
          "output_type": "display_data",
          "data": {
            "text/plain": [
              "<Figure size 720x720 with 2 Axes>"
            ],
            "image/png": "[encoded data removed]"
          },
          "metadata": {
            "needs_background": "light"
          }
        }
      ]
    },
    {
      "cell_type": "code",
      "source": [
        "for i in range(len(confusionMatrix)):\n",
        "    print(f\"Class: {str(i)}\")\n",
        "    print(f\"Number of Wrong Prediction: {str(sum(confusionMatrix[i])-confusionMatrix[i][i])} out of 1000\")\n",
        "    print(f\"Percentage of True Prediction: {confusionMatrix[i][i] / 10}% \")\n",
        "    print(\"<<<<<<<<<<<<<<<<<<<<<<<<<<<<<<<<<<<<<\")"
      ],
      "metadata": {
        "colab": {
          "base_uri": "https://localhost:8080/"
        },
        "id": "KdSjXGf4ZV1r",
        "outputId": "1ba2084b-2a2c-4850-91bc-181f8a3c7f51"
      },
      "execution_count": null,
      "outputs": [
        {
          "output_type": "stream",
          "name": "stdout",
          "text": [
            "Class: 0\n",
            "Number of Wrong Prediction: 113 out of 1000\n",
            "Percentage of True Prediction: 88.7% \n",
            "<<<<<<<<<<<<<<<<<<<<<<<<<<<<<<<<<<<<<\n",
            "Class: 1\n",
            "Number of Wrong Prediction: 10 out of 1000\n",
            "Percentage of True Prediction: 99.0% \n",
            "<<<<<<<<<<<<<<<<<<<<<<<<<<<<<<<<<<<<<\n",
            "Class: 2\n",
            "Number of Wrong Prediction: 129 out of 1000\n",
            "Percentage of True Prediction: 87.1% \n",
            "<<<<<<<<<<<<<<<<<<<<<<<<<<<<<<<<<<<<<\n",
            "Class: 3\n",
            "Number of Wrong Prediction: 91 out of 1000\n",
            "Percentage of True Prediction: 90.9% \n",
            "<<<<<<<<<<<<<<<<<<<<<<<<<<<<<<<<<<<<<\n",
            "Class: 4\n",
            "Number of Wrong Prediction: 98 out of 1000\n",
            "Percentage of True Prediction: 90.2% \n",
            "<<<<<<<<<<<<<<<<<<<<<<<<<<<<<<<<<<<<<\n",
            "Class: 5\n",
            "Number of Wrong Prediction: 11 out of 1000\n",
            "Percentage of True Prediction: 98.9% \n",
            "<<<<<<<<<<<<<<<<<<<<<<<<<<<<<<<<<<<<<\n",
            "Class: 6\n",
            "Number of Wrong Prediction: 236 out of 1000\n",
            "Percentage of True Prediction: 76.4% \n",
            "<<<<<<<<<<<<<<<<<<<<<<<<<<<<<<<<<<<<<\n",
            "Class: 7\n",
            "Number of Wrong Prediction: 32 out of 1000\n",
            "Percentage of True Prediction: 96.8% \n",
            "<<<<<<<<<<<<<<<<<<<<<<<<<<<<<<<<<<<<<\n",
            "Class: 8\n",
            "Number of Wrong Prediction: 6 out of 1000\n",
            "Percentage of True Prediction: 99.4% \n",
            "<<<<<<<<<<<<<<<<<<<<<<<<<<<<<<<<<<<<<\n",
            "Class: 9\n",
            "Number of Wrong Prediction: 38 out of 1000\n",
            "Percentage of True Prediction: 96.2% \n",
            "<<<<<<<<<<<<<<<<<<<<<<<<<<<<<<<<<<<<<\n"
          ]
        }
      ]
    },
    {
      "cell_type": "markdown",
      "source": [
        "As you can see above we should focus on especially Class 6 to improve our score, Class 0 and Class 2"
      ],
      "metadata": {
        "id": "IdQExwwSoj2W"
      }
    },
    {
      "cell_type": "markdown",
      "source": [
        "## Висновок:\n",
        "\n",
        "Максимально можливої точності класифікації за рахунок маніпуляції параметрами мережі у данному прикладі не досягла, оскільки на це потрібно трохи більше часу та швидкості навчання, але оскільки я спробувла провести дослідження по двом мережам з подібними параметрами (лише трохи вімінними між собою), тому можу порівняти точність отриманої згорткової мережі з точністю багатошарової мережі з попереднього завдання (яке провела тут додатково). \n",
        "\n",
        "Точність багатошаровоі мережі не тільки нижча, у ній спостерігається значне перенавчання. \n",
        "\n",
        "Отже точність згорткової мережі більша і краща якість навчання. \n",
        "\n"
      ],
      "metadata": {
        "id": "Rdltbzh6SI-U"
      }
    }
  ]
}