{
  "nbformat": 4,
  "nbformat_minor": 0,
  "metadata": {
    "colab": {
      "provenance": [],
      "authorship_tag": "ABX9TyPqnwh4tmnZP0PLOqtwKVlV",
      "include_colab_link": true
    },
    "kernelspec": {
      "name": "python3",
      "display_name": "Python 3"
    },
    "language_info": {
      "name": "python"
    }
  },
  "cells": [
    {
      "cell_type": "markdown",
      "metadata": {
        "id": "view-in-github",
        "colab_type": "text"
      },
      "source": [
        "<a href=\"https://colab.research.google.com/github/SaifuliAnna/DataScience_HW11/blob/main/HW_10(FNN_part_one).ipynb\" target=\"_parent\"><img src=\"https://colab.research.google.com/assets/colab-badge.svg\" alt=\"Open In Colab\"/></a>"
      ]
    },
    {
      "cell_type": "code",
      "source": [
        "from keras.wrappers.scikit_learn import KerasClassifier\n",
        "from sklearn.model_selection import cross_val_score"
      ],
      "metadata": {
        "id": "EA7Eda8K6y-M"
      },
      "execution_count": null,
      "outputs": []
    },
    {
      "cell_type": "code",
      "source": [
        "from keras.datasets import fashion_mnist\n",
        "from sklearn.metrics import confusion_matrix\n",
        "from keras.utils.np_utils import to_categorical\n",
        "from keras.models import Sequential\n",
        "from keras.layers import Dense, Dropout, Flatten, Conv2D, MaxPool2D\n",
        "from keras.optimizers import RMSprop, Adam\n",
        "from keras.preprocessing.image import ImageDataGenerator\n",
        "from keras.callbacks import ReduceLROnPlateau\n",
        "from keras import regularizers\n",
        "import itertools\n",
        "import pandas as pd \n",
        "import numpy as np\n",
        "import matplotlib.pyplot as plt"
      ],
      "metadata": {
        "id": "9zyFePx6MX9g"
      },
      "execution_count": null,
      "outputs": []
    },
    {
      "cell_type": "code",
      "execution_count": null,
      "metadata": {
        "id": "HYT6U13kRQXp"
      },
      "outputs": [],
      "source": [
        "(train_images, train_labels), (test_images, test_labels) = fashion_mnist.load_data()"
      ]
    },
    {
      "cell_type": "code",
      "source": [
        "train_labels.shape"
      ],
      "metadata": {
        "colab": {
          "base_uri": "https://localhost:8080/"
        },
        "id": "Jtn_R8KLKLHF",
        "outputId": "5e14a2ea-e914-4e01-9c6c-1762652291ca"
      },
      "execution_count": null,
      "outputs": [
        {
          "output_type": "execute_result",
          "data": {
            "text/plain": [
              "(60000,)"
            ]
          },
          "metadata": {},
          "execution_count": 19
        }
      ]
    },
    {
      "cell_type": "code",
      "source": [
        "from sklearn.model_selection import train_test_split \n",
        "\n",
        "x_train, x_test, y_train, y_test = train_test_split(train_images, train_labels, test_size=0.30, random_state=42)"
      ],
      "metadata": {
        "id": "ZtgOIg66TIuS"
      },
      "execution_count": null,
      "outputs": []
    },
    {
      "cell_type": "code",
      "source": [
        "# Example Imagesplt.figure(figsize=(8,8))\n",
        "for i in range(4):\n",
        "    plt.subplot(2,2,i+1)\n",
        "    plt.axis('off')\n",
        "    plt.imshow(x_train[i].reshape(28,28), cmap='gray', interpolation='none')"
      ],
      "metadata": {
        "colab": {
          "base_uri": "https://localhost:8080/",
          "height": 248
        },
        "id": "xvuBsMYnT4zY",
        "outputId": "4a44781e-1ba5-4e6a-f3e3-de189a3c58d8"
      },
      "execution_count": null,
      "outputs": [
        {
          "output_type": "display_data",
          "data": {
            "text/plain": [
              "<Figure size 432x288 with 4 Axes>"
            ],
            "image/png": "[encoded data removed]"
          },
          "metadata": {
            "needs_background": "light"
          }
        }
      ]
    },
    {
      "cell_type": "code",
      "source": [
        "x_train.shape, x_test.shape, y_train.shape, y_test.shape"
      ],
      "metadata": {
        "colab": {
          "base_uri": "https://localhost:8080/"
        },
        "id": "8nBNd_xqJwnw",
        "outputId": "09e18433-263f-46f2-c111-c9115152ccbb"
      },
      "execution_count": null,
      "outputs": [
        {
          "output_type": "execute_result",
          "data": {
            "text/plain": [
              "((42000, 28, 28), (18000, 28, 28), (42000,), (18000,))"
            ]
          },
          "metadata": {},
          "execution_count": 22
        }
      ]
    },
    {
      "cell_type": "code",
      "source": [
        "x_train = x_train.reshape(42000, 784)\n",
        "x_test = x_test.reshape(18000, 784)"
      ],
      "metadata": {
        "id": "vLwAfX67JhLe"
      },
      "execution_count": null,
      "outputs": []
    },
    {
      "cell_type": "code",
      "source": [
        "x_train = x_train.astype('float32') / 255.0\n",
        "x_test = x_test.astype('float32') / 255.0"
      ],
      "metadata": {
        "id": "0RTFcCro9gLG"
      },
      "execution_count": null,
      "outputs": []
    },
    {
      "cell_type": "code",
      "source": [
        "print(x_train.shape)\n",
        "print(x_test.shape)"
      ],
      "metadata": {
        "colab": {
          "base_uri": "https://localhost:8080/"
        },
        "id": "HzBd-s4q6CH3",
        "outputId": "f84c9314-5541-4bba-fbf5-1341cdb63455"
      },
      "execution_count": null,
      "outputs": [
        {
          "output_type": "stream",
          "name": "stdout",
          "text": [
            "(42000, 784)\n",
            "(18000, 784)\n"
          ]
        }
      ]
    },
    {
      "cell_type": "code",
      "source": [
        "y_train = to_categorical(y_train, 10)\n",
        "y_test = to_categorical(y_test, 10)"
      ],
      "metadata": {
        "id": "tIOEhmgGLQBW"
      },
      "execution_count": null,
      "outputs": []
    },
    {
      "cell_type": "code",
      "source": [
        "print(y_train.shape)\n",
        "print(y_test.shape)"
      ],
      "metadata": {
        "colab": {
          "base_uri": "https://localhost:8080/"
        },
        "id": "id2kIQpeLbsT",
        "outputId": "53386728-32f9-418d-ac77-d25d0d49d493"
      },
      "execution_count": null,
      "outputs": [
        {
          "output_type": "stream",
          "name": "stdout",
          "text": [
            "(42000, 10)\n",
            "(18000, 10)\n"
          ]
        }
      ]
    },
    {
      "cell_type": "code",
      "source": [
        "np.random.seed(50)"
      ],
      "metadata": {
        "id": "Dqh9HehTMRgt"
      },
      "execution_count": null,
      "outputs": []
    },
    {
      "cell_type": "code",
      "source": [
        "model = Sequential()\n",
        "model.add(Dense(256, activation='relu'))\n",
        "model.add(Dropout(0.25))\n",
        "model.add(Dense(256, activation='relu'))\n",
        "model.add(Dropout(0.1))\n",
        "model.add(Dense(10, activation='softmax'))"
      ],
      "metadata": {
        "id": "7v1JsnQvMhKC"
      },
      "execution_count": null,
      "outputs": []
    },
    {
      "cell_type": "code",
      "source": [
        "optimizer = Adam(learning_rate=0.001, beta_1=0.9, beta_2=0.999, epsilon=None, decay=0.0, amsgrad=False);"
      ],
      "metadata": {
        "id": "MtuNR38zMvHi"
      },
      "execution_count": null,
      "outputs": []
    },
    {
      "cell_type": "code",
      "source": [
        "model.compile(optimizer = optimizer, loss = 'categorical_crossentropy', metrics=['accuracy'])"
      ],
      "metadata": {
        "id": "RwwtKgBSM3V3"
      },
      "execution_count": null,
      "outputs": []
    },
    {
      "cell_type": "code",
      "source": [
        "epochs = 100\n",
        "batchSize = 300\n",
        "steps_per_epoch=x_train.shape[0] // batchSize"
      ],
      "metadata": {
        "id": "KG4JFStqM7BS"
      },
      "execution_count": null,
      "outputs": []
    },
    {
      "cell_type": "code",
      "source": [
        "history = model.fit(x_train, y_train, batch_size=batchSize, epochs=epochs, validation_data=(x_test, y_test), steps_per_epoch=steps_per_epoch)"
      ],
      "metadata": {
        "id": "4bMqX2s5M8Lc"
      },
      "execution_count": null,
      "outputs": []
    },
    {
      "cell_type": "code",
      "source": [
        "model.save(\"my_model_p_1\")"
      ],
      "metadata": {
        "id": "_iR0Fh2_OFwu"
      },
      "execution_count": null,
      "outputs": []
    },
    {
      "cell_type": "code",
      "source": [
        "test_loss, test_acc = model.evaluate(x_test, y_test)\n",
        "\n",
        "print(f'\\nTest loss:{test_loss},    Test accuracy:{test_acc}')"
      ],
      "metadata": {
        "colab": {
          "base_uri": "https://localhost:8080/"
        },
        "id": "VBONv6ygOJhW",
        "outputId": "6630f42a-25ca-49dc-dcbe-a961d0f94ca7"
      },
      "execution_count": null,
      "outputs": [
        {
          "output_type": "stream",
          "name": "stdout",
          "text": [
            "563/563 [==============================] - 2s 4ms/step - loss: 0.4007 - accuracy: 0.9015\n",
            "\n",
            "Test loss:0.40072524547576904,    Test accuracy:0.9014999866485596\n"
          ]
        }
      ]
    },
    {
      "cell_type": "code",
      "source": [
        "print(f\"Accuracy after fitting: {history.history['accuracy'][-1]*100}%\")"
      ],
      "metadata": {
        "colab": {
          "base_uri": "https://localhost:8080/"
        },
        "id": "RIR7bIqUP-pn",
        "outputId": "00b60608-82c5-430e-d1ca-cbd14824bc2b"
      },
      "execution_count": null,
      "outputs": [
        {
          "output_type": "stream",
          "name": "stdout",
          "text": [
            "Accuracy after fitting: 96.1976170539856%\n"
          ]
        }
      ]
    },
    {
      "cell_type": "code",
      "source": [
        "plt.figure(figsize=(20,6))\n",
        "\n",
        "plt.subplot(1,2,1)\n",
        "plt.plot(history.history['loss'], color=\"blue\", label = \"Loss\")\n",
        "plt.plot(history.history['val_loss'], color=\"orange\", label = \"Validation Loss\")\n",
        "plt.ylabel(\"Loss\")\n",
        "plt.xlabel(\"Number of Epochs\")\n",
        "plt.legend()\n",
        "\n",
        "plt.subplot(1,2,2)\n",
        "plt.plot(history.history['accuracy'], color=\"green\", label = \"Accuracy\")\n",
        "plt.plot(history.history['val_accuracy'], color=\"red\", label = \"Validation Accuracy\")\n",
        "plt.ylabel(\"Accuracy\")\n",
        "plt.xlabel(\"Number of Epochs\")\n",
        "plt.legend()\n",
        "plt.show()"
      ],
      "metadata": {
        "colab": {
          "base_uri": "https://localhost:8080/",
          "height": 388
        },
        "id": "6fgx9XjbP_aQ",
        "outputId": "021f3a31-4d88-4e77-ce3a-905a057fffbd"
      },
      "execution_count": null,
      "outputs": [
        {
          "output_type": "display_data",
          "data": {
            "text/plain": [
              "<Figure size 1440x432 with 2 Axes>"
            ],
            "image/png": "[encoded data removed]"
          },
          "metadata": {
            "needs_background": "light"
          }
        }
      ]
    },
    {
      "cell_type": "code",
      "source": [
        "test_images = test_images.reshape(10000, 784)"
      ],
      "metadata": {
        "id": "JmFfFJVCRxh9"
      },
      "execution_count": null,
      "outputs": []
    },
    {
      "cell_type": "code",
      "source": [
        "test_images = test_images.astype('float32') / 255.0"
      ],
      "metadata": {
        "id": "xjxuEnNKS6q7"
      },
      "execution_count": null,
      "outputs": []
    },
    {
      "cell_type": "code",
      "source": [
        "test_labels = to_categorical(test_labels, 10) # One-Hot Encoding"
      ],
      "metadata": {
        "id": "YVJNZdYlTGJi"
      },
      "execution_count": null,
      "outputs": []
    },
    {
      "cell_type": "code",
      "source": [
        "score = model.evaluate(test_images, test_labels)\n",
        "print(f\"Test Loss: {score[0]}\")\n",
        "print(f\"Test Accuracy: {score[1]*100}%\")"
      ],
      "metadata": {
        "colab": {
          "base_uri": "https://localhost:8080/"
        },
        "id": "GYAyz_qGQKMo",
        "outputId": "d83bbe6d-9f06-4588-cb70-45f52a4528a6"
      },
      "execution_count": null,
      "outputs": [
        {
          "output_type": "stream",
          "name": "stdout",
          "text": [
            "313/313 [==============================] - 1s 4ms/step - loss: 0.4332 - accuracy: 0.8947\n",
            "Test Loss: 0.4332337975502014\n",
            "Test Accuracy: 89.46999907493591%\n"
          ]
        }
      ]
    },
    {
      "cell_type": "code",
      "source": [
        "import seaborn as sns\n",
        "\n",
        "Y_pred = model.predict(test_images)\n",
        "Y_pred_classes = np.argmax(Y_pred, axis = 1)\n",
        "Y_true = np.argmax(test_labels, axis = 1)\n",
        "confusionMatrix = confusion_matrix(Y_true, Y_pred_classes)\n",
        "f,ax=plt.subplots(figsize=(10,10))\n",
        "sns.heatmap(confusionMatrix, annot=True, linewidths=0.1, cmap = \"gist_yarg_r\", linecolor=\"black\", fmt='.0f', ax=ax)\n",
        "plt.xlabel(\"Predicted Label\")\n",
        "plt.ylabel(\"True Label\")\n",
        "plt.title(\"Confusion Matrix\")\n",
        "plt.show()"
      ],
      "metadata": {
        "colab": {
          "base_uri": "https://localhost:8080/",
          "height": 639
        },
        "id": "kfzZXiLhQO4I",
        "outputId": "98701704-2662-473e-b42d-79be1d7ae605"
      },
      "execution_count": null,
      "outputs": [
        {
          "output_type": "stream",
          "name": "stdout",
          "text": [
            "313/313 [==============================] - 1s 3ms/step\n"
          ]
        },
        {
          "output_type": "display_data",
          "data": {
            "text/plain": [
              "<Figure size 720x720 with 2 Axes>"
            ],
            "image/png": "[encoded data removed]"
          },
          "metadata": {
            "needs_background": "light"
          }
        }
      ]
    },
    {
      "cell_type": "code",
      "source": [
        "for i in range(len(confusionMatrix)):\n",
        "    print(f\"Class: {str(i)}\")\n",
        "    print(f\"Number of Wrong Prediction: {str(sum(confusionMatrix[i])-confusionMatrix[i][i])} out of 1000\")\n",
        "    print(f\"Percentage of True Prediction: {confusionMatrix[i][i] / 10}% \")\n",
        "    print(\"<<<<<<<<<<<<<<<<<<<<<<<<<<<<<<<<<<<<<\")"
      ],
      "metadata": {
        "colab": {
          "base_uri": "https://localhost:8080/"
        },
        "id": "0Qi1MNHoQWER",
        "outputId": "5202e002-c412-4f20-9c08-af07786dfa13"
      },
      "execution_count": null,
      "outputs": [
        {
          "output_type": "stream",
          "name": "stdout",
          "text": [
            "Class: 0\n",
            "Number of Wrong Prediction: 123 out of 1000\n",
            "Percentage of True Prediction: 87.7% \n",
            "<<<<<<<<<<<<<<<<<<<<<<<<<<<<<<<<<<<<<\n",
            "Class: 1\n",
            "Number of Wrong Prediction: 29 out of 1000\n",
            "Percentage of True Prediction: 97.1% \n",
            "<<<<<<<<<<<<<<<<<<<<<<<<<<<<<<<<<<<<<\n",
            "Class: 2\n",
            "Number of Wrong Prediction: 179 out of 1000\n",
            "Percentage of True Prediction: 82.1% \n",
            "<<<<<<<<<<<<<<<<<<<<<<<<<<<<<<<<<<<<<\n",
            "Class: 3\n",
            "Number of Wrong Prediction: 85 out of 1000\n",
            "Percentage of True Prediction: 91.5% \n",
            "<<<<<<<<<<<<<<<<<<<<<<<<<<<<<<<<<<<<<\n",
            "Class: 4\n",
            "Number of Wrong Prediction: 158 out of 1000\n",
            "Percentage of True Prediction: 84.2% \n",
            "<<<<<<<<<<<<<<<<<<<<<<<<<<<<<<<<<<<<<\n",
            "Class: 5\n",
            "Number of Wrong Prediction: 30 out of 1000\n",
            "Percentage of True Prediction: 97.0% \n",
            "<<<<<<<<<<<<<<<<<<<<<<<<<<<<<<<<<<<<<\n",
            "Class: 6\n",
            "Number of Wrong Prediction: 344 out of 1000\n",
            "Percentage of True Prediction: 65.6% \n",
            "<<<<<<<<<<<<<<<<<<<<<<<<<<<<<<<<<<<<<\n",
            "Class: 7\n",
            "Number of Wrong Prediction: 32 out of 1000\n",
            "Percentage of True Prediction: 96.8% \n",
            "<<<<<<<<<<<<<<<<<<<<<<<<<<<<<<<<<<<<<\n",
            "Class: 8\n",
            "Number of Wrong Prediction: 28 out of 1000\n",
            "Percentage of True Prediction: 97.2% \n",
            "<<<<<<<<<<<<<<<<<<<<<<<<<<<<<<<<<<<<<\n",
            "Class: 9\n",
            "Number of Wrong Prediction: 45 out of 1000\n",
            "Percentage of True Prediction: 95.5% \n",
            "<<<<<<<<<<<<<<<<<<<<<<<<<<<<<<<<<<<<<\n"
          ]
        }
      ]
    },
    {
      "cell_type": "markdown",
      "source": [
        "As you can see above we should focus on especially Class 6 to improve our score, Class 0 , Class 2 and Class 4"
      ],
      "metadata": {
        "id": "sUck51-HUnrZ"
      }
    }
  ]
}