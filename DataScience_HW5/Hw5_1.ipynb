{
  "nbformat": 4,
  "nbformat_minor": 0,
  "metadata": {
    "colab": {
      "provenance": [],
      "authorship_tag": "ABX9TyPOKkYOlzqmkmXdD1WL1l7f",
      "include_colab_link": true
    },
    "kernelspec": {
      "name": "python3",
      "display_name": "Python 3"
    },
    "language_info": {
      "name": "python"
    }
  },
  "cells": [
    {
      "cell_type": "markdown",
      "metadata": {
        "id": "view-in-github",
        "colab_type": "text"
      },
      "source": [
        "<a href=\"https://colab.research.google.com/github/SaifuliAnna/DataScience_HW5/blob/main/Hw5_1.ipynb\" target=\"_parent\"><img src=\"https://colab.research.google.com/assets/colab-badge.svg\" alt=\"Open In Colab\"/></a>"
      ]
    },
    {
      "cell_type": "markdown",
      "source": [
        "# Первая часть\n",
        "\n",
        "Для прямоугольной области площадью 1000 м2, примыкающей к прямому участку реки, необходимо построить ограду (причем со стороны реки ограду строить не нужно). При каких размерах области $a$, $b$ длина ограды будет минимальной? Используйте функцию $minimize$ с параметрами ограничениями $bounds$ и $constraints$"
      ],
      "metadata": {
        "id": "uDax4-wyDcza"
      }
    },
    {
      "cell_type": "code",
      "execution_count": null,
      "metadata": {
        "id": "WtuQF7F6ktb4"
      },
      "outputs": [],
      "source": [
        "from scipy.optimize import minimize\n",
        "import numpy as np"
      ]
    },
    {
      "cell_type": "markdown",
      "source": [
        "# 1"
      ],
      "metadata": {
        "id": "X9SlN8hLss6M"
      }
    },
    {
      "cell_type": "code",
      "source": [
        "def f_1(l):\n",
        "    x, y = l\n",
        "    return 2 * x + y"
      ],
      "metadata": {
        "id": "jdk4jVuia3v6"
      },
      "execution_count": null,
      "outputs": []
    },
    {
      "cell_type": "code",
      "source": [
        "m_z3 = minimize(f_1, ([0], [50]), bounds=((0, None), (0, None)), constraints=({'type': 'eq', 'fun': lambda x: x[0] * x[1] - 1000}))\n",
        "m_z3"
      ],
      "metadata": {
        "colab": {
          "base_uri": "https://localhost:8080/"
        },
        "id": "dNcUQgUos2kt",
        "outputId": "e3eecf31-8319-4b63-b4c4-3a3c9d624cb2"
      },
      "execution_count": null,
      "outputs": [
        {
          "output_type": "execute_result",
          "data": {
            "text/plain": [
              "     fun: 89.44271910649056\n",
              "     jac: array([2., 1.])\n",
              " message: 'Optimization terminated successfully'\n",
              "    nfev: 25\n",
              "     nit: 8\n",
              "    njev: 8\n",
              "  status: 0\n",
              " success: True\n",
              "       x: array([22.36097616, 44.72076678])"
            ]
          },
          "metadata": {},
          "execution_count": 268
        }
      ]
    },
    {
      "cell_type": "markdown",
      "source": [
        "# 2"
      ],
      "metadata": {
        "id": "GiXY9UnmswCN"
      }
    },
    {
      "cell_type": "code",
      "source": [
        "def f(x):\n",
        "    return 2 * x[0] + x[1]"
      ],
      "metadata": {
        "id": "PccJ76LzsKVR"
      },
      "execution_count": null,
      "outputs": []
    },
    {
      "cell_type": "code",
      "source": [
        "bounds=((0, 100), (0, 100))"
      ],
      "metadata": {
        "id": "6tOZKq9lnQES"
      },
      "execution_count": null,
      "outputs": []
    },
    {
      "cell_type": "code",
      "source": [
        "constraints=({'type': 'eq', 'fun': lambda x: x[0] * x[1] - 1000})"
      ],
      "metadata": {
        "id": "JCGclFY-oGrJ"
      },
      "execution_count": null,
      "outputs": []
    },
    {
      "cell_type": "code",
      "source": [
        "m_z3 = minimize(f, ([0], [100]), bounds=bounds, constraints=constraints)\n",
        "m_z3"
      ],
      "metadata": {
        "colab": {
          "base_uri": "https://localhost:8080/"
        },
        "id": "TwV84pjxcqSb",
        "outputId": "074ab143-a828-49a5-c8c3-6f14e2c81249"
      },
      "execution_count": null,
      "outputs": [
        {
          "output_type": "execute_result",
          "data": {
            "text/plain": [
              "     fun: 89.44271919981466\n",
              "     jac: array([2., 1.])\n",
              " message: 'Optimization terminated successfully'\n",
              "    nfev: 36\n",
              "     nit: 12\n",
              "    njev: 12\n",
              "  status: 0\n",
              " success: True\n",
              "       x: array([22.35957402, 44.72357116])"
            ]
          },
          "metadata": {},
          "execution_count": 265
        }
      ]
    }
  ]
}