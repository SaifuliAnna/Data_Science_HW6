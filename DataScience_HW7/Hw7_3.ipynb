{
  "cells": [
    {
      "cell_type": "markdown",
      "metadata": {
        "id": "view-in-github",
        "colab_type": "text"
      },
      "source": [
        "<a href=\"https://colab.research.google.com/github/SaifuliAnna/DataScience_HW7/blob/main/Hw7_3.ipynb\" target=\"_parent\"><img src=\"https://colab.research.google.com/assets/colab-badge.svg\" alt=\"Open In Colab\"/></a>"
      ]
    },
    {
      "cell_type": "code",
      "execution_count": 32,
      "metadata": {
        "id": "iAcJqQYWBr9d"
      },
      "outputs": [],
      "source": [
        "import pandas as pd \n",
        "import numpy as np"
      ]
    },
    {
      "cell_type": "code",
      "execution_count": 74,
      "metadata": {
        "id": "xJPgmUEI9iuc"
      },
      "outputs": [],
      "source": [
        "from sklearn.linear_model import LinearRegression\n",
        "from sklearn.model_selection import train_test_split\n",
        "\n",
        "from sklearn.datasets import load_diabetes\n",
        "from sklearn import model_selection, datasets, linear_model, preprocessing, pipeline, metrics\n",
        "from sklearn.multiclass import OneVsOneClassifier\n",
        "from sklearn.svm import SVC"
      ]
    },
    {
      "cell_type": "markdown",
      "source": [
        "#First"
      ],
      "metadata": {
        "id": "hfqcRPQMs9-s"
      }
    },
    {
      "cell_type": "code",
      "source": [
        "diabetes_dataset = datasets.load_diabetes()"
      ],
      "metadata": {
        "id": "QTrp2JXuAYnH"
      },
      "execution_count": 75,
      "outputs": []
    },
    {
      "cell_type": "code",
      "source": [
        "X = diabetes_dataset.data\n",
        "y = diabetes_dataset.target"
      ],
      "metadata": {
        "id": "Y_fZT979Ahg7"
      },
      "execution_count": 76,
      "outputs": []
    },
    {
      "cell_type": "code",
      "source": [
        "X_train, X_test, y_train, y_test = model_selection.train_test_split(X, y, test_size=0.2, random_state=57)\n",
        "\n",
        "scaler = preprocessing.StandardScaler().fit(np.expand_dims(y_train, 1))\n",
        "\n",
        "y_scal_tr = scaler.transform(np.expand_dims(y_train, 1))\n",
        "y_scal_te = scaler.transform(np.expand_dims(y_test, 1))\n",
        "\n",
        "logreg_d_mod = linear_model.LinearRegression()\n",
        "logreg_d_mod.fit(X_train, y_scal_tr)\n"
      ],
      "metadata": {
        "colab": {
          "base_uri": "https://localhost:8080/"
        },
        "id": "nuRvc3OVslEr",
        "outputId": "8f4f037c-687a-4a50-b069-d473d5c34384"
      },
      "execution_count": 78,
      "outputs": [
        {
          "output_type": "execute_result",
          "data": {
            "text/plain": [
              "LinearRegression()"
            ]
          },
          "metadata": {},
          "execution_count": 78
        }
      ]
    },
    {
      "cell_type": "code",
      "source": [
        "logreg_d_mod.score(X_test, y_scal_te)"
      ],
      "metadata": {
        "colab": {
          "base_uri": "https://localhost:8080/"
        },
        "id": "HseGXUEJBNcF",
        "outputId": "0802b20b-902b-4da0-e1e2-e334095a55d5"
      },
      "execution_count": 79,
      "outputs": [
        {
          "output_type": "execute_result",
          "data": {
            "text/plain": [
              "0.5406547977344645"
            ]
          },
          "metadata": {},
          "execution_count": 79
        }
      ]
    },
    {
      "cell_type": "code",
      "source": [
        "te_y_predict = logreg_d_mod.predict(X_test)\n",
        "# te_y_predict"
      ],
      "metadata": {
        "id": "SyPoP27tBbiJ"
      },
      "execution_count": 84,
      "outputs": []
    },
    {
      "cell_type": "code",
      "source": [
        "metrics.mean_absolute_error(y_test, te_y_predict)"
      ],
      "metadata": {
        "colab": {
          "base_uri": "https://localhost:8080/"
        },
        "id": "FaTOX-HxClz2",
        "outputId": "c58d8f5b-8afb-488d-e898-e4cb038e9d60"
      },
      "execution_count": 87,
      "outputs": [
        {
          "output_type": "execute_result",
          "data": {
            "text/plain": [
              "147.632971934025"
            ]
          },
          "metadata": {},
          "execution_count": 87
        }
      ]
    },
    {
      "cell_type": "markdown",
      "source": [
        "# Second"
      ],
      "metadata": {
        "id": "6z0vR4wWsmT1"
      }
    },
    {
      "cell_type": "code",
      "execution_count": 105,
      "metadata": {
        "id": "qqRvixj6o7XA"
      },
      "outputs": [],
      "source": [
        "from sklearn.linear_model import LogisticRegression\n",
        "from sklearn.model_selection import train_test_split\n",
        "\n",
        "from sklearn.metrics import classification_report\n",
        "from sklearn.metrics import confusion_matrix"
      ]
    },
    {
      "cell_type": "code",
      "source": [
        "diabetes_dataset = load_diabetes()"
      ],
      "metadata": {
        "id": "EoP_5GtK-9p6"
      },
      "execution_count": 106,
      "outputs": []
    },
    {
      "cell_type": "code",
      "execution_count": 107,
      "metadata": {
        "id": "wOpvsRYCpHW_"
      },
      "outputs": [],
      "source": [
        "X = diabetes_dataset.data\n",
        "y = diabetes_dataset.target"
      ]
    },
    {
      "cell_type": "code",
      "source": [
        "(X.shape, y.shape)"
      ],
      "metadata": {
        "colab": {
          "base_uri": "https://localhost:8080/"
        },
        "id": "ZQ3e7AbOU3uL",
        "outputId": "1bc0e612-371e-4503-a371-7b5ee109eea8"
      },
      "execution_count": 108,
      "outputs": [
        {
          "output_type": "execute_result",
          "data": {
            "text/plain": [
              "((442, 10), (442,))"
            ]
          },
          "metadata": {},
          "execution_count": 108
        }
      ]
    },
    {
      "cell_type": "code",
      "source": [
        "# pd.DataFrame(diabetes_dataset.data).info();"
      ],
      "metadata": {
        "id": "WJ0snfyxrHKY"
      },
      "execution_count": null,
      "outputs": []
    },
    {
      "cell_type": "code",
      "source": [
        "logreg_d_2 = LogisticRegression()\n",
        "X_train, X_test, y_train, y_test = train_test_split(X, y, test_size=0.14, random_state=31)\n",
        "logreg_d_2.fit(X_train, y_train)\n",
        "y_pred = logreg_d_2.predict(X_test)\n",
        "\n",
        "logreg_d_2.score(X_test, y_test)"
      ],
      "metadata": {
        "colab": {
          "base_uri": "https://localhost:8080/"
        },
        "id": "q2Nkwtr12Rru",
        "outputId": "208004c3-60bb-4da2-91f5-efa8d305dc8e"
      },
      "execution_count": 109,
      "outputs": [
        {
          "output_type": "execute_result",
          "data": {
            "text/plain": [
              "0.03225806451612903"
            ]
          },
          "metadata": {},
          "execution_count": 109
        }
      ]
    }
  ],
  "metadata": {
    "colab": {
      "provenance": [],
      "authorship_tag": "ABX9TyNxk3q8PoryryAbFLhWqUaH",
      "include_colab_link": true
    },
    "kernelspec": {
      "display_name": "Python 3",
      "name": "python3"
    },
    "language_info": {
      "name": "python"
    }
  },
  "nbformat": 4,
  "nbformat_minor": 0
}