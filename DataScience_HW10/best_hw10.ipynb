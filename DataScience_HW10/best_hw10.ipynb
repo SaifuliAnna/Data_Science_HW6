{
  "nbformat": 4,
  "nbformat_minor": 0,
  "metadata": {
    "colab": {
      "provenance": [],
      "authorship_tag": "ABX9TyMTntAXUV5FD9zcthApGEiV",
      "include_colab_link": true
    },
    "kernelspec": {
      "name": "python3",
      "display_name": "Python 3"
    },
    "language_info": {
      "name": "python"
    },
    "accelerator": "GPU",
    "gpuClass": "standard"
  },
  "cells": [
    {
      "cell_type": "markdown",
      "metadata": {
        "id": "view-in-github",
        "colab_type": "text"
      },
      "source": [
        "<a href=\"https://colab.research.google.com/github/SaifuliAnna/DataScience_HW10/blob/main/best_hw10.ipynb\" target=\"_parent\"><img src=\"https://colab.research.google.com/assets/colab-badge.svg\" alt=\"Open In Colab\"/></a>"
      ]
    },
    {
      "cell_type": "code",
      "source": [
        "import matplotlib.pyplot as plt\n",
        "\n",
        "from keras.datasets import fashion_mnist\n",
        "\n",
        "from keras.optimizers import Adam, RMSprop\n",
        "\n",
        "from keras.models import Sequential\n",
        "from keras.layers import Dense, Flatten, Conv2D, MaxPooling2D\n",
        "from keras import optimizers\n",
        "from keras import losses\n",
        "from keras import metrics"
      ],
      "metadata": {
        "id": "JzJGZhVAgKd9"
      },
      "execution_count": null,
      "outputs": []
    },
    {
      "cell_type": "code",
      "execution_count": null,
      "metadata": {
        "colab": {
          "base_uri": "https://localhost:8080/"
        },
        "id": "bneMnzx4erNU",
        "outputId": "11f7ca68-6816-410e-c199-540b92da4a4f"
      },
      "outputs": [
        {
          "output_type": "stream",
          "name": "stdout",
          "text": [
            "Epoch 1/22\n",
            "70/70 [==============================] - 7s 79ms/step - loss: 2.6637 - sparse_categorical_accuracy: 0.6664 - val_loss: 0.4187 - val_sparse_categorical_accuracy: 0.8495\n",
            "Epoch 2/22\n",
            "70/70 [==============================] - 5s 74ms/step - loss: 0.4288 - sparse_categorical_accuracy: 0.8486 - val_loss: 0.3314 - val_sparse_categorical_accuracy: 0.8788\n",
            "Epoch 3/22\n",
            "70/70 [==============================] - 6s 86ms/step - loss: 0.3630 - sparse_categorical_accuracy: 0.8714 - val_loss: 0.3058 - val_sparse_categorical_accuracy: 0.8882\n",
            "Epoch 4/22\n",
            "70/70 [==============================] - 5s 76ms/step - loss: 0.3208 - sparse_categorical_accuracy: 0.8846 - val_loss: 0.3099 - val_sparse_categorical_accuracy: 0.8859\n",
            "Epoch 5/22\n",
            "70/70 [==============================] - 6s 86ms/step - loss: 0.2902 - sparse_categorical_accuracy: 0.8946 - val_loss: 0.2681 - val_sparse_categorical_accuracy: 0.9036\n",
            "Epoch 6/22\n",
            "70/70 [==============================] - 6s 80ms/step - loss: 0.2684 - sparse_categorical_accuracy: 0.9020 - val_loss: 0.2716 - val_sparse_categorical_accuracy: 0.9019\n",
            "Epoch 7/22\n",
            "70/70 [==============================] - 6s 86ms/step - loss: 0.2466 - sparse_categorical_accuracy: 0.9109 - val_loss: 0.2483 - val_sparse_categorical_accuracy: 0.9081\n",
            "Epoch 8/22\n",
            "70/70 [==============================] - 6s 82ms/step - loss: 0.2232 - sparse_categorical_accuracy: 0.9186 - val_loss: 0.2508 - val_sparse_categorical_accuracy: 0.9098\n",
            "Epoch 9/22\n",
            "70/70 [==============================] - 5s 75ms/step - loss: 0.2071 - sparse_categorical_accuracy: 0.9250 - val_loss: 0.2556 - val_sparse_categorical_accuracy: 0.9119\n",
            "Epoch 10/22\n",
            "70/70 [==============================] - 6s 87ms/step - loss: 0.1946 - sparse_categorical_accuracy: 0.9283 - val_loss: 0.2370 - val_sparse_categorical_accuracy: 0.9144\n",
            "Epoch 11/22\n",
            "70/70 [==============================] - 6s 87ms/step - loss: 0.1828 - sparse_categorical_accuracy: 0.9336 - val_loss: 0.2532 - val_sparse_categorical_accuracy: 0.9122\n",
            "Epoch 12/22\n",
            "70/70 [==============================] - 6s 87ms/step - loss: 0.1670 - sparse_categorical_accuracy: 0.9382 - val_loss: 0.2635 - val_sparse_categorical_accuracy: 0.9101\n",
            "Epoch 13/22\n",
            "70/70 [==============================] - 5s 76ms/step - loss: 0.1639 - sparse_categorical_accuracy: 0.9391 - val_loss: 0.2527 - val_sparse_categorical_accuracy: 0.9135\n",
            "Epoch 14/22\n",
            "70/70 [==============================] - 6s 87ms/step - loss: 0.1463 - sparse_categorical_accuracy: 0.9446 - val_loss: 0.2484 - val_sparse_categorical_accuracy: 0.9113\n",
            "Epoch 15/22\n",
            "70/70 [==============================] - 6s 87ms/step - loss: 0.1378 - sparse_categorical_accuracy: 0.9482 - val_loss: 0.2627 - val_sparse_categorical_accuracy: 0.9162\n",
            "Epoch 16/22\n",
            "70/70 [==============================] - 6s 79ms/step - loss: 0.1251 - sparse_categorical_accuracy: 0.9510 - val_loss: 0.2642 - val_sparse_categorical_accuracy: 0.9186\n",
            "Epoch 17/22\n",
            "70/70 [==============================] - 6s 88ms/step - loss: 0.1157 - sparse_categorical_accuracy: 0.9570 - val_loss: 0.2837 - val_sparse_categorical_accuracy: 0.9132\n",
            "Epoch 18/22\n",
            "70/70 [==============================] - 5s 77ms/step - loss: 0.1088 - sparse_categorical_accuracy: 0.9593 - val_loss: 0.2705 - val_sparse_categorical_accuracy: 0.9194\n",
            "Epoch 19/22\n",
            "70/70 [==============================] - 6s 88ms/step - loss: 0.1017 - sparse_categorical_accuracy: 0.9611 - val_loss: 0.2960 - val_sparse_categorical_accuracy: 0.9200\n",
            "Epoch 20/22\n",
            "70/70 [==============================] - 5s 75ms/step - loss: 0.0875 - sparse_categorical_accuracy: 0.9683 - val_loss: 0.2991 - val_sparse_categorical_accuracy: 0.9162\n",
            "Epoch 21/22\n",
            "70/70 [==============================] - 6s 88ms/step - loss: 0.0870 - sparse_categorical_accuracy: 0.9666 - val_loss: 0.3088 - val_sparse_categorical_accuracy: 0.9157\n",
            "Epoch 22/22\n",
            "70/70 [==============================] - 6s 88ms/step - loss: 0.0813 - sparse_categorical_accuracy: 0.9686 - val_loss: 0.3229 - val_sparse_categorical_accuracy: 0.9170\n"
          ]
        }
      ],
      "source": [
        "from keras.layers.regularization.dropout import Dropout\n",
        "from keras.backend import dropout\n",
        "import numpy as np\n",
        "import tensorflow as tf\n",
        "from tensorflow import keras\n",
        "\n",
        "# Завантаження набору даних Fashion MNIST\n",
        "(x_train, y_train), (x_test, y_test) = fashion_mnist.load_data()\n",
        "\n",
        "x_train = np.expand_dims(x_train, -1)\n",
        "x_test = np.expand_dims(x_test, -1)\n",
        "\n",
        "# Створення моделі \n",
        "model = Sequential([\n",
        "    Conv2D(64, (5, 5), padding=\"same\",\n",
        "\t\t\t\t\tactivation=\"relu\",\n",
        "\t\t\t\t\tinput_shape=(28, 28, 1)),\n",
        "\n",
        "    MaxPooling2D(pool_size=(2, 2)),\n",
        "\n",
        "    Conv2D(128, (5, 5), padding=\"same\",\n",
        "\t\t\t\t\tactivation=\"relu\"),\n",
        "\n",
        "    MaxPooling2D(pool_size=(2, 2)),\n",
        "\t  Conv2D(256, (5, 5), padding=\"same\",\n",
        "\t\t\t\t\tactivation=\"relu\"),\n",
        "\t\n",
        "\t  MaxPooling2D(pool_size=(2, 2)),\n",
        "\n",
        "    Flatten(),\n",
        "    # Flatten(input_shape=(28, 28)),\n",
        "    Dense(256, activation='relu', name = 'hidden_1'),\n",
        "\t\tDropout(0.5),\n",
        "\n",
        "    Dense(10, activation='softmax', name = 'output')\n",
        "])\n",
        "\n",
        "# Компіляція моделі\n",
        "model.compile(optimizer='adam',\n",
        "              loss='sparse_categorical_crossentropy',\n",
        "              metrics=['sparse_categorical_accuracy'])\n",
        "\n",
        "# Навчання моделі\n",
        "history = model.fit(\n",
        "\tx_train.astype(np.float32), y_train.astype(np.float32),\n",
        "\tepochs=22,\n",
        "\tsteps_per_epoch=70,\n",
        "\tvalidation_split=0.33\n",
        ")\n"
      ]
    },
    {
      "cell_type": "code",
      "source": [
        "# Оцінка моделі на тестових даних \n",
        "test_loss, test_acc = model.evaluate(x_test, y_test)\n",
        "print('Test accuracy:', test_acc)"
      ],
      "metadata": {
        "colab": {
          "base_uri": "https://localhost:8080/"
        },
        "id": "O3qWeDr7hNuX",
        "outputId": "31b15567-1a6f-48bb-c5c4-6852d178c694"
      },
      "execution_count": null,
      "outputs": [
        {
          "output_type": "stream",
          "name": "stdout",
          "text": [
            "313/313 [==============================] - 1s 4ms/step - loss: 0.3628 - sparse_categorical_accuracy: 0.9132\n",
            "Test accuracy: 0.9132000207901001\n"
          ]
        }
      ]
    },
    {
      "cell_type": "code",
      "source": [
        "# Accuracy vs Epoch plot\n",
        "plt.plot(history.history['sparse_categorical_accuracy'])\n",
        "plt.plot(history.history['val_sparse_categorical_accuracy'])\n",
        "plt.title('Model Accuracy')\n",
        "plt.ylabel('Accuracy')\n",
        "plt.xlabel('epoch')\n",
        "plt.legend(['train', 'val'], loc='upper left')\n",
        "plt.show()\n",
        "\n",
        "# Loss vs Epoch plot\n",
        "plt.plot(history.history['loss'])\n",
        "plt.plot(history.history['val_loss'])\n",
        "plt.title('Model Loss')\n",
        "plt.ylabel('Loss')\n",
        "plt.xlabel('epoch')\n",
        "plt.legend(['train', 'val'], loc='upper left')\n",
        "plt.show()"
      ],
      "metadata": {
        "colab": {
          "base_uri": "https://localhost:8080/",
          "height": 573
        },
        "id": "xd05hW-NhBfC",
        "outputId": "51cae455-1fed-4419-a157-1f4318f95a54"
      },
      "execution_count": null,
      "outputs": [
        {
          "output_type": "display_data",
          "data": {
            "text/plain": [
              "<Figure size 432x288 with 1 Axes>"
            ],
            "image/png": "[encoded data removed]"
          },
          "metadata": {
            "needs_background": "light"
          }
        },
        {
          "output_type": "display_data",
          "data": {
            "text/plain": [
              "<Figure size 432x288 with 1 Axes>"
            ],
            "image/png": "[encoded data removed]"
          },
          "metadata": {
            "needs_background": "light"
          }
        }
      ]
    },
    {
      "cell_type": "code",
      "source": [
        "model.save_weights('./model.h5', overwrite=True)"
      ],
      "metadata": {
        "id": "vjRp0OOMevbs"
      },
      "execution_count": null,
      "outputs": []
    },
    {
      "cell_type": "code",
      "source": [
        "model.save(\"my_model_2\")"
      ],
      "metadata": {
        "colab": {
          "base_uri": "https://localhost:8080/"
        },
        "id": "fuXwtende3bI",
        "outputId": "ea1354f1-9d76-4471-f118-c75bbe51e12a"
      },
      "execution_count": null,
      "outputs": [
        {
          "output_type": "stream",
          "name": "stderr",
          "text": [
            "WARNING:absl:Found untraced functions such as _jit_compiled_convolution_op, _jit_compiled_convolution_op, _jit_compiled_convolution_op while saving (showing 3 of 3). These functions will not be directly callable after loading.\n"
          ]
        }
      ]
    },
    {
      "cell_type": "code",
      "source": [
        "# from google.colab import drive\n",
        "# drive.mount('/content/drive')"
      ],
      "metadata": {
        "id": "14aDn7PafIjv"
      },
      "execution_count": null,
      "outputs": []
    },
    {
      "cell_type": "markdown",
      "source": [
        "Існує кілька способів покращити модель, яку ми створили раніше для класифікації зображень з Fashion MNIST. Ось кілька рекомендацій:\n",
        "\n",
        "    Додайте більше прихованих шарів або збільшіть кількість нейронів в прихованих шарах. Це дозволить моделі отримати більше інформації про зображення та здатність більш точно класифікувати їх.\n",
        "\n",
        "    Використовуйте інші функції активації в прихованих шарах, наприклад, leaky ReLU, sigmoid або tanh. Ви можете спробувати різні функції активації та порівняти їх результати.\n",
        "\n",
        "    Використовуйте метод Dropout для зменшення перенавчання (overfitting) моделі. Dropout випадковим чином вимикає нейрони в прихованих шарах під час навчання, що дозволяє моделі вивчати більш узагальнені ознаки зображень.\n",
        "\n",
        "    Збільшіть кількість епох навчання або використовуйте різні методи навчання, наприклад, пакетне навчання (batch training) або стохастичний градієнтний спуск (stochastic gradient descent).\n",
        "\n",
        "    Використовуйте передньо навчені моделі, які навчалися на великих наборах даних зображень, наприклад, ResNet, Inception або VGG. Використання передньо навченої моделі дозволить значно покращити точність класифікації зображень.\n",
        "\n",
        "    Збільшіть розмір зображень, що використовуються для навчання моделі. Якщо зображення збільшуються, модель матиме більше деталей для аналізу та може точніше класифікувати зображення.\n",
        "\n",
        "Ці рекомендації можна комбінувати для отримання ще кращої моделі. Наприклад, можна додати декілька прихованих шарів, використовувати функці\n"
      ],
      "metadata": {
        "id": "EMNDc16Rf4iA"
      }
    }
  ]
}