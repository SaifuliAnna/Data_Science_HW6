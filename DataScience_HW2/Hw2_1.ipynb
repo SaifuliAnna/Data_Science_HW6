{
  "nbformat": 4,
  "nbformat_minor": 0,
  "metadata": {
    "colab": {
      "provenance": [],
      "authorship_tag": "ABX9TyMVeNq77YrZby5LKylrS8Ib",
      "include_colab_link": true
    },
    "kernelspec": {
      "name": "python3",
      "display_name": "Python 3"
    },
    "language_info": {
      "name": "python"
    },
    "accelerator": "TPU",
    "gpuClass": "standard"
  },
  "cells": [
    {
      "cell_type": "markdown",
      "metadata": {
        "id": "view-in-github",
        "colab_type": "text"
      },
      "source": [
        "<a href=\"https://colab.research.google.com/github/SaifuliAnna/DataScience_HW2/blob/main/Hw2_1.ipynb\" target=\"_parent\"><img src=\"https://colab.research.google.com/assets/colab-badge.svg\" alt=\"Open In Colab\"/></a>"
      ]
    },
    {
      "cell_type": "markdown",
      "source": [
        "# **Часть первая: Знакомство с Pandas.**"
      ],
      "metadata": {
        "id": "bJZbLUVEdXR9"
      }
    },
    {
      "cell_type": "markdown",
      "source": [
        "# Новый раздел"
      ],
      "metadata": {
        "id": "LF9b1SzFiySn"
      }
    },
    {
      "cell_type": "code",
      "source": [
        "!pip install lxml"
      ],
      "metadata": {
        "id": "mQhQ9VAsoKSQ",
        "colab": {
          "base_uri": "https://localhost:8080/"
        },
        "outputId": "8da92669-1007-4324-e984-1196a1ba9ca6"
      },
      "execution_count": 1,
      "outputs": [
        {
          "output_type": "stream",
          "name": "stdout",
          "text": [
            "Looking in indexes: https://pypi.org/simple, https://us-python.pkg.dev/colab-wheels/public/simple/\n",
            "Requirement already satisfied: lxml in /usr/local/lib/python3.8/dist-packages (4.9.2)\n"
          ]
        }
      ]
    },
    {
      "cell_type": "code",
      "execution_count": 2,
      "metadata": {
        "id": "9LqOBej6QSs9"
      },
      "outputs": [],
      "source": [
        "import pandas as pd"
      ]
    },
    {
      "cell_type": "code",
      "source": [
        "import numpy as np"
      ],
      "metadata": {
        "id": "Nr-zPLu2r6oi"
      },
      "execution_count": 3,
      "outputs": []
    },
    {
      "cell_type": "code",
      "source": [
        "import matplotlib.pyplot as plt"
      ],
      "metadata": {
        "id": "2dslEuj9r94y"
      },
      "execution_count": 4,
      "outputs": []
    },
    {
      "cell_type": "code",
      "source": [
        "from unicodedata import normalize"
      ],
      "metadata": {
        "id": "7s350bOxsAmK"
      },
      "execution_count": 5,
      "outputs": []
    },
    {
      "cell_type": "markdown",
      "source": [
        "# 1. Прочитайте данные с помощью метода read_html из таблицы \"Коефіцієнт народжуваності в регіонах України (1950—2019)\" по ссылке"
      ],
      "metadata": {
        "id": "mbVuzAiY-e40"
      }
    },
    {
      "cell_type": "markdown",
      "source": [
        "# **First**"
      ],
      "metadata": {
        "id": "ychG52yMCbhG"
      }
    },
    {
      "cell_type": "code",
      "source": [
        "tmp = pd.read_html(\"https://uk.wikipedia.org/wiki/%D0%9D%D0%B0%D1%81%D0%B5%D0%BB%D0%B5%D0%BD%D0%BD%D1%8F_%D0%A3%D0%BA%D1%80%D0%B0%D1%97%D0%BD%D0%B8\", thousands='.', decimal=\",\")"
      ],
      "metadata": {
        "id": "E2YVlHfLe5rg"
      },
      "execution_count": 6,
      "outputs": []
    },
    {
      "cell_type": "code",
      "source": [
        "len (tmp)"
      ],
      "metadata": {
        "id": "N2EObI8wsGsP",
        "colab": {
          "base_uri": "https://localhost:8080/"
        },
        "outputId": "34bf3a30-0a06-4d5d-c710-a61c4c5fdf2d"
      },
      "execution_count": 7,
      "outputs": [
        {
          "output_type": "execute_result",
          "data": {
            "text/plain": [
              "73"
            ]
          },
          "metadata": {},
          "execution_count": 7
        }
      ]
    },
    {
      "cell_type": "code",
      "source": [
        "print(tmp)"
      ],
      "metadata": {
        "id": "XNNUAGKmaIKR"
      },
      "execution_count": null,
      "outputs": []
    },
    {
      "cell_type": "code",
      "source": [
        "n = 0\n",
        "for t in tmp:\n",
        "    n += 1\n",
        "    print(f\"'{n-1}'{t}\")"
      ],
      "metadata": {
        "id": "wKIrQ0kM6K4e"
      },
      "execution_count": null,
      "outputs": []
    },
    {
      "cell_type": "code",
      "source": [
        "print(tmp[10])"
      ],
      "metadata": {
        "id": "CJvWnoo7V2Mp",
        "colab": {
          "base_uri": "https://localhost:8080/"
        },
        "outputId": "ee9de98a-cf06-470e-a7ab-1e40f32e52ac"
      },
      "execution_count": 10,
      "outputs": [
        {
          "output_type": "stream",
          "name": "stdout",
          "text": [
            "               Регіон  1950  1960  1970  1990  2000  2012  2014  2019\n",
            "0                Крим  23.0  20.6  16.0  13.0   7.3  12.6     —     —\n",
            "1           Вінницька  22.4  19.2  14.2  12.4   8.4  11.2  10.9   7.6\n",
            "2           Волинська  24.7  25.0  17.9  15.3  11.2  14.8  14.1  10.1\n",
            "3    Дніпропетровська  20.4  20.4  15.1  12.3   7.1  11.2  11.1   7.1\n",
            "4            Донецька  27.1  21.4  14.0  10.9   6.1   9.8   8.2     —\n",
            "5         Житомирська  26.1  22.3  15.9  12.9   8.9  12.2  12.0   7.9\n",
            "6        Закарпатська  31.4  27.3  20.7  16.8  11.5  15.1  14.6  10.4\n",
            "7          Запорізька  21.9  19.7  15.0  12.4   7.1  10.6  10.6   6.8\n",
            "8   Івано-Франківська  24.3  24.8  18.2  15.5  10.3  12.4  12.2   8.8\n",
            "9            Київська  20.4  18.9  15.6  12.3   7.3  12.2  12.1   8.0\n",
            "10     Кіровоградська  21.6  17.1  14.5  12.6   7.9  11.0  10.8   6.8\n",
            "11          Луганська  26.2  23.5  14.4  11.6   6.2   9.6   5.1     —\n",
            "12          Львівська  23.4  24.0  17.1  14.0   9.1  11.9  11.9   8.7\n",
            "13       Миколаївська  21.1  19.4  15.5  13.7   8.0  11.5  11.2   7.1\n",
            "14            Одеська  24.1  19.2  14.8  12.6   8.0  12.7  12.3   8.8\n",
            "15         Полтавська  18.6  16.3  13.1  11.8   7.0   9.9  10.0   6.5\n",
            "16         Рівненська  26.9  26.7  19.3  15.8  11.8  15.9  14.8  10.7\n",
            "17            Сумська  21.6  18.4  13.2  11.5   7.0   9.7   9.2   6.0\n",
            "18      Тернопільська  21.3  21.6  15.7  14.2   9.2  11.3  10.9   7.6\n",
            "19         Харківська  19.7  17.3  14.0  11.4   6.8   9.9  10.1   6.8\n",
            "20         Херсонська  20.8  21.4  16.6  14.3   8.5  11.7  11.5   8.1\n",
            "21        Хмельницька  23.4  19.8  14.8  12.9   8.5  11.3  11.2   7.9\n",
            "22          Черкаська  20.5  17.9  14.4  12.3   7.5  10.0   9.8   6.4\n",
            "23        Чернівецька  24.7  21.8  17.0  14.8  10.1  12.8  12.9   9.2\n",
            "24       Чернігівська  22.0  18.3  12.7  10.8   6.9   9.4   9.0   6.1\n",
            "25               Київ   NaN  17.4  15.9  12.0   7.3  12.0  12.1  11.0\n",
            "26        Севастополь   NaN   NaN   NaN  12.5   7.0  12.0     —     —\n",
            "27            Україна  22.8  20.5  15.2  12.6   7.8  11.4  11.1   8.1\n"
          ]
        }
      ]
    },
    {
      "cell_type": "code",
      "source": [
        "# tmp_2 = pd.read_html(\"https://uk.wikipedia.org/wiki/%D0%9D%D0%B0%D1%81%D0%B5%D0%BB%D0%B5%D0%BD%D0%BD%D1%8F_%D0%A3%D0%BA%D1%80%D0%B0%D1%97%D0%BD%D0%B8#%D0%9D%D0%B0%D1%80%D0%BE%D0%B4%D0%B6%D1%83%D0%B2%D0%B0%D0%BD%D1%96%D1%81%D1%82%D1%8C\")\n",
        "# print(tmp_2)"
      ],
      "metadata": {
        "id": "dtDjDEatRbNR"
      },
      "execution_count": 11,
      "outputs": []
    },
    {
      "cell_type": "markdown",
      "source": [
        "# **Second**"
      ],
      "metadata": {
        "id": "7L4F3IqTCov0"
      }
    },
    {
      "cell_type": "code",
      "source": [
        "tmp_m = pd.read_html(\"https://uk.wikipedia.org/wiki/%D0%9D%D0%B0%D1%81%D0%B5%D0%BB%D0%B5%D0%BD%D0%BD%D1%8F_%D0%A3%D0%BA%D1%80%D0%B0%D1%97%D0%BD%D0%B8\",\n",
        "                     match=\"(1950—2019)\", thousands='.', decimal=\",\")"
      ],
      "metadata": {
        "id": "0vlu4fGF4fwl"
      },
      "execution_count": 52,
      "outputs": []
    },
    {
      "cell_type": "code",
      "source": [
        "len(tmp_m)"
      ],
      "metadata": {
        "id": "s867eIy0440R"
      },
      "execution_count": null,
      "outputs": []
    },
    {
      "cell_type": "code",
      "source": [
        "print(tmp_m)"
      ],
      "metadata": {
        "id": "jiGZe47s5nJb"
      },
      "execution_count": null,
      "outputs": []
    },
    {
      "cell_type": "markdown",
      "source": [
        "# 1.1 - Вывести первые строки таблицы с помощью метода head"
      ],
      "metadata": {
        "id": "9hdAlePB-Qsc"
      }
    },
    {
      "cell_type": "code",
      "source": [
        "print(tmp[10].head())"
      ],
      "metadata": {
        "colab": {
          "base_uri": "https://localhost:8080/"
        },
        "id": "QROq4mMT-x_8",
        "outputId": "0d54a5bc-1f2c-472a-ea0f-eeef2066b922"
      },
      "execution_count": 15,
      "outputs": [
        {
          "output_type": "stream",
          "name": "stdout",
          "text": [
            "             Регіон  1950  1960  1970  1990  2000  2012  2014  2019\n",
            "0              Крим  23.0  20.6  16.0  13.0   7.3  12.6     —     —\n",
            "1         Вінницька  22.4  19.2  14.2  12.4   8.4  11.2  10.9   7.6\n",
            "2         Волинська  24.7  25.0  17.9  15.3  11.2  14.8  14.1  10.1\n",
            "3  Дніпропетровська  20.4  20.4  15.1  12.3   7.1  11.2  11.1   7.1\n",
            "4          Донецька  27.1  21.4  14.0  10.9   6.1   9.8   8.2     —\n"
          ]
        }
      ]
    },
    {
      "cell_type": "markdown",
      "source": [
        "# 1.2 - Определите количество строк и столбцов в датафрейме (атрибут shape)"
      ],
      "metadata": {
        "id": "dRrBq09kBLf1"
      }
    },
    {
      "cell_type": "code",
      "source": [
        "tbl = tmp[10]"
      ],
      "metadata": {
        "id": "Q21S0WifBbbq"
      },
      "execution_count": 16,
      "outputs": []
    },
    {
      "cell_type": "code",
      "source": [
        "tbl.shape"
      ],
      "metadata": {
        "colab": {
          "base_uri": "https://localhost:8080/"
        },
        "id": "S-EX5B8QBplh",
        "outputId": "d15de1d0-d4d6-4a51-87cc-2848294dc61d"
      },
      "execution_count": 17,
      "outputs": [
        {
          "output_type": "execute_result",
          "data": {
            "text/plain": [
              "(28, 9)"
            ]
          },
          "metadata": {},
          "execution_count": 17
        }
      ]
    },
    {
      "cell_type": "markdown",
      "source": [
        "# 1.3 - Замените в таблице значения \"—\" на значения NaN"
      ],
      "metadata": {
        "id": "WH7eJCdJB-jh"
      }
    },
    {
      "cell_type": "code",
      "source": [
        "new_tbl = tbl.copy()"
      ],
      "metadata": {
        "id": "oQL_kpjhwofT"
      },
      "execution_count": 18,
      "outputs": []
    },
    {
      "cell_type": "code",
      "source": [
        "print(new_tbl)"
      ],
      "metadata": {
        "id": "DyQRCAbfxipw",
        "colab": {
          "base_uri": "https://localhost:8080/"
        },
        "outputId": "76c5a61a-7ab2-4636-85b3-37e37833d92e"
      },
      "execution_count": 19,
      "outputs": [
        {
          "output_type": "stream",
          "name": "stdout",
          "text": [
            "               Регіон  1950  1960  1970  1990  2000  2012  2014  2019\n",
            "0                Крим  23.0  20.6  16.0  13.0   7.3  12.6     —     —\n",
            "1           Вінницька  22.4  19.2  14.2  12.4   8.4  11.2  10.9   7.6\n",
            "2           Волинська  24.7  25.0  17.9  15.3  11.2  14.8  14.1  10.1\n",
            "3    Дніпропетровська  20.4  20.4  15.1  12.3   7.1  11.2  11.1   7.1\n",
            "4            Донецька  27.1  21.4  14.0  10.9   6.1   9.8   8.2     —\n",
            "5         Житомирська  26.1  22.3  15.9  12.9   8.9  12.2  12.0   7.9\n",
            "6        Закарпатська  31.4  27.3  20.7  16.8  11.5  15.1  14.6  10.4\n",
            "7          Запорізька  21.9  19.7  15.0  12.4   7.1  10.6  10.6   6.8\n",
            "8   Івано-Франківська  24.3  24.8  18.2  15.5  10.3  12.4  12.2   8.8\n",
            "9            Київська  20.4  18.9  15.6  12.3   7.3  12.2  12.1   8.0\n",
            "10     Кіровоградська  21.6  17.1  14.5  12.6   7.9  11.0  10.8   6.8\n",
            "11          Луганська  26.2  23.5  14.4  11.6   6.2   9.6   5.1     —\n",
            "12          Львівська  23.4  24.0  17.1  14.0   9.1  11.9  11.9   8.7\n",
            "13       Миколаївська  21.1  19.4  15.5  13.7   8.0  11.5  11.2   7.1\n",
            "14            Одеська  24.1  19.2  14.8  12.6   8.0  12.7  12.3   8.8\n",
            "15         Полтавська  18.6  16.3  13.1  11.8   7.0   9.9  10.0   6.5\n",
            "16         Рівненська  26.9  26.7  19.3  15.8  11.8  15.9  14.8  10.7\n",
            "17            Сумська  21.6  18.4  13.2  11.5   7.0   9.7   9.2   6.0\n",
            "18      Тернопільська  21.3  21.6  15.7  14.2   9.2  11.3  10.9   7.6\n",
            "19         Харківська  19.7  17.3  14.0  11.4   6.8   9.9  10.1   6.8\n",
            "20         Херсонська  20.8  21.4  16.6  14.3   8.5  11.7  11.5   8.1\n",
            "21        Хмельницька  23.4  19.8  14.8  12.9   8.5  11.3  11.2   7.9\n",
            "22          Черкаська  20.5  17.9  14.4  12.3   7.5  10.0   9.8   6.4\n",
            "23        Чернівецька  24.7  21.8  17.0  14.8  10.1  12.8  12.9   9.2\n",
            "24       Чернігівська  22.0  18.3  12.7  10.8   6.9   9.4   9.0   6.1\n",
            "25               Київ   NaN  17.4  15.9  12.0   7.3  12.0  12.1  11.0\n",
            "26        Севастополь   NaN   NaN   NaN  12.5   7.0  12.0     —     —\n",
            "27            Україна  22.8  20.5  15.2  12.6   7.8  11.4  11.1   8.1\n"
          ]
        }
      ]
    },
    {
      "cell_type": "code",
      "source": [
        "tbl_result = new_tbl.replace('—', np.nan)"
      ],
      "metadata": {
        "id": "Dhnlo8v-tJf3"
      },
      "execution_count": 20,
      "outputs": []
    },
    {
      "cell_type": "code",
      "source": [
        "print(tbl_result)"
      ],
      "metadata": {
        "colab": {
          "base_uri": "https://localhost:8080/"
        },
        "id": "B0S3xRQSv23Q",
        "outputId": "6a14de2f-2471-4e88-d5ab-aefc572d089f"
      },
      "execution_count": 21,
      "outputs": [
        {
          "output_type": "stream",
          "name": "stdout",
          "text": [
            "               Регіон  1950  1960  1970  1990  2000  2012  2014  2019\n",
            "0                Крим  23.0  20.6  16.0  13.0   7.3  12.6   NaN   NaN\n",
            "1           Вінницька  22.4  19.2  14.2  12.4   8.4  11.2  10.9   7.6\n",
            "2           Волинська  24.7  25.0  17.9  15.3  11.2  14.8  14.1  10.1\n",
            "3    Дніпропетровська  20.4  20.4  15.1  12.3   7.1  11.2  11.1   7.1\n",
            "4            Донецька  27.1  21.4  14.0  10.9   6.1   9.8   8.2   NaN\n",
            "5         Житомирська  26.1  22.3  15.9  12.9   8.9  12.2  12.0   7.9\n",
            "6        Закарпатська  31.4  27.3  20.7  16.8  11.5  15.1  14.6  10.4\n",
            "7          Запорізька  21.9  19.7  15.0  12.4   7.1  10.6  10.6   6.8\n",
            "8   Івано-Франківська  24.3  24.8  18.2  15.5  10.3  12.4  12.2   8.8\n",
            "9            Київська  20.4  18.9  15.6  12.3   7.3  12.2  12.1   8.0\n",
            "10     Кіровоградська  21.6  17.1  14.5  12.6   7.9  11.0  10.8   6.8\n",
            "11          Луганська  26.2  23.5  14.4  11.6   6.2   9.6   5.1   NaN\n",
            "12          Львівська  23.4  24.0  17.1  14.0   9.1  11.9  11.9   8.7\n",
            "13       Миколаївська  21.1  19.4  15.5  13.7   8.0  11.5  11.2   7.1\n",
            "14            Одеська  24.1  19.2  14.8  12.6   8.0  12.7  12.3   8.8\n",
            "15         Полтавська  18.6  16.3  13.1  11.8   7.0   9.9  10.0   6.5\n",
            "16         Рівненська  26.9  26.7  19.3  15.8  11.8  15.9  14.8  10.7\n",
            "17            Сумська  21.6  18.4  13.2  11.5   7.0   9.7   9.2   6.0\n",
            "18      Тернопільська  21.3  21.6  15.7  14.2   9.2  11.3  10.9   7.6\n",
            "19         Харківська  19.7  17.3  14.0  11.4   6.8   9.9  10.1   6.8\n",
            "20         Херсонська  20.8  21.4  16.6  14.3   8.5  11.7  11.5   8.1\n",
            "21        Хмельницька  23.4  19.8  14.8  12.9   8.5  11.3  11.2   7.9\n",
            "22          Черкаська  20.5  17.9  14.4  12.3   7.5  10.0   9.8   6.4\n",
            "23        Чернівецька  24.7  21.8  17.0  14.8  10.1  12.8  12.9   9.2\n",
            "24       Чернігівська  22.0  18.3  12.7  10.8   6.9   9.4   9.0   6.1\n",
            "25               Київ   NaN  17.4  15.9  12.0   7.3  12.0  12.1  11.0\n",
            "26        Севастополь   NaN   NaN   NaN  12.5   7.0  12.0   NaN   NaN\n",
            "27            Україна  22.8  20.5  15.2  12.6   7.8  11.4  11.1   8.1\n"
          ]
        }
      ]
    },
    {
      "cell_type": "markdown",
      "source": [
        "# 1.4 - Определите типы всех столбцов с помощью dataframe.dtypes"
      ],
      "metadata": {
        "id": "tAfF-8nF7i9-"
      }
    },
    {
      "cell_type": "code",
      "source": [
        "new_tbl.dtypes"
      ],
      "metadata": {
        "id": "66aY6m8D7npJ",
        "colab": {
          "base_uri": "https://localhost:8080/"
        },
        "outputId": "40e82cb6-0395-4317-e7b4-6e1e363b215e"
      },
      "execution_count": 22,
      "outputs": [
        {
          "output_type": "execute_result",
          "data": {
            "text/plain": [
              "Регіон     object\n",
              "1950      float64\n",
              "1960      float64\n",
              "1970      float64\n",
              "1990      float64\n",
              "2000      float64\n",
              "2012      float64\n",
              "2014       object\n",
              "2019       object\n",
              "dtype: object"
            ]
          },
          "metadata": {},
          "execution_count": 22
        }
      ]
    },
    {
      "cell_type": "code",
      "source": [
        "# tbl_result.dtypes"
      ],
      "metadata": {
        "id": "2Vn3yzeF9hIZ"
      },
      "execution_count": 23,
      "outputs": []
    },
    {
      "cell_type": "markdown",
      "source": [
        "# 1.5 - Замените типы не числовых колонок на числовые. Подсказка - это колонки где находился символ \"—\""
      ],
      "metadata": {
        "id": "pNn2tWSL71T6"
      }
    },
    {
      "cell_type": "code",
      "source": [
        "tbl_result_ch_0 = tbl_result.fillna(0)"
      ],
      "metadata": {
        "id": "756eUCBA75No"
      },
      "execution_count": 24,
      "outputs": []
    },
    {
      "cell_type": "code",
      "source": [
        "print(tbl_result_ch_0)"
      ],
      "metadata": {
        "colab": {
          "base_uri": "https://localhost:8080/"
        },
        "id": "QRvPuVa4_cpA",
        "outputId": "bddad2de-d978-4ab2-b7f6-166c937233ba"
      },
      "execution_count": 25,
      "outputs": [
        {
          "output_type": "stream",
          "name": "stdout",
          "text": [
            "               Регіон  1950  1960  1970  1990  2000  2012  2014  2019\n",
            "0                Крим  23.0  20.6  16.0  13.0   7.3  12.6     0     0\n",
            "1           Вінницька  22.4  19.2  14.2  12.4   8.4  11.2  10.9   7.6\n",
            "2           Волинська  24.7  25.0  17.9  15.3  11.2  14.8  14.1  10.1\n",
            "3    Дніпропетровська  20.4  20.4  15.1  12.3   7.1  11.2  11.1   7.1\n",
            "4            Донецька  27.1  21.4  14.0  10.9   6.1   9.8   8.2     0\n",
            "5         Житомирська  26.1  22.3  15.9  12.9   8.9  12.2  12.0   7.9\n",
            "6        Закарпатська  31.4  27.3  20.7  16.8  11.5  15.1  14.6  10.4\n",
            "7          Запорізька  21.9  19.7  15.0  12.4   7.1  10.6  10.6   6.8\n",
            "8   Івано-Франківська  24.3  24.8  18.2  15.5  10.3  12.4  12.2   8.8\n",
            "9            Київська  20.4  18.9  15.6  12.3   7.3  12.2  12.1   8.0\n",
            "10     Кіровоградська  21.6  17.1  14.5  12.6   7.9  11.0  10.8   6.8\n",
            "11          Луганська  26.2  23.5  14.4  11.6   6.2   9.6   5.1     0\n",
            "12          Львівська  23.4  24.0  17.1  14.0   9.1  11.9  11.9   8.7\n",
            "13       Миколаївська  21.1  19.4  15.5  13.7   8.0  11.5  11.2   7.1\n",
            "14            Одеська  24.1  19.2  14.8  12.6   8.0  12.7  12.3   8.8\n",
            "15         Полтавська  18.6  16.3  13.1  11.8   7.0   9.9  10.0   6.5\n",
            "16         Рівненська  26.9  26.7  19.3  15.8  11.8  15.9  14.8  10.7\n",
            "17            Сумська  21.6  18.4  13.2  11.5   7.0   9.7   9.2   6.0\n",
            "18      Тернопільська  21.3  21.6  15.7  14.2   9.2  11.3  10.9   7.6\n",
            "19         Харківська  19.7  17.3  14.0  11.4   6.8   9.9  10.1   6.8\n",
            "20         Херсонська  20.8  21.4  16.6  14.3   8.5  11.7  11.5   8.1\n",
            "21        Хмельницька  23.4  19.8  14.8  12.9   8.5  11.3  11.2   7.9\n",
            "22          Черкаська  20.5  17.9  14.4  12.3   7.5  10.0   9.8   6.4\n",
            "23        Чернівецька  24.7  21.8  17.0  14.8  10.1  12.8  12.9   9.2\n",
            "24       Чернігівська  22.0  18.3  12.7  10.8   6.9   9.4   9.0   6.1\n",
            "25               Київ   0.0  17.4  15.9  12.0   7.3  12.0  12.1  11.0\n",
            "26        Севастополь   0.0   0.0   0.0  12.5   7.0  12.0     0     0\n",
            "27            Україна  22.8  20.5  15.2  12.6   7.8  11.4  11.1   8.1\n"
          ]
        }
      ]
    },
    {
      "cell_type": "markdown",
      "source": [
        "# 1.6 - Посчитайте, какая доля пропусков содержится в каждой колонке (используйте методы isnull и sum)"
      ],
      "metadata": {
        "id": "SMbzY0wKyELV"
      }
    },
    {
      "cell_type": "code",
      "source": [
        "tbl_result_nulls = tbl_result.isnull().sum()"
      ],
      "metadata": {
        "id": "SjyjhvZayG0W"
      },
      "execution_count": 26,
      "outputs": []
    },
    {
      "cell_type": "code",
      "source": [
        "print(tbl_result_nulls)"
      ],
      "metadata": {
        "id": "9PJGn87g07Kl",
        "colab": {
          "base_uri": "https://localhost:8080/"
        },
        "outputId": "072b8189-19aa-477e-c13e-cdaec7435969"
      },
      "execution_count": 27,
      "outputs": [
        {
          "output_type": "stream",
          "name": "stdout",
          "text": [
            "Регіон    0\n",
            "1950      2\n",
            "1960      1\n",
            "1970      1\n",
            "1990      0\n",
            "2000      0\n",
            "2012      0\n",
            "2014      2\n",
            "2019      4\n",
            "dtype: int64\n"
          ]
        }
      ]
    },
    {
      "cell_type": "markdown",
      "source": [
        "#1.7 - Удалите из таблицы данные по всей стране, последняя строчка таблицы"
      ],
      "metadata": {
        "id": "Gbsz5SFz1WNV"
      }
    },
    {
      "cell_type": "code",
      "source": [
        "new_tbl_result = tbl_result.copy()"
      ],
      "metadata": {
        "id": "-5t2wpHf4msq"
      },
      "execution_count": 28,
      "outputs": []
    },
    {
      "cell_type": "code",
      "source": [
        "tbl_result_del = new_tbl_result.drop([27]) "
      ],
      "metadata": {
        "id": "tqp8lqlu4Llh"
      },
      "execution_count": 29,
      "outputs": []
    },
    {
      "cell_type": "code",
      "source": [
        "# tbl_result_del = new_tbl_result.drop(['2019'], axis=1) видалення стовпця"
      ],
      "metadata": {
        "id": "nv60FMFJ5LZ6"
      },
      "execution_count": 30,
      "outputs": []
    },
    {
      "cell_type": "code",
      "source": [
        "print(tbl_result_del)"
      ],
      "metadata": {
        "id": "E-XNIkIh6GmL",
        "colab": {
          "base_uri": "https://localhost:8080/"
        },
        "outputId": "d56e5700-287f-47db-fe6e-19ad961020d5"
      },
      "execution_count": 31,
      "outputs": [
        {
          "output_type": "stream",
          "name": "stdout",
          "text": [
            "               Регіон  1950  1960  1970  1990  2000  2012  2014  2019\n",
            "0                Крим  23.0  20.6  16.0  13.0   7.3  12.6   NaN   NaN\n",
            "1           Вінницька  22.4  19.2  14.2  12.4   8.4  11.2  10.9   7.6\n",
            "2           Волинська  24.7  25.0  17.9  15.3  11.2  14.8  14.1  10.1\n",
            "3    Дніпропетровська  20.4  20.4  15.1  12.3   7.1  11.2  11.1   7.1\n",
            "4            Донецька  27.1  21.4  14.0  10.9   6.1   9.8   8.2   NaN\n",
            "5         Житомирська  26.1  22.3  15.9  12.9   8.9  12.2  12.0   7.9\n",
            "6        Закарпатська  31.4  27.3  20.7  16.8  11.5  15.1  14.6  10.4\n",
            "7          Запорізька  21.9  19.7  15.0  12.4   7.1  10.6  10.6   6.8\n",
            "8   Івано-Франківська  24.3  24.8  18.2  15.5  10.3  12.4  12.2   8.8\n",
            "9            Київська  20.4  18.9  15.6  12.3   7.3  12.2  12.1   8.0\n",
            "10     Кіровоградська  21.6  17.1  14.5  12.6   7.9  11.0  10.8   6.8\n",
            "11          Луганська  26.2  23.5  14.4  11.6   6.2   9.6   5.1   NaN\n",
            "12          Львівська  23.4  24.0  17.1  14.0   9.1  11.9  11.9   8.7\n",
            "13       Миколаївська  21.1  19.4  15.5  13.7   8.0  11.5  11.2   7.1\n",
            "14            Одеська  24.1  19.2  14.8  12.6   8.0  12.7  12.3   8.8\n",
            "15         Полтавська  18.6  16.3  13.1  11.8   7.0   9.9  10.0   6.5\n",
            "16         Рівненська  26.9  26.7  19.3  15.8  11.8  15.9  14.8  10.7\n",
            "17            Сумська  21.6  18.4  13.2  11.5   7.0   9.7   9.2   6.0\n",
            "18      Тернопільська  21.3  21.6  15.7  14.2   9.2  11.3  10.9   7.6\n",
            "19         Харківська  19.7  17.3  14.0  11.4   6.8   9.9  10.1   6.8\n",
            "20         Херсонська  20.8  21.4  16.6  14.3   8.5  11.7  11.5   8.1\n",
            "21        Хмельницька  23.4  19.8  14.8  12.9   8.5  11.3  11.2   7.9\n",
            "22          Черкаська  20.5  17.9  14.4  12.3   7.5  10.0   9.8   6.4\n",
            "23        Чернівецька  24.7  21.8  17.0  14.8  10.1  12.8  12.9   9.2\n",
            "24       Чернігівська  22.0  18.3  12.7  10.8   6.9   9.4   9.0   6.1\n",
            "25               Київ   NaN  17.4  15.9  12.0   7.3  12.0  12.1  11.0\n",
            "26        Севастополь   NaN   NaN   NaN  12.5   7.0  12.0   NaN   NaN\n"
          ]
        }
      ]
    },
    {
      "cell_type": "markdown",
      "source": [
        "# 1.8 - Замените отсутствующие данные в столбцах средними значениями по этим столбцам (метод fillna)"
      ],
      "metadata": {
        "id": "xYKfakV-6hsE"
      }
    },
    {
      "cell_type": "code",
      "source": [
        "tbl_result_ch_null = tbl_result.astype({\"1990\": float, \"2000\": float, \"2012\": float, \"2014\": float, \"2019\": float})"
      ],
      "metadata": {
        "id": "r83mfN18XnBn"
      },
      "execution_count": 32,
      "outputs": []
    },
    {
      "cell_type": "code",
      "source": [
        "print(tbl_result_ch_null)"
      ],
      "metadata": {
        "id": "zWRHUTfePx5W",
        "colab": {
          "base_uri": "https://localhost:8080/"
        },
        "outputId": "8bd1f58a-6488-4926-df97-b382421b1d62"
      },
      "execution_count": 33,
      "outputs": [
        {
          "output_type": "stream",
          "name": "stdout",
          "text": [
            "               Регіон  1950  1960  1970  1990  2000  2012  2014  2019\n",
            "0                Крим  23.0  20.6  16.0  13.0   7.3  12.6   NaN   NaN\n",
            "1           Вінницька  22.4  19.2  14.2  12.4   8.4  11.2  10.9   7.6\n",
            "2           Волинська  24.7  25.0  17.9  15.3  11.2  14.8  14.1  10.1\n",
            "3    Дніпропетровська  20.4  20.4  15.1  12.3   7.1  11.2  11.1   7.1\n",
            "4            Донецька  27.1  21.4  14.0  10.9   6.1   9.8   8.2   NaN\n",
            "5         Житомирська  26.1  22.3  15.9  12.9   8.9  12.2  12.0   7.9\n",
            "6        Закарпатська  31.4  27.3  20.7  16.8  11.5  15.1  14.6  10.4\n",
            "7          Запорізька  21.9  19.7  15.0  12.4   7.1  10.6  10.6   6.8\n",
            "8   Івано-Франківська  24.3  24.8  18.2  15.5  10.3  12.4  12.2   8.8\n",
            "9            Київська  20.4  18.9  15.6  12.3   7.3  12.2  12.1   8.0\n",
            "10     Кіровоградська  21.6  17.1  14.5  12.6   7.9  11.0  10.8   6.8\n",
            "11          Луганська  26.2  23.5  14.4  11.6   6.2   9.6   5.1   NaN\n",
            "12          Львівська  23.4  24.0  17.1  14.0   9.1  11.9  11.9   8.7\n",
            "13       Миколаївська  21.1  19.4  15.5  13.7   8.0  11.5  11.2   7.1\n",
            "14            Одеська  24.1  19.2  14.8  12.6   8.0  12.7  12.3   8.8\n",
            "15         Полтавська  18.6  16.3  13.1  11.8   7.0   9.9  10.0   6.5\n",
            "16         Рівненська  26.9  26.7  19.3  15.8  11.8  15.9  14.8  10.7\n",
            "17            Сумська  21.6  18.4  13.2  11.5   7.0   9.7   9.2   6.0\n",
            "18      Тернопільська  21.3  21.6  15.7  14.2   9.2  11.3  10.9   7.6\n",
            "19         Харківська  19.7  17.3  14.0  11.4   6.8   9.9  10.1   6.8\n",
            "20         Херсонська  20.8  21.4  16.6  14.3   8.5  11.7  11.5   8.1\n",
            "21        Хмельницька  23.4  19.8  14.8  12.9   8.5  11.3  11.2   7.9\n",
            "22          Черкаська  20.5  17.9  14.4  12.3   7.5  10.0   9.8   6.4\n",
            "23        Чернівецька  24.7  21.8  17.0  14.8  10.1  12.8  12.9   9.2\n",
            "24       Чернігівська  22.0  18.3  12.7  10.8   6.9   9.4   9.0   6.1\n",
            "25               Київ   NaN  17.4  15.9  12.0   7.3  12.0  12.1  11.0\n",
            "26        Севастополь   NaN   NaN   NaN  12.5   7.0  12.0   NaN   NaN\n",
            "27            Україна  22.8  20.5  15.2  12.6   7.8  11.4  11.1   8.1\n"
          ]
        }
      ]
    },
    {
      "cell_type": "code",
      "source": [
        "result_mean = tbl_result_ch_null.fillna(tbl_result_ch_null.mean())"
      ],
      "metadata": {
        "id": "-73w1MQjZ0lD",
        "colab": {
          "base_uri": "https://localhost:8080/"
        },
        "outputId": "7b311539-0c7a-4764-d0a8-db911bfad13f"
      },
      "execution_count": 34,
      "outputs": [
        {
          "output_type": "stream",
          "name": "stderr",
          "text": [
            "<ipython-input-34-74d778f24a3c>:1: FutureWarning: Dropping of nuisance columns in DataFrame reductions (with 'numeric_only=None') is deprecated; in a future version this will raise TypeError.  Select only valid columns before calling the reduction.\n",
            "  result_mean = tbl_result_ch_null.fillna(tbl_result_ch_null.mean())\n"
          ]
        }
      ]
    },
    {
      "cell_type": "code",
      "source": [
        "print(result_mean)"
      ],
      "metadata": {
        "colab": {
          "base_uri": "https://localhost:8080/"
        },
        "id": "HCztOBixaX5H",
        "outputId": "476adaed-2c34-46b2-c0c2-c6e66cf806e1"
      },
      "execution_count": 35,
      "outputs": [
        {
          "output_type": "stream",
          "name": "stdout",
          "text": [
            "               Регіон       1950       1960       1970  1990  2000  2012  \\\n",
            "0                Крим  23.000000  20.600000  16.000000  13.0   7.3  12.6   \n",
            "1           Вінницька  22.400000  19.200000  14.200000  12.4   8.4  11.2   \n",
            "2           Волинська  24.700000  25.000000  17.900000  15.3  11.2  14.8   \n",
            "3    Дніпропетровська  20.400000  20.400000  15.100000  12.3   7.1  11.2   \n",
            "4            Донецька  27.100000  21.400000  14.000000  10.9   6.1   9.8   \n",
            "5         Житомирська  26.100000  22.300000  15.900000  12.9   8.9  12.2   \n",
            "6        Закарпатська  31.400000  27.300000  20.700000  16.8  11.5  15.1   \n",
            "7          Запорізька  21.900000  19.700000  15.000000  12.4   7.1  10.6   \n",
            "8   Івано-Франківська  24.300000  24.800000  18.200000  15.5  10.3  12.4   \n",
            "9            Київська  20.400000  18.900000  15.600000  12.3   7.3  12.2   \n",
            "10     Кіровоградська  21.600000  17.100000  14.500000  12.6   7.9  11.0   \n",
            "11          Луганська  26.200000  23.500000  14.400000  11.6   6.2   9.6   \n",
            "12          Львівська  23.400000  24.000000  17.100000  14.0   9.1  11.9   \n",
            "13       Миколаївська  21.100000  19.400000  15.500000  13.7   8.0  11.5   \n",
            "14            Одеська  24.100000  19.200000  14.800000  12.6   8.0  12.7   \n",
            "15         Полтавська  18.600000  16.300000  13.100000  11.8   7.0   9.9   \n",
            "16         Рівненська  26.900000  26.700000  19.300000  15.8  11.8  15.9   \n",
            "17            Сумська  21.600000  18.400000  13.200000  11.5   7.0   9.7   \n",
            "18      Тернопільська  21.300000  21.600000  15.700000  14.2   9.2  11.3   \n",
            "19         Харківська  19.700000  17.300000  14.000000  11.4   6.8   9.9   \n",
            "20         Херсонська  20.800000  21.400000  16.600000  14.3   8.5  11.7   \n",
            "21        Хмельницька  23.400000  19.800000  14.800000  12.9   8.5  11.3   \n",
            "22          Черкаська  20.500000  17.900000  14.400000  12.3   7.5  10.0   \n",
            "23        Чернівецька  24.700000  21.800000  17.000000  14.8  10.1  12.8   \n",
            "24       Чернігівська  22.000000  18.300000  12.700000  10.8   6.9   9.4   \n",
            "25               Київ  23.092308  17.400000  15.900000  12.0   7.3  12.0   \n",
            "26        Севастополь  23.092308  20.748148  15.585185  12.5   7.0  12.0   \n",
            "27            Україна  22.800000  20.500000  15.200000  12.6   7.8  11.4   \n",
            "\n",
            "         2014       2019  \n",
            "0   11.142308   8.020833  \n",
            "1   10.900000   7.600000  \n",
            "2   14.100000  10.100000  \n",
            "3   11.100000   7.100000  \n",
            "4    8.200000   8.020833  \n",
            "5   12.000000   7.900000  \n",
            "6   14.600000  10.400000  \n",
            "7   10.600000   6.800000  \n",
            "8   12.200000   8.800000  \n",
            "9   12.100000   8.000000  \n",
            "10  10.800000   6.800000  \n",
            "11   5.100000   8.020833  \n",
            "12  11.900000   8.700000  \n",
            "13  11.200000   7.100000  \n",
            "14  12.300000   8.800000  \n",
            "15  10.000000   6.500000  \n",
            "16  14.800000  10.700000  \n",
            "17   9.200000   6.000000  \n",
            "18  10.900000   7.600000  \n",
            "19  10.100000   6.800000  \n",
            "20  11.500000   8.100000  \n",
            "21  11.200000   7.900000  \n",
            "22   9.800000   6.400000  \n",
            "23  12.900000   9.200000  \n",
            "24   9.000000   6.100000  \n",
            "25  12.100000  11.000000  \n",
            "26  11.142308   8.020833  \n",
            "27  11.100000   8.100000  \n"
          ]
        }
      ]
    },
    {
      "cell_type": "markdown",
      "source": [
        "# 1.9 - Получите список регионов, где уровень рождаемости в 2019 году был выше среднего по Украине"
      ],
      "metadata": {
        "id": "mwEQjc378MKK"
      }
    },
    {
      "cell_type": "code",
      "source": [
        "m = result_mean.mean().mean()"
      ],
      "metadata": {
        "colab": {
          "base_uri": "https://localhost:8080/"
        },
        "id": "M9asEf9rSWa4",
        "outputId": "239b21d7-9350-4824-841a-d48d4daefde5"
      },
      "execution_count": 36,
      "outputs": [
        {
          "output_type": "stream",
          "name": "stderr",
          "text": [
            "<ipython-input-36-860f29e22572>:1: FutureWarning: Dropping of nuisance columns in DataFrame reductions (with 'numeric_only=None') is deprecated; in a future version this will raise TypeError.  Select only valid columns before calling the reduction.\n",
            "  m = result_mean.mean().mean()\n"
          ]
        }
      ]
    },
    {
      "cell_type": "code",
      "source": [
        "print(m)"
      ],
      "metadata": {
        "colab": {
          "base_uri": "https://localhost:8080/"
        },
        "id": "5h8U2eM8Sjzp",
        "outputId": "33c3e587-34d0-41be-e7fc-e0f8f3636d42"
      },
      "execution_count": 37,
      "outputs": [
        {
          "output_type": "stream",
          "name": "stdout",
          "text": [
            "13.935651327838826\n"
          ]
        }
      ]
    },
    {
      "cell_type": "code",
      "source": [
        "region = result_mean[['2019']]"
      ],
      "metadata": {
        "id": "g_TI2lxJ8ZT0"
      },
      "execution_count": 38,
      "outputs": []
    },
    {
      "cell_type": "code",
      "source": [
        "print(region > m)"
      ],
      "metadata": {
        "id": "0ezQYE0GJ1eQ",
        "colab": {
          "base_uri": "https://localhost:8080/"
        },
        "outputId": "6ec7001f-77ec-46ff-ba8f-70daae044bae"
      },
      "execution_count": 39,
      "outputs": [
        {
          "output_type": "stream",
          "name": "stdout",
          "text": [
            "     2019\n",
            "0   False\n",
            "1   False\n",
            "2   False\n",
            "3   False\n",
            "4   False\n",
            "5   False\n",
            "6   False\n",
            "7   False\n",
            "8   False\n",
            "9   False\n",
            "10  False\n",
            "11  False\n",
            "12  False\n",
            "13  False\n",
            "14  False\n",
            "15  False\n",
            "16  False\n",
            "17  False\n",
            "18  False\n",
            "19  False\n",
            "20  False\n",
            "21  False\n",
            "22  False\n",
            "23  False\n",
            "24  False\n",
            "25  False\n",
            "26  False\n",
            "27  False\n"
          ]
        }
      ]
    },
    {
      "cell_type": "markdown",
      "source": [
        "# 1.10 - В каком регионе была самая высокая рождаемость в 2014 году?"
      ],
      "metadata": {
        "id": "HGNK3F578e9B"
      }
    },
    {
      "cell_type": "code",
      "source": [
        "high_r = result_mean[['2014']].max()"
      ],
      "metadata": {
        "id": "KJ5W3p3U8mZo"
      },
      "execution_count": 40,
      "outputs": []
    },
    {
      "cell_type": "code",
      "source": [
        "print(high_r)"
      ],
      "metadata": {
        "colab": {
          "base_uri": "https://localhost:8080/"
        },
        "id": "hUl5k4ZXZ-Bd",
        "outputId": "dfa8eb06-8e61-4643-db65-c46ae453f864"
      },
      "execution_count": 41,
      "outputs": [
        {
          "output_type": "stream",
          "name": "stdout",
          "text": [
            "2014    14.8\n",
            "dtype: float64\n"
          ]
        }
      ]
    },
    {
      "cell_type": "code",
      "source": [
        "tr = high_r == result_mean[['2014']]"
      ],
      "metadata": {
        "id": "F4-CuLERl0bc"
      },
      "execution_count": 42,
      "outputs": []
    },
    {
      "cell_type": "code",
      "source": [
        "print(tr)"
      ],
      "metadata": {
        "id": "Ft7YOnl3ZbQt",
        "colab": {
          "base_uri": "https://localhost:8080/"
        },
        "outputId": "3bf46b5f-7a7c-4089-febd-1ae85a17a60e"
      },
      "execution_count": 43,
      "outputs": [
        {
          "output_type": "stream",
          "name": "stdout",
          "text": [
            "     2014\n",
            "0   False\n",
            "1   False\n",
            "2   False\n",
            "3   False\n",
            "4   False\n",
            "5   False\n",
            "6   False\n",
            "7   False\n",
            "8   False\n",
            "9   False\n",
            "10  False\n",
            "11  False\n",
            "12  False\n",
            "13  False\n",
            "14  False\n",
            "15  False\n",
            "16   True\n",
            "17  False\n",
            "18  False\n",
            "19  False\n",
            "20  False\n",
            "21  False\n",
            "22  False\n",
            "23  False\n",
            "24  False\n",
            "25  False\n",
            "26  False\n",
            "27  False\n"
          ]
        }
      ]
    },
    {
      "cell_type": "code",
      "source": [
        "ind = tr.index[tr['2014']].tolist()"
      ],
      "metadata": {
        "id": "rdoOQ7OCkevb"
      },
      "execution_count": 44,
      "outputs": []
    },
    {
      "cell_type": "code",
      "source": [
        "print(ind)"
      ],
      "metadata": {
        "id": "LEhW9uMQoYsT",
        "colab": {
          "base_uri": "https://localhost:8080/"
        },
        "outputId": "e142652e-d8c0-450c-ec16-0433ed04e3a7"
      },
      "execution_count": 45,
      "outputs": [
        {
          "output_type": "stream",
          "name": "stdout",
          "text": [
            "[16]\n"
          ]
        }
      ]
    },
    {
      "cell_type": "code",
      "source": [
        "high_b = result_mean[['Регіон', '2014']]"
      ],
      "metadata": {
        "id": "TQkkO2-wci1A"
      },
      "execution_count": 46,
      "outputs": []
    },
    {
      "cell_type": "code",
      "source": [
        "print(high_b)"
      ],
      "metadata": {
        "id": "izXqdjg3c4aw",
        "colab": {
          "base_uri": "https://localhost:8080/"
        },
        "outputId": "7ebbbacc-6da9-4a22-99d9-5ed57843fb75"
      },
      "execution_count": 47,
      "outputs": [
        {
          "output_type": "stream",
          "name": "stdout",
          "text": [
            "               Регіон       2014\n",
            "0                Крим  11.142308\n",
            "1           Вінницька  10.900000\n",
            "2           Волинська  14.100000\n",
            "3    Дніпропетровська  11.100000\n",
            "4            Донецька   8.200000\n",
            "5         Житомирська  12.000000\n",
            "6        Закарпатська  14.600000\n",
            "7          Запорізька  10.600000\n",
            "8   Івано-Франківська  12.200000\n",
            "9            Київська  12.100000\n",
            "10     Кіровоградська  10.800000\n",
            "11          Луганська   5.100000\n",
            "12          Львівська  11.900000\n",
            "13       Миколаївська  11.200000\n",
            "14            Одеська  12.300000\n",
            "15         Полтавська  10.000000\n",
            "16         Рівненська  14.800000\n",
            "17            Сумська   9.200000\n",
            "18      Тернопільська  10.900000\n",
            "19         Харківська  10.100000\n",
            "20         Херсонська  11.500000\n",
            "21        Хмельницька  11.200000\n",
            "22          Черкаська   9.800000\n",
            "23        Чернівецька  12.900000\n",
            "24       Чернігівська   9.000000\n",
            "25               Київ  12.100000\n",
            "26        Севастополь  11.142308\n",
            "27            Україна  11.100000\n"
          ]
        }
      ]
    },
    {
      "cell_type": "code",
      "source": [
        "print(high_b.loc[ind, 'Регіон'])"
      ],
      "metadata": {
        "colab": {
          "base_uri": "https://localhost:8080/"
        },
        "id": "KaykdNVjnsgE",
        "outputId": "e8d53637-9f67-4164-9331-764658bdfeba"
      },
      "execution_count": 48,
      "outputs": [
        {
          "output_type": "stream",
          "name": "stdout",
          "text": [
            "16    Рівненська\n",
            "Name: Регіон, dtype: object\n"
          ]
        }
      ]
    },
    {
      "cell_type": "markdown",
      "source": [
        "# 1.11 - Постройте столбцовую диаграмму рождаемости по регионам в 2019 году"
      ],
      "metadata": {
        "id": "x57X0AYp8mxz"
      }
    },
    {
      "cell_type": "code",
      "source": [
        "col_bith = result_mean[\"2019\"].plot.bar(rot=27)"
      ],
      "metadata": {
        "id": "SNyf5P0t8tvk",
        "colab": {
          "base_uri": "https://localhost:8080/",
          "height": 270
        },
        "outputId": "e3dde847-c6fa-4183-ae2c-e571d893f9e6"
      },
      "execution_count": 49,
      "outputs": [
        {
          "output_type": "display_data",
          "data": {
            "text/plain": [
              "<Figure size 432x288 with 1 Axes>"
            ],
            "image/png": "[encoded data removed]"
          },
          "metadata": {
            "needs_background": "light"
          }
        }
      ]
    },
    {
      "cell_type": "code",
      "source": [
        "# col_bith.plot()"
      ],
      "metadata": {
        "id": "RarxA4XusXMk"
      },
      "execution_count": 50,
      "outputs": []
    },
    {
      "cell_type": "code",
      "source": [
        "# plt.show()"
      ],
      "metadata": {
        "id": "v34se8OEsYZq"
      },
      "execution_count": 51,
      "outputs": []
    }
  ]
}