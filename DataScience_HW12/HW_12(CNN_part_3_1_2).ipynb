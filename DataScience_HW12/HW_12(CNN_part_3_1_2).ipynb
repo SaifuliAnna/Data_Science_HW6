{
  "cells": [
    {
      "cell_type": "markdown",
      "metadata": {
        "id": "view-in-github",
        "colab_type": "text"
      },
      "source": [
        "<a href=\"https://colab.research.google.com/github/SaifuliAnna/DataScience_HW12/blob/main/HW_12(CNN_part_3_1_2).ipynb\" target=\"_parent\"><img src=\"https://colab.research.google.com/assets/colab-badge.svg\" alt=\"Open In Colab\"/></a>"
      ]
    },
    {
      "cell_type": "code",
      "execution_count": null,
      "metadata": {
        "id": "b4_576Efddj4"
      },
      "outputs": [],
      "source": [
        "from keras.applications.vgg16 import VGG16\n",
        "\n",
        "from keras import layers, models, Model\n",
        "\n",
        "import tensorflow as tf\n",
        "from sklearn.metrics import confusion_matrix\n",
        "from keras.utils.np_utils import to_categorical\n",
        "from keras.models import Sequential\n",
        "from keras.layers import Dense, Dropout, Flatten, Conv2D, MaxPool2D\n",
        "from keras.optimizers import RMSprop, Adam\n",
        "from keras.preprocessing.image import ImageDataGenerator\n",
        "from keras.callbacks import ReduceLROnPlateau\n",
        "import itertools\n",
        "from keras import callbacks\n",
        "\n",
        "import numpy as np\n",
        "import pandas as pd\n",
        "import seaborn as sns\n",
        "\n",
        "import matplotlib.pyplot as plt# Reading Train Data\n",
        "from keras.datasets import fashion_mnist"
      ]
    },
    {
      "cell_type": "code",
      "execution_count": null,
      "metadata": {
        "colab": {
          "base_uri": "https://localhost:8080/"
        },
        "id": "ME0sEDJ70ggB",
        "outputId": "206680d9-41fe-4448-e49a-e3c9e0b36ddb"
      },
      "outputs": [
        {
          "output_type": "stream",
          "name": "stdout",
          "text": [
            "Downloading data from https://storage.googleapis.com/tensorflow/tf-keras-datasets/train-labels-idx1-ubyte.gz\n",
            "29515/29515 [==============================] - 0s 0us/step\n",
            "Downloading data from https://storage.googleapis.com/tensorflow/tf-keras-datasets/train-images-idx3-ubyte.gz\n",
            "26421880/26421880 [==============================] - 0s 0us/step\n",
            "Downloading data from https://storage.googleapis.com/tensorflow/tf-keras-datasets/t10k-labels-idx1-ubyte.gz\n",
            "5148/5148 [==============================] - 0s 0us/step\n",
            "Downloading data from https://storage.googleapis.com/tensorflow/tf-keras-datasets/t10k-images-idx3-ubyte.gz\n",
            "4422102/4422102 [==============================] - 0s 0us/step\n",
            "Shape of Train : 47040000\n",
            "Shape of Train : 60000\n",
            "Shape of Train : 7840000\n",
            "Shape of Train : 10000\n"
          ]
        }
      ],
      "source": [
        "(train_images, train_labels), (test_images, test_labels) = fashion_mnist.load_data()\n",
        "print(\"Shape of Train : \" + str(train_images.size))\n",
        "print(\"Shape of Train : \" + str(train_labels.size))\n",
        "print(\"Shape of Train : \" + str(test_images.size))\n",
        "print(\"Shape of Train : \" + str(test_labels.size))"
      ]
    },
    {
      "cell_type": "code",
      "execution_count": null,
      "metadata": {
        "colab": {
          "base_uri": "https://localhost:8080/"
        },
        "id": "EJdjXS2ZFfYt",
        "outputId": "57432284-a912-4764-aeb4-5d3b1b2d884f"
      },
      "outputs": [
        {
          "output_type": "stream",
          "name": "stdout",
          "text": [
            "Shape of Train : (60000,)\n",
            "Shape of Train : (60000, 28, 28)\n",
            "Shape of Train : (10000, 28, 28)\n",
            "Shape of Train : (10000,)\n"
          ]
        }
      ],
      "source": [
        "Y_train = train_labels\n",
        "X_train = train_images\n",
        "X_test = test_images\n",
        "Y_test = test_labels\n",
        "\n",
        "print(\"Shape of Train : \" + str(Y_train.shape))\n",
        "print(\"Shape of Train : \" + str(X_train.shape))\n",
        "print(\"Shape of Train : \" + str(X_test.shape))\n",
        "print(\"Shape of Train : \" + str(Y_test.shape))"
      ]
    },
    {
      "cell_type": "code",
      "execution_count": null,
      "metadata": {
        "colab": {
          "base_uri": "https://localhost:8080/",
          "height": 440
        },
        "id": "npo-DONNGOOH",
        "outputId": "d83f54cf-e354-42d6-9256-ed8e1525c533"
      },
      "outputs": [
        {
          "output_type": "display_data",
          "data": {
            "text/plain": [
              "<Figure size 720x720 with 10 Axes>"
            ],
            "image/png": "[encoded data removed]"
          },
          "metadata": {
            "needs_background": "light"
          }
        }
      ],
      "source": [
        "plt.figure(figsize=(10,10))\n",
        "for i in range(10):\n",
        "    plt.subplot(2,5,i+1)\n",
        "    img = X_train[i]\n",
        "    plt.imshow(img)\n",
        "    plt.title(f\"Class: {str(i)}, {X_train[i].shape}\")\n",
        "    plt.axis('off')\n",
        "    \n",
        "plt.show()"
      ]
    },
    {
      "cell_type": "markdown",
      "metadata": {
        "id": "jzucCnI9Jf-z"
      },
      "source": [
        "Train-Test Split"
      ]
    },
    {
      "cell_type": "code",
      "execution_count": null,
      "metadata": {
        "colab": {
          "base_uri": "https://localhost:8080/"
        },
        "id": "RctkQ9w4IHpN",
        "outputId": "b9c89eed-1f27-49d5-9591-b63524e24f2c"
      },
      "outputs": [
        {
          "output_type": "stream",
          "name": "stdout",
          "text": [
            "x_train shape (42000, 28, 28)\n",
            "x_test shape (18000, 28, 28)\n",
            "y_train shape (42000,)\n",
            "y_test shape (18000,)\n"
          ]
        }
      ],
      "source": [
        "from sklearn.model_selection import train_test_split\n",
        "x_train, x_val, y_train, y_val = train_test_split(X_train, Y_train, test_size = 0.3, random_state = 42)\n",
        "\n",
        "print(\"x_train shape\",x_train.shape)\n",
        "print(\"x_test shape\",x_val.shape)\n",
        "print(\"y_train shape\",y_train.shape)\n",
        "print(\"y_test shape\",y_val.shape)"
      ]
    },
    {
      "cell_type": "code",
      "execution_count": null,
      "metadata": {
        "id": "3jcX2vWG-BKP"
      },
      "outputs": [],
      "source": [
        "# Нормализуем значения пикселей в диапазоне от 0 до 1\n",
        "x_train = x_train.astype(\"float32\") / 255.0\n",
        "x_val = x_val.astype(\"float32\") / 255.0\n",
        "\n",
        "X_test = X_test.astype(\"float32\") / 255.0"
      ]
    },
    {
      "cell_type": "code",
      "execution_count": null,
      "metadata": {
        "id": "wTMbDYcn-LPk",
        "colab": {
          "base_uri": "https://localhost:8080/"
        },
        "outputId": "745068bc-a7d7-4f01-803a-cce8c55a231f"
      },
      "outputs": [
        {
          "output_type": "stream",
          "name": "stdout",
          "text": [
            "Shape of Train : (42000, 28, 28, 3)\n",
            "Shape of Valid : (18000, 28, 28, 3)\n",
            "Shape of Test : (10000, 28, 28, 3)\n"
          ]
        }
      ],
      "source": [
        "x_train = np.stack((x_train,)*3, axis=-1)\n",
        "x_val = np.stack((x_val,)*3, axis=-1)\n",
        "\n",
        "X_test = np.stack((X_test,)*3, axis=-1)\n",
        "\n",
        "print(\"Shape of Train : \" + str(x_train.shape))\n",
        "print(\"Shape of Valid : \" + str(x_val.shape))\n",
        "\n",
        "print(\"Shape of Test : \" + str(X_test.shape))"
      ]
    },
    {
      "cell_type": "code",
      "execution_count": null,
      "metadata": {
        "colab": {
          "base_uri": "https://localhost:8080/"
        },
        "id": "rX5ZtSWr-hhF",
        "outputId": "690995d5-a6a1-4c64-acff-1ae9c74be450"
      },
      "outputs": [
        {
          "output_type": "stream",
          "name": "stdout",
          "text": [
            "Shape of Train : (42000, 32, 32, 3)\n",
            "Shape of Valid : (18000, 32, 32, 3)\n",
            "Shape of Test : (10000, 32, 32, 3)\n"
          ]
        }
      ],
      "source": [
        "# Resizing images\n",
        "x_train = tf.image.resize(x_train, (32, 32))\n",
        "x_val = tf.image.resize(x_val, (32, 32))\n",
        "\n",
        "X_test = tf.image.resize(X_test, (32, 32))\n",
        "\n",
        "print(\"Shape of Train : \" + str(x_train.shape))\n",
        "print(\"Shape of Valid : \" + str(x_val.shape))\n",
        "\n",
        "print(\"Shape of Test : \" + str(X_test.shape))"
      ]
    },
    {
      "cell_type": "code",
      "execution_count": null,
      "metadata": {
        "id": "Lk6Lr4A6_3ha",
        "colab": {
          "base_uri": "https://localhost:8080/"
        },
        "outputId": "3b92ad39-7fe4-4ac2-d192-56d1845d094e"
      },
      "outputs": [
        {
          "output_type": "stream",
          "name": "stdout",
          "text": [
            "Shape of Train : (42000, 10)\n",
            "Shape of Valid: (18000, 10)\n",
            "Shape of Test : (10000, 10)\n"
          ]
        }
      ],
      "source": [
        "# Transforming labels to correct format\n",
        "y_train = to_categorical(y_train, num_classes=10)\n",
        "y_val = to_categorical(y_val, num_classes=10)\n",
        "\n",
        "Y_test = to_categorical(Y_test, num_classes=10)\n",
        "\n",
        "print(\"Shape of Train : \" + str(y_train.shape))\n",
        "print(\"Shape of Valid: \" + str(y_val.shape))\n",
        "\n",
        "print(\"Shape of Test : \" + str(Y_test.shape))"
      ]
    },
    {
      "cell_type": "markdown",
      "metadata": {
        "id": "iFmycFvQENlq"
      },
      "source": [
        "Defining the parameters for instanitaing VGG16 model."
      ]
    },
    {
      "cell_type": "code",
      "execution_count": null,
      "metadata": {
        "id": "P6UBqvXVBLrn",
        "colab": {
          "base_uri": "https://localhost:8080/"
        },
        "outputId": "32a26a00-1882-4d93-b34e-d5b1530af1c5"
      },
      "outputs": [
        {
          "output_type": "stream",
          "name": "stdout",
          "text": [
            "Downloading data from https://storage.googleapis.com/tensorflow/keras-applications/vgg16/vgg16_weights_tf_dim_ordering_tf_kernels_notop.h5\n",
            "58889256/58889256 [==============================] - 1s 0us/step\n"
          ]
        }
      ],
      "source": [
        "# Loading VGG16 model\n",
        "# Загружаем предобученную сеть VGG16 без последних слоев\n",
        "conv_base = VGG16(weights=\"imagenet\", include_top=False, input_shape=(32, 32, 3))\n",
        "\n",
        "\n",
        "conv_base.trainable = True\n",
        "set_trainable = False\n",
        "for layer in conv_base.layers:    \n",
        "    if layer.name == \"block5_conv1\":        \n",
        "        set_trainable = True    \n",
        "    if set_trainable:        \n",
        "        layer.trainable = True    \n",
        "    else:        \n",
        "        layer.trainable = False"
      ]
    },
    {
      "cell_type": "code",
      "execution_count": null,
      "metadata": {
        "colab": {
          "base_uri": "https://localhost:8080/"
        },
        "id": "FRSeR3hfFuZV",
        "outputId": "b2191043-80ca-4499-e65b-8ae72b7ac57b"
      },
      "outputs": [
        {
          "output_type": "stream",
          "name": "stdout",
          "text": [
            "Model: \"vgg16\"\n",
            "_________________________________________________________________\n",
            " Layer (type)                Output Shape              Param #   \n",
            "=================================================================\n",
            " input_2 (InputLayer)        [(None, 32, 32, 3)]       0         \n",
            "                                                                 \n",
            " block1_conv1 (Conv2D)       (None, 32, 32, 64)        1792      \n",
            "                                                                 \n",
            " block1_conv2 (Conv2D)       (None, 32, 32, 64)        36928     \n",
            "                                                                 \n",
            " block1_pool (MaxPooling2D)  (None, 16, 16, 64)        0         \n",
            "                                                                 \n",
            " block2_conv1 (Conv2D)       (None, 16, 16, 128)       73856     \n",
            "                                                                 \n",
            " block2_conv2 (Conv2D)       (None, 16, 16, 128)       147584    \n",
            "                                                                 \n",
            " block2_pool (MaxPooling2D)  (None, 8, 8, 128)         0         \n",
            "                                                                 \n",
            " block3_conv1 (Conv2D)       (None, 8, 8, 256)         295168    \n",
            "                                                                 \n",
            " block3_conv2 (Conv2D)       (None, 8, 8, 256)         590080    \n",
            "                                                                 \n",
            " block3_conv3 (Conv2D)       (None, 8, 8, 256)         590080    \n",
            "                                                                 \n",
            " block3_pool (MaxPooling2D)  (None, 4, 4, 256)         0         \n",
            "                                                                 \n",
            " block4_conv1 (Conv2D)       (None, 4, 4, 512)         1180160   \n",
            "                                                                 \n",
            " block4_conv2 (Conv2D)       (None, 4, 4, 512)         2359808   \n",
            "                                                                 \n",
            " block4_conv3 (Conv2D)       (None, 4, 4, 512)         2359808   \n",
            "                                                                 \n",
            " block4_pool (MaxPooling2D)  (None, 2, 2, 512)         0         \n",
            "                                                                 \n",
            " block5_conv1 (Conv2D)       (None, 2, 2, 512)         2359808   \n",
            "                                                                 \n",
            " block5_conv2 (Conv2D)       (None, 2, 2, 512)         2359808   \n",
            "                                                                 \n",
            " block5_conv3 (Conv2D)       (None, 2, 2, 512)         2359808   \n",
            "                                                                 \n",
            " block5_pool (MaxPooling2D)  (None, 1, 1, 512)         0         \n",
            "                                                                 \n",
            "=================================================================\n",
            "Total params: 14,714,688\n",
            "Trainable params: 7,079,424\n",
            "Non-trainable params: 7,635,264\n",
            "_________________________________________________________________\n"
          ]
        }
      ],
      "source": [
        "conv_base.summary()"
      ]
    },
    {
      "cell_type": "markdown",
      "metadata": {
        "id": "fDaW3qdrJ6rq"
      },
      "source": [
        "Create Model"
      ]
    },
    {
      "cell_type": "code",
      "execution_count": null,
      "metadata": {
        "id": "YRRbR78-nTiB"
      },
      "outputs": [],
      "source": [
        "model = models.Sequential([   \n",
        "    conv_base,   \n",
        "    layers.Flatten(),  \n",
        "    layers.Dense(2048, activation=\"relu\"),   \n",
        "    layers.Dropout(0.5),\n",
        "    layers.Dense(10, activation=\"softmax\")\n",
        "])"
      ]
    },
    {
      "cell_type": "markdown",
      "metadata": {
        "id": "nCgLyl5JKqOY"
      },
      "source": [
        "Optimizer\n",
        "\n",
        "Adam optimizer we can say adam optimizer updates leraning rate dynamically."
      ]
    },
    {
      "cell_type": "code",
      "execution_count": null,
      "metadata": {
        "id": "JjayGF1bKqo8"
      },
      "outputs": [],
      "source": [
        "optimizer = Adam(learning_rate=0.001, beta_1=0.9, beta_2=0.999, epsilon=None, decay=0.0, amsgrad=False);"
      ]
    },
    {
      "cell_type": "markdown",
      "metadata": {
        "id": "-uAu-53NLXmy"
      },
      "source": [
        "Compile Model\n",
        "\n",
        "Since we have 10 classes we’ll use categorical crossentropy."
      ]
    },
    {
      "cell_type": "code",
      "execution_count": null,
      "metadata": {
        "id": "8CT0En8eLYb9"
      },
      "outputs": [],
      "source": [
        "model.compile(optimizer = optimizer, loss = 'categorical_crossentropy', metrics=['accuracy'])"
      ]
    },
    {
      "cell_type": "markdown",
      "metadata": {
        "id": "Cz9XHrKoLsnU"
      },
      "source": [
        "Epoch and Batch Size"
      ]
    },
    {
      "cell_type": "markdown",
      "metadata": {
        "id": "mlN3q3a1L05R"
      },
      "source": [
        "Epoch is the number of times the algorithm sees the entire data set. If one epoch is too big to run to the computer at once we divide it smaller parts and number of this parts is called batch."
      ]
    },
    {
      "cell_type": "code",
      "execution_count": null,
      "metadata": {
        "id": "RHwowmecLtvA"
      },
      "outputs": [],
      "source": [
        "# epochs = 100\n",
        "# batchSize = 300\n",
        "# steps_per_epoch=x_train.shape[0] // batchSize"
      ]
    },
    {
      "cell_type": "markdown",
      "metadata": {
        "id": "kaJ52oo4L41W"
      },
      "source": [
        "Data Augmentation\n",
        "\n",
        "By using “data augmentation” we can create new data with different orientations. It prevents overfitting."
      ]
    },
    {
      "cell_type": "markdown",
      "metadata": {
        "id": "c8E1ekgkMBaa"
      },
      "source": [
        "Data Augmentation\n",
        "\n",
        "By using “data augmentation” we can create new data with different orientations. It prevents overfitting."
      ]
    },
    {
      "cell_type": "markdown",
      "metadata": {
        "id": "YeJYAQocOu0L"
      },
      "source": [
        "Reduced learning and Early stopping for callback Implementation"
      ]
    },
    {
      "cell_type": "code",
      "source": [
        "np.random.seed(300)"
      ],
      "metadata": {
        "id": "QGarnv84aogP"
      },
      "execution_count": null,
      "outputs": []
    },
    {
      "cell_type": "markdown",
      "metadata": {
        "id": "mFuUmKDIM5vY"
      },
      "source": [
        "Fit The Model"
      ]
    },
    {
      "cell_type": "code",
      "source": [
        "# Data Augmentation\n",
        "datagen = ImageDataGenerator(\n",
        "        featurewise_center=False,  # set input mean to 0 over the dataset\n",
        "        samplewise_center=False,  # set each sample mean to 0\n",
        "        featurewise_std_normalization=False,  # divide inputs by std of the dataset\n",
        "        samplewise_std_normalization=False,  # divide each input by its std\n",
        "        zca_whitening=False,  # dimesion reduction\n",
        "        rotation_range=0.1,  # randomly rotate images in the range\n",
        "        zoom_range =0.1, # Randomly zoom image\n",
        "        width_shift_range=0.1,  # randomly shift images horizontally\n",
        "        height_shift_range=0.1,  # randomly shift images vertically\n",
        "        horizontal_flip=False,  # randomly flip images\n",
        "        vertical_flip=False)  # randomly flip imagesdatagen.fit(x_train)\n",
        "\n",
        "datagen.fit(x_train)"
      ],
      "metadata": {
        "id": "-FS0PBGGZKwy"
      },
      "execution_count": null,
      "outputs": []
    },
    {
      "cell_type": "code",
      "execution_count": null,
      "metadata": {
        "id": "TK2ao8hYPDph",
        "colab": {
          "base_uri": "https://localhost:8080/"
        },
        "outputId": "c97bcc42-d570-4b55-f529-a75e58d2f208"
      },
      "outputs": [
        {
          "output_type": "stream",
          "name": "stdout",
          "text": [
            "Epoch 1/20\n",
            "165/165 [==============================] - 34s 197ms/step - loss: 0.3728 - accuracy: 0.8759 - val_loss: 0.3040 - val_accuracy: 0.8958\n",
            "Epoch 2/20\n",
            "165/165 [==============================] - 31s 186ms/step - loss: 0.3014 - accuracy: 0.8919 - val_loss: 0.3181 - val_accuracy: 0.8911\n",
            "Epoch 3/20\n",
            "165/165 [==============================] - 32s 193ms/step - loss: 0.2951 - accuracy: 0.8929 - val_loss: 0.2979 - val_accuracy: 0.8979\n",
            "Epoch 4/20\n",
            "165/165 [==============================] - 31s 186ms/step - loss: 0.2917 - accuracy: 0.8961 - val_loss: 0.2975 - val_accuracy: 0.8989\n",
            "Epoch 5/20\n",
            "165/165 [==============================] - 32s 195ms/step - loss: 0.2836 - accuracy: 0.8947 - val_loss: 0.3031 - val_accuracy: 0.8948\n",
            "Epoch 6/20\n",
            "165/165 [==============================] - 32s 192ms/step - loss: 0.2834 - accuracy: 0.8968 - val_loss: 0.3032 - val_accuracy: 0.8939\n",
            "Epoch 7/20\n",
            "165/165 [==============================] - 32s 194ms/step - loss: 0.2761 - accuracy: 0.8984 - val_loss: 0.3005 - val_accuracy: 0.8982\n",
            "Epoch 8/20\n",
            "165/165 [==============================] - 31s 189ms/step - loss: 0.2764 - accuracy: 0.8984 - val_loss: 0.2990 - val_accuracy: 0.8984\n",
            "Epoch 9/20\n",
            "165/165 [==============================] - 32s 192ms/step - loss: 0.2708 - accuracy: 0.8996 - val_loss: 0.2954 - val_accuracy: 0.9006\n",
            "Epoch 10/20\n",
            "165/165 [==============================] - 31s 185ms/step - loss: 0.2690 - accuracy: 0.9018 - val_loss: 0.2949 - val_accuracy: 0.9004\n",
            "Epoch 11/20\n",
            "165/165 [==============================] - 32s 194ms/step - loss: 0.2700 - accuracy: 0.9007 - val_loss: 0.2996 - val_accuracy: 0.8957\n",
            "Epoch 12/20\n",
            "165/165 [==============================] - 31s 186ms/step - loss: 0.2645 - accuracy: 0.9024 - val_loss: 0.3078 - val_accuracy: 0.8945\n",
            "Epoch 13/20\n",
            "165/165 [==============================] - 33s 198ms/step - loss: 0.2668 - accuracy: 0.9019 - val_loss: 0.2897 - val_accuracy: 0.9014\n",
            "Epoch 14/20\n",
            "165/165 [==============================] - 32s 192ms/step - loss: 0.2636 - accuracy: 0.9027 - val_loss: 0.2950 - val_accuracy: 0.9000\n",
            "Epoch 15/20\n",
            "165/165 [==============================] - 32s 193ms/step - loss: 0.2672 - accuracy: 0.9018 - val_loss: 0.3025 - val_accuracy: 0.8997\n",
            "Epoch 16/20\n",
            "165/165 [==============================] - 31s 190ms/step - loss: 0.2611 - accuracy: 0.9041 - val_loss: 0.2929 - val_accuracy: 0.9011\n",
            "Epoch 17/20\n",
            "165/165 [==============================] - 32s 195ms/step - loss: 0.2594 - accuracy: 0.9042 - val_loss: 0.2877 - val_accuracy: 0.9025\n",
            "Epoch 18/20\n",
            "165/165 [==============================] - 32s 192ms/step - loss: 0.2594 - accuracy: 0.9035 - val_loss: 0.2943 - val_accuracy: 0.8998\n",
            "Epoch 19/20\n",
            "165/165 [==============================] - 31s 190ms/step - loss: 0.2590 - accuracy: 0.9044 - val_loss: 0.2837 - val_accuracy: 0.9014\n",
            "Epoch 20/20\n",
            "165/165 [==============================] - 31s 190ms/step - loss: 0.2548 - accuracy: 0.9057 - val_loss: 0.2870 - val_accuracy: 0.9016\n"
          ]
        }
      ],
      "source": [
        "fash_vgg = model.fit(datagen.flow(x_train, y_train, batch_size=256), epochs=20, validation_data=(x_val, y_val), verbose=1)"
      ]
    },
    {
      "cell_type": "code",
      "execution_count": null,
      "metadata": {
        "id": "9QXeo0LjdBzE",
        "colab": {
          "base_uri": "https://localhost:8080/"
        },
        "outputId": "3443fa15-3cca-4d11-a087-53cc312173dd"
      },
      "outputs": [
        {
          "output_type": "stream",
          "name": "stderr",
          "text": [
            "WARNING:absl:Found untraced functions such as _jit_compiled_convolution_op, _jit_compiled_convolution_op, _jit_compiled_convolution_op, _jit_compiled_convolution_op, _jit_compiled_convolution_op while saving (showing 5 of 13). These functions will not be directly callable after loading.\n"
          ]
        }
      ],
      "source": [
        "model.save(\"my_model_fash_vgg_3_1_2\")"
      ]
    },
    {
      "cell_type": "markdown",
      "metadata": {
        "id": "jvkkW6G_WeEw"
      },
      "source": [
        "Evaluate The Model"
      ]
    },
    {
      "cell_type": "code",
      "execution_count": null,
      "metadata": {
        "id": "jEv4Ysl9jtMW",
        "colab": {
          "base_uri": "https://localhost:8080/"
        },
        "outputId": "5e05f636-93f0-4b55-df7b-08728a1e13f2"
      },
      "outputs": [
        {
          "output_type": "stream",
          "name": "stdout",
          "text": [
            "563/563 [==============================] - 6s 10ms/step - loss: 0.2870 - accuracy: 0.9016\n",
            "\n",
            "Test loss:0.2869925796985626,    Test accuracy:0.9015555381774902\n"
          ]
        }
      ],
      "source": [
        "test_loss, test_acc = model.evaluate(x_val, y_val)\n",
        "\n",
        "print(f'\\nTest loss:{test_loss},    Test accuracy:{test_acc}')"
      ]
    },
    {
      "cell_type": "code",
      "execution_count": null,
      "metadata": {
        "colab": {
          "base_uri": "https://localhost:8080/"
        },
        "id": "5p2sJng6We7J",
        "outputId": "d2f9dc78-478e-4690-d153-7e7281dc7bdc"
      },
      "outputs": [
        {
          "output_type": "stream",
          "name": "stdout",
          "text": [
            "Accuracy after fitting: 90.56666493415833%\n"
          ]
        }
      ],
      "source": [
        "print(f\"Accuracy after fitting: {fash_vgg.history['accuracy'][-1]*100}%\")\n",
        "\n",
        "# For better accuracy i can increase number of epochs or i can change \n",
        "# parameters on layers or i can add additional layer to the model."
      ]
    },
    {
      "cell_type": "code",
      "execution_count": null,
      "metadata": {
        "colab": {
          "base_uri": "https://localhost:8080/",
          "height": 388
        },
        "id": "UMwj00fbXTbD",
        "outputId": "3d5e478d-70dd-4085-af8a-4ba3f77bac6b"
      },
      "outputs": [
        {
          "output_type": "display_data",
          "data": {
            "text/plain": [
              "<Figure size 1440x432 with 2 Axes>"
            ],
            "image/png": "[encoded data removed]"
          },
          "metadata": {
            "needs_background": "light"
          }
        }
      ],
      "source": [
        "plt.figure(figsize=(20,6))\n",
        "\n",
        "plt.subplot(1,2,1)\n",
        "plt.plot(fash_vgg.history['loss'], color=\"blue\", label = \"Loss\")\n",
        "plt.plot(fash_vgg.history['val_loss'], color=\"orange\", label = \"Validation Loss\")\n",
        "plt.ylabel(\"Loss\")\n",
        "plt.xlabel(\"Number of Epochs\")\n",
        "plt.legend()\n",
        "\n",
        "plt.subplot(1,2,2)\n",
        "plt.plot(fash_vgg.history['accuracy'], color=\"green\", label = \"Accuracy\")\n",
        "plt.plot(fash_vgg.history['val_accuracy'], color=\"red\", label = \"Validation Accuracy\")\n",
        "plt.ylabel(\"Accuracy\")\n",
        "plt.xlabel(\"Number of Epochs\")\n",
        "plt.legend()\n",
        "plt.show()"
      ]
    },
    {
      "cell_type": "markdown",
      "metadata": {
        "id": "x-4xLvWGYE95"
      },
      "source": [
        "out score by giving test data we imported before"
      ]
    },
    {
      "cell_type": "code",
      "execution_count": null,
      "metadata": {
        "id": "tMTesWoQYO-f",
        "colab": {
          "base_uri": "https://localhost:8080/"
        },
        "outputId": "f8ff694c-fb7c-4eb3-fd2f-1fd2dd89cd8f"
      },
      "outputs": [
        {
          "output_type": "stream",
          "name": "stdout",
          "text": [
            "313/313 [==============================] - 3s 10ms/step - loss: 0.3214 - accuracy: 0.8977\n",
            "Test Loss: 0.3213605582714081\n",
            "Test Accuracy: 89.77000117301941%\n"
          ]
        }
      ],
      "source": [
        "# Y_test = to_categorical(Y_test, num_classes=10) # One-Hot Encoding\n",
        "score = model.evaluate(X_test, Y_test)\n",
        "print(f\"Test Loss: {score[0]}\")\n",
        "print(f\"Test Accuracy: {score[1]*100}%\")"
      ]
    },
    {
      "cell_type": "code",
      "execution_count": null,
      "metadata": {
        "id": "bnEk-0KBYrZA",
        "colab": {
          "base_uri": "https://localhost:8080/",
          "height": 639
        },
        "outputId": "47837b66-791f-4826-a873-a92503a0a8a6"
      },
      "outputs": [
        {
          "output_type": "stream",
          "name": "stdout",
          "text": [
            "313/313 [==============================] - 3s 8ms/step\n"
          ]
        },
        {
          "output_type": "display_data",
          "data": {
            "text/plain": [
              "<Figure size 720x720 with 2 Axes>"
            ],
            "image/png": "[encoded data removed]"
          },
          "metadata": {
            "needs_background": "light"
          }
        }
      ],
      "source": [
        "Y_pred = model.predict(X_test)\n",
        "Y_pred_classes = np.argmax(Y_pred, axis = 1)\n",
        "Y_true = np.argmax(Y_test, axis = 1)\n",
        "confusionMatrix = confusion_matrix(Y_true, Y_pred_classes)\n",
        "f,ax=plt.subplots(figsize=(10,10))\n",
        "sns.heatmap(confusionMatrix, annot=True, linewidths=0.1, cmap = \"gist_yarg_r\", linecolor=\"black\", fmt='.0f', ax=ax)\n",
        "plt.xlabel(\"Predicted Label\")\n",
        "plt.ylabel(\"True Label\")\n",
        "plt.title(\"Confusion Matrix\")\n",
        "plt.show()"
      ]
    },
    {
      "cell_type": "code",
      "execution_count": null,
      "metadata": {
        "id": "KdSjXGf4ZV1r",
        "colab": {
          "base_uri": "https://localhost:8080/"
        },
        "outputId": "37a854f6-aa0b-4857-b471-b46025b1bfa4"
      },
      "outputs": [
        {
          "output_type": "stream",
          "name": "stdout",
          "text": [
            "Class: 0\n",
            "Number of Wrong Prediction: 109 out of 1000\n",
            "Percentage of True Prediction: 89.1% \n",
            "<<<<<<<<<<<<<<<<<<<<<<<<<<<<<<<<<<<<<\n",
            "Class: 1\n",
            "Number of Wrong Prediction: 19 out of 1000\n",
            "Percentage of True Prediction: 98.1% \n",
            "<<<<<<<<<<<<<<<<<<<<<<<<<<<<<<<<<<<<<\n",
            "Class: 2\n",
            "Number of Wrong Prediction: 159 out of 1000\n",
            "Percentage of True Prediction: 84.1% \n",
            "<<<<<<<<<<<<<<<<<<<<<<<<<<<<<<<<<<<<<\n",
            "Class: 3\n",
            "Number of Wrong Prediction: 125 out of 1000\n",
            "Percentage of True Prediction: 87.5% \n",
            "<<<<<<<<<<<<<<<<<<<<<<<<<<<<<<<<<<<<<\n",
            "Class: 4\n",
            "Number of Wrong Prediction: 155 out of 1000\n",
            "Percentage of True Prediction: 84.5% \n",
            "<<<<<<<<<<<<<<<<<<<<<<<<<<<<<<<<<<<<<\n",
            "Class: 5\n",
            "Number of Wrong Prediction: 17 out of 1000\n",
            "Percentage of True Prediction: 98.3% \n",
            "<<<<<<<<<<<<<<<<<<<<<<<<<<<<<<<<<<<<<\n",
            "Class: 6\n",
            "Number of Wrong Prediction: 360 out of 1000\n",
            "Percentage of True Prediction: 64.0% \n",
            "<<<<<<<<<<<<<<<<<<<<<<<<<<<<<<<<<<<<<\n",
            "Class: 7\n",
            "Number of Wrong Prediction: 31 out of 1000\n",
            "Percentage of True Prediction: 96.9% \n",
            "<<<<<<<<<<<<<<<<<<<<<<<<<<<<<<<<<<<<<\n",
            "Class: 8\n",
            "Number of Wrong Prediction: 10 out of 1000\n",
            "Percentage of True Prediction: 99.0% \n",
            "<<<<<<<<<<<<<<<<<<<<<<<<<<<<<<<<<<<<<\n",
            "Class: 9\n",
            "Number of Wrong Prediction: 38 out of 1000\n",
            "Percentage of True Prediction: 96.2% \n",
            "<<<<<<<<<<<<<<<<<<<<<<<<<<<<<<<<<<<<<\n"
          ]
        }
      ],
      "source": [
        "for i in range(len(confusionMatrix)):\n",
        "    print(f\"Class: {str(i)}\")\n",
        "    print(f\"Number of Wrong Prediction: {str(sum(confusionMatrix[i])-confusionMatrix[i][i])} out of 1000\")\n",
        "    print(f\"Percentage of True Prediction: {confusionMatrix[i][i] / 10}% \")\n",
        "    print(\"<<<<<<<<<<<<<<<<<<<<<<<<<<<<<<<<<<<<<\")"
      ]
    }
  ],
  "metadata": {
    "accelerator": "GPU",
    "colab": {
      "provenance": [],
      "include_colab_link": true
    },
    "gpuClass": "standard",
    "kernelspec": {
      "display_name": "Python 3",
      "name": "python3"
    },
    "language_info": {
      "name": "python"
    }
  },
  "nbformat": 4,
  "nbformat_minor": 0
}