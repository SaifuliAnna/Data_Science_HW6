{
  "cells": [
    {
      "cell_type": "markdown",
      "metadata": {
        "id": "view-in-github",
        "colab_type": "text"
      },
      "source": [
        "<a href=\"https://colab.research.google.com/github/SaifuliAnna/DataScience_HW12/blob/main/HW_12(CNN_part_3_3).ipynb\" target=\"_parent\"><img src=\"https://colab.research.google.com/assets/colab-badge.svg\" alt=\"Open In Colab\"/></a>"
      ]
    },
    {
      "cell_type": "code",
      "execution_count": null,
      "metadata": {
        "id": "b4_576Efddj4"
      },
      "outputs": [],
      "source": [
        "from keras.applications.vgg16 import VGG16\n",
        "\n",
        "from keras import layers, models, Model\n",
        "\n",
        "import tensorflow as tf\n",
        "from sklearn.metrics import confusion_matrix\n",
        "from keras.utils.np_utils import to_categorical\n",
        "from keras.models import Sequential\n",
        "from keras.layers import Dense, Dropout, Flatten, Conv2D, MaxPool2D\n",
        "from keras.optimizers import RMSprop, Adam\n",
        "from keras.preprocessing.image import ImageDataGenerator\n",
        "from keras.callbacks import ReduceLROnPlateau\n",
        "import itertools\n",
        "from keras import callbacks\n",
        "\n",
        "import numpy as np\n",
        "import pandas as pd\n",
        "import seaborn as sns\n",
        "\n",
        "import matplotlib.pyplot as plt# Reading Train Data\n",
        "from keras.datasets import fashion_mnist"
      ]
    },
    {
      "cell_type": "code",
      "execution_count": null,
      "metadata": {
        "colab": {
          "base_uri": "https://localhost:8080/"
        },
        "id": "ME0sEDJ70ggB",
        "outputId": "b134676b-5a6f-4afa-ca30-05849b618aab"
      },
      "outputs": [
        {
          "output_type": "stream",
          "name": "stdout",
          "text": [
            "Downloading data from https://storage.googleapis.com/tensorflow/tf-keras-datasets/train-labels-idx1-ubyte.gz\n",
            "29515/29515 [==============================] - 0s 0us/step\n",
            "Downloading data from https://storage.googleapis.com/tensorflow/tf-keras-datasets/train-images-idx3-ubyte.gz\n",
            "26421880/26421880 [==============================] - 1s 0us/step\n",
            "Downloading data from https://storage.googleapis.com/tensorflow/tf-keras-datasets/t10k-labels-idx1-ubyte.gz\n",
            "5148/5148 [==============================] - 0s 0us/step\n",
            "Downloading data from https://storage.googleapis.com/tensorflow/tf-keras-datasets/t10k-images-idx3-ubyte.gz\n",
            "4422102/4422102 [==============================] - 0s 0us/step\n",
            "Shape of Train : 47040000\n",
            "Shape of Train : 60000\n",
            "Shape of Train : 7840000\n",
            "Shape of Train : 10000\n"
          ]
        }
      ],
      "source": [
        "(train_images, train_labels), (test_images, test_labels) = fashion_mnist.load_data()\n",
        "print(\"Shape of Train : \" + str(train_images.size))\n",
        "print(\"Shape of Train : \" + str(train_labels.size))\n",
        "print(\"Shape of Train : \" + str(test_images.size))\n",
        "print(\"Shape of Train : \" + str(test_labels.size))"
      ]
    },
    {
      "cell_type": "code",
      "execution_count": null,
      "metadata": {
        "colab": {
          "base_uri": "https://localhost:8080/"
        },
        "id": "EJdjXS2ZFfYt",
        "outputId": "ba264689-1122-40dc-b65b-dba8cbeae027"
      },
      "outputs": [
        {
          "output_type": "stream",
          "name": "stdout",
          "text": [
            "Shape of Train : (60000,)\n",
            "Shape of Train : (60000, 28, 28)\n",
            "Shape of Train : (10000, 28, 28)\n",
            "Shape of Train : (10000,)\n"
          ]
        }
      ],
      "source": [
        "Y_train = train_labels\n",
        "X_train = train_images\n",
        "X_test = test_images\n",
        "Y_test = test_labels\n",
        "\n",
        "print(\"Shape of Train : \" + str(Y_train.shape))\n",
        "print(\"Shape of Train : \" + str(X_train.shape))\n",
        "print(\"Shape of Train : \" + str(X_test.shape))\n",
        "print(\"Shape of Train : \" + str(Y_test.shape))"
      ]
    },
    {
      "cell_type": "code",
      "execution_count": null,
      "metadata": {
        "colab": {
          "base_uri": "https://localhost:8080/",
          "height": 399
        },
        "id": "npo-DONNGOOH",
        "outputId": "c429ed8f-b8d7-4d8d-d54b-26b468f6f00e"
      },
      "outputs": [
        {
          "output_type": "display_data",
          "data": {
            "text/plain": [
              "<Figure size 720x720 with 6 Axes>"
            ],
            "image/png": "[encoded data removed]"
          },
          "metadata": {
            "needs_background": "light"
          }
        }
      ],
      "source": [
        "plt.figure(figsize=(10,10))\n",
        "for i in range(6):\n",
        "    plt.subplot(3,3,i+1)\n",
        "    img = X_train[i]\n",
        "    plt.imshow(img)\n",
        "    plt.title(f\"Class: {str(i)}, {X_train[i].shape}\")\n",
        "    plt.axis('off')\n",
        "    \n",
        "plt.show()"
      ]
    },
    {
      "cell_type": "markdown",
      "metadata": {
        "id": "jzucCnI9Jf-z"
      },
      "source": [
        "Train-Test Split"
      ]
    },
    {
      "cell_type": "code",
      "execution_count": null,
      "metadata": {
        "colab": {
          "base_uri": "https://localhost:8080/"
        },
        "id": "RctkQ9w4IHpN",
        "outputId": "2b4eb715-1a9f-4933-b078-d5f9a456576b"
      },
      "outputs": [
        {
          "output_type": "stream",
          "name": "stdout",
          "text": [
            "x_train shape (42000, 28, 28)\n",
            "x_test shape (18000, 28, 28)\n",
            "y_train shape (42000,)\n",
            "y_test shape (18000,)\n"
          ]
        }
      ],
      "source": [
        "from sklearn.model_selection import train_test_split\n",
        "x_train, x_val, y_train, y_val = train_test_split(X_train, Y_train, test_size = 0.3, random_state = 42)\n",
        "\n",
        "print(\"x_train shape\",x_train.shape)\n",
        "print(\"x_test shape\",x_val.shape)\n",
        "print(\"y_train shape\",y_train.shape)\n",
        "print(\"y_test shape\",y_val.shape)"
      ]
    },
    {
      "cell_type": "code",
      "execution_count": null,
      "metadata": {
        "id": "3jcX2vWG-BKP"
      },
      "outputs": [],
      "source": [
        "# Нормализуем значения пикселей в диапазоне от 0 до 1\n",
        "x_train = x_train.astype(\"float32\") / 255.0\n",
        "x_val = x_val.astype(\"float32\") / 255.0\n",
        "\n",
        "X_test = X_test.astype(\"float32\") / 255.0"
      ]
    },
    {
      "cell_type": "code",
      "execution_count": null,
      "metadata": {
        "id": "wTMbDYcn-LPk",
        "colab": {
          "base_uri": "https://localhost:8080/"
        },
        "outputId": "6e8ffcbe-cdc1-4684-a4e2-9d599a1ad592"
      },
      "outputs": [
        {
          "output_type": "stream",
          "name": "stdout",
          "text": [
            "Shape of Train : (42000, 28, 28, 3)\n",
            "Shape of Valid : (18000, 28, 28, 3)\n",
            "Shape of Test : (10000, 28, 28, 3)\n"
          ]
        }
      ],
      "source": [
        "x_train = np.stack((x_train,)*3, axis=-1)\n",
        "x_val = np.stack((x_val,)*3, axis=-1)\n",
        "\n",
        "X_test = np.stack((X_test,)*3, axis=-1)\n",
        "\n",
        "print(\"Shape of Train : \" + str(x_train.shape))\n",
        "print(\"Shape of Valid : \" + str(x_val.shape))\n",
        "\n",
        "print(\"Shape of Test : \" + str(X_test.shape))"
      ]
    },
    {
      "cell_type": "code",
      "execution_count": null,
      "metadata": {
        "colab": {
          "base_uri": "https://localhost:8080/"
        },
        "id": "rX5ZtSWr-hhF",
        "outputId": "a663c5d1-dcb0-4c77-d3db-2755f1e889da"
      },
      "outputs": [
        {
          "output_type": "stream",
          "name": "stdout",
          "text": [
            "Shape of Train : (42000, 32, 32, 3)\n",
            "Shape of Valid : (18000, 32, 32, 3)\n",
            "Shape of Test : (10000, 32, 32, 3)\n"
          ]
        }
      ],
      "source": [
        "# Resizing images\n",
        "x_train = tf.image.resize(x_train, (32, 32))\n",
        "x_val = tf.image.resize(x_val, (32, 32))\n",
        "\n",
        "X_test = tf.image.resize(X_test, (32, 32))\n",
        "\n",
        "print(\"Shape of Train : \" + str(x_train.shape))\n",
        "print(\"Shape of Valid : \" + str(x_val.shape))\n",
        "\n",
        "print(\"Shape of Test : \" + str(X_test.shape))"
      ]
    },
    {
      "cell_type": "code",
      "execution_count": null,
      "metadata": {
        "id": "Lk6Lr4A6_3ha",
        "colab": {
          "base_uri": "https://localhost:8080/"
        },
        "outputId": "f8165b58-57ca-4375-b737-73ab7b74a3ca"
      },
      "outputs": [
        {
          "output_type": "stream",
          "name": "stdout",
          "text": [
            "Shape of Train : (42000, 10)\n",
            "Shape of Valid: (18000, 10)\n",
            "Shape of Test : (10000, 10)\n"
          ]
        }
      ],
      "source": [
        "# Transforming labels to correct format\n",
        "y_train = to_categorical(y_train, num_classes=10)\n",
        "y_val = to_categorical(y_val, num_classes=10)\n",
        "\n",
        "Y_test = to_categorical(Y_test, num_classes=10)\n",
        "\n",
        "print(\"Shape of Train : \" + str(y_train.shape))\n",
        "print(\"Shape of Valid: \" + str(y_val.shape))\n",
        "\n",
        "print(\"Shape of Test : \" + str(Y_test.shape))"
      ]
    },
    {
      "cell_type": "markdown",
      "metadata": {
        "id": "iFmycFvQENlq"
      },
      "source": [
        "Defining the parameters for instanitaing VGG16 model."
      ]
    },
    {
      "cell_type": "code",
      "execution_count": null,
      "metadata": {
        "id": "P6UBqvXVBLrn",
        "colab": {
          "base_uri": "https://localhost:8080/"
        },
        "outputId": "0dc363d0-fbc1-4bcb-d203-0969c67f2e48"
      },
      "outputs": [
        {
          "output_type": "stream",
          "name": "stdout",
          "text": [
            "Downloading data from https://storage.googleapis.com/tensorflow/keras-applications/vgg16/vgg16_weights_tf_dim_ordering_tf_kernels_notop.h5\n",
            "58889256/58889256 [==============================] - 1s 0us/step\n"
          ]
        }
      ],
      "source": [
        "# Loading VGG16 model\n",
        "# Загружаем предобученную сеть VGG16 без последних слоев\n",
        "conv_base = VGG16(weights=\"imagenet\", include_top=False, input_shape=(32, 32, 3))\n",
        "\n",
        "\n",
        "conv_base.trainable = True\n",
        "set_trainable = False\n",
        "for layer in conv_base.layers:    \n",
        "    if layer.name == \"block5_conv1\":        \n",
        "        set_trainable = True    \n",
        "    if set_trainable:        \n",
        "        layer.trainable = True    \n",
        "    else:        \n",
        "        layer.trainable = False"
      ]
    },
    {
      "cell_type": "code",
      "execution_count": null,
      "metadata": {
        "colab": {
          "base_uri": "https://localhost:8080/"
        },
        "id": "FRSeR3hfFuZV",
        "outputId": "b2191043-80ca-4499-e65b-8ae72b7ac57b"
      },
      "outputs": [
        {
          "output_type": "stream",
          "name": "stdout",
          "text": [
            "Model: \"vgg16\"\n",
            "_________________________________________________________________\n",
            " Layer (type)                Output Shape              Param #   \n",
            "=================================================================\n",
            " input_2 (InputLayer)        [(None, 32, 32, 3)]       0         \n",
            "                                                                 \n",
            " block1_conv1 (Conv2D)       (None, 32, 32, 64)        1792      \n",
            "                                                                 \n",
            " block1_conv2 (Conv2D)       (None, 32, 32, 64)        36928     \n",
            "                                                                 \n",
            " block1_pool (MaxPooling2D)  (None, 16, 16, 64)        0         \n",
            "                                                                 \n",
            " block2_conv1 (Conv2D)       (None, 16, 16, 128)       73856     \n",
            "                                                                 \n",
            " block2_conv2 (Conv2D)       (None, 16, 16, 128)       147584    \n",
            "                                                                 \n",
            " block2_pool (MaxPooling2D)  (None, 8, 8, 128)         0         \n",
            "                                                                 \n",
            " block3_conv1 (Conv2D)       (None, 8, 8, 256)         295168    \n",
            "                                                                 \n",
            " block3_conv2 (Conv2D)       (None, 8, 8, 256)         590080    \n",
            "                                                                 \n",
            " block3_conv3 (Conv2D)       (None, 8, 8, 256)         590080    \n",
            "                                                                 \n",
            " block3_pool (MaxPooling2D)  (None, 4, 4, 256)         0         \n",
            "                                                                 \n",
            " block4_conv1 (Conv2D)       (None, 4, 4, 512)         1180160   \n",
            "                                                                 \n",
            " block4_conv2 (Conv2D)       (None, 4, 4, 512)         2359808   \n",
            "                                                                 \n",
            " block4_conv3 (Conv2D)       (None, 4, 4, 512)         2359808   \n",
            "                                                                 \n",
            " block4_pool (MaxPooling2D)  (None, 2, 2, 512)         0         \n",
            "                                                                 \n",
            " block5_conv1 (Conv2D)       (None, 2, 2, 512)         2359808   \n",
            "                                                                 \n",
            " block5_conv2 (Conv2D)       (None, 2, 2, 512)         2359808   \n",
            "                                                                 \n",
            " block5_conv3 (Conv2D)       (None, 2, 2, 512)         2359808   \n",
            "                                                                 \n",
            " block5_pool (MaxPooling2D)  (None, 1, 1, 512)         0         \n",
            "                                                                 \n",
            "=================================================================\n",
            "Total params: 14,714,688\n",
            "Trainable params: 7,079,424\n",
            "Non-trainable params: 7,635,264\n",
            "_________________________________________________________________\n"
          ]
        }
      ],
      "source": [
        "conv_base.summary()"
      ]
    },
    {
      "cell_type": "markdown",
      "metadata": {
        "id": "fDaW3qdrJ6rq"
      },
      "source": [
        "Create Model"
      ]
    },
    {
      "cell_type": "code",
      "execution_count": null,
      "metadata": {
        "id": "YRRbR78-nTiB"
      },
      "outputs": [],
      "source": [
        "model = models.Sequential([   \n",
        "    conv_base,   \n",
        "    layers.Flatten(),\n",
        "    layers.Dense(1024, activation=\"relu\"),   \n",
        "    layers.Dropout(0.5),\n",
        "    layers.Dense(10, activation=\"softmax\")\n",
        "])"
      ]
    },
    {
      "cell_type": "markdown",
      "metadata": {
        "id": "nCgLyl5JKqOY"
      },
      "source": [
        "Optimizer\n",
        "\n",
        "Adam optimizer we can say adam optimizer updates leraning rate dynamically."
      ]
    },
    {
      "cell_type": "code",
      "execution_count": null,
      "metadata": {
        "id": "JjayGF1bKqo8"
      },
      "outputs": [],
      "source": [
        "optimizer = Adam(learning_rate=0.00001, beta_1=0.9, beta_2=0.999, epsilon=None, decay=0.0, amsgrad=False);"
      ]
    },
    {
      "cell_type": "markdown",
      "metadata": {
        "id": "-uAu-53NLXmy"
      },
      "source": [
        "Compile Model\n",
        "\n",
        "Since we have 10 classes we’ll use categorical crossentropy."
      ]
    },
    {
      "cell_type": "code",
      "execution_count": null,
      "metadata": {
        "id": "8CT0En8eLYb9"
      },
      "outputs": [],
      "source": [
        "model.compile(optimizer = optimizer, loss = 'categorical_crossentropy', metrics=['accuracy'])"
      ]
    },
    {
      "cell_type": "markdown",
      "metadata": {
        "id": "Cz9XHrKoLsnU"
      },
      "source": [
        "Epoch and Batch Size"
      ]
    },
    {
      "cell_type": "markdown",
      "metadata": {
        "id": "mlN3q3a1L05R"
      },
      "source": [
        "Epoch is the number of times the algorithm sees the entire data set. If one epoch is too big to run to the computer at once we divide it smaller parts and number of this parts is called batch."
      ]
    },
    {
      "cell_type": "code",
      "execution_count": null,
      "metadata": {
        "id": "RHwowmecLtvA"
      },
      "outputs": [],
      "source": [
        "# epochs = 100\n",
        "# batchSize = 300\n",
        "# steps_per_epoch=x_train.shape[0] // batchSize"
      ]
    },
    {
      "cell_type": "markdown",
      "metadata": {
        "id": "kaJ52oo4L41W"
      },
      "source": [
        "Data Augmentation\n",
        "\n",
        "By using “data augmentation” we can create new data with different orientations. It prevents overfitting."
      ]
    },
    {
      "cell_type": "markdown",
      "metadata": {
        "id": "c8E1ekgkMBaa"
      },
      "source": [
        "Data Augmentation\n",
        "\n",
        "By using “data augmentation” we can create new data with different orientations. It prevents overfitting."
      ]
    },
    {
      "cell_type": "markdown",
      "metadata": {
        "id": "YeJYAQocOu0L"
      },
      "source": [
        "Reduced learning and Early stopping for callback Implementation"
      ]
    },
    {
      "cell_type": "code",
      "source": [
        "np.random.seed(300)"
      ],
      "metadata": {
        "id": "QGarnv84aogP"
      },
      "execution_count": null,
      "outputs": []
    },
    {
      "cell_type": "markdown",
      "metadata": {
        "id": "mFuUmKDIM5vY"
      },
      "source": [
        "Fit The Model"
      ]
    },
    {
      "cell_type": "code",
      "source": [
        "# Data Augmentation\n",
        "datagen = ImageDataGenerator(\n",
        "        featurewise_center=False,  # set input mean to 0 over the dataset\n",
        "        samplewise_center=False,  # set each sample mean to 0\n",
        "        featurewise_std_normalization=False,  # divide inputs by std of the dataset\n",
        "        samplewise_std_normalization=False,  # divide each input by its std\n",
        "        zca_whitening=False,  # dimesion reduction\n",
        "        rotation_range=0.1,  # randomly rotate images in the range\n",
        "        zoom_range =0.1, # Randomly zoom image\n",
        "        width_shift_range=0.1,  # randomly shift images horizontally\n",
        "        height_shift_range=0.1,  # randomly shift images vertically\n",
        "        horizontal_flip=False,  # randomly flip images\n",
        "        vertical_flip=False)  # randomly flip imagesdatagen.fit(x_train)\n",
        "\n",
        "datagen.fit(x_train)"
      ],
      "metadata": {
        "id": "jeS2aUddS8EI"
      },
      "execution_count": null,
      "outputs": []
    },
    {
      "cell_type": "code",
      "source": [
        "fash_vgg = model.fit(datagen.flow(x_train, y_train, batch_size=256), epochs=100, validation_data=(x_val, y_val), verbose=1)"
      ],
      "metadata": {
        "colab": {
          "base_uri": "https://localhost:8080/"
        },
        "id": "WS6gnEl8TFE8",
        "outputId": "359ffdbf-a063-4967-ebb9-6b78f0fb5f76"
      },
      "execution_count": null,
      "outputs": [
        {
          "output_type": "stream",
          "name": "stdout",
          "text": [
            "Epoch 1/100\n",
            "165/165 [==============================] - 52s 245ms/step - loss: 1.2640 - accuracy: 0.5628 - val_loss: 0.5597 - val_accuracy: 0.7999\n",
            "Epoch 2/100\n",
            "165/165 [==============================] - 31s 190ms/step - loss: 0.5981 - accuracy: 0.7845 - val_loss: 0.4475 - val_accuracy: 0.8327\n",
            "Epoch 3/100\n",
            "165/165 [==============================] - 32s 194ms/step - loss: 0.5087 - accuracy: 0.8136 - val_loss: 0.4083 - val_accuracy: 0.8473\n",
            "Epoch 4/100\n",
            "165/165 [==============================] - 32s 196ms/step - loss: 0.4647 - accuracy: 0.8291 - val_loss: 0.3844 - val_accuracy: 0.8571\n",
            "Epoch 5/100\n",
            "165/165 [==============================] - 31s 188ms/step - loss: 0.4386 - accuracy: 0.8381 - val_loss: 0.3694 - val_accuracy: 0.8628\n",
            "Epoch 6/100\n",
            "165/165 [==============================] - 33s 197ms/step - loss: 0.4148 - accuracy: 0.8474 - val_loss: 0.3623 - val_accuracy: 0.8653\n",
            "Epoch 7/100\n",
            "165/165 [==============================] - 31s 190ms/step - loss: 0.4018 - accuracy: 0.8510 - val_loss: 0.3400 - val_accuracy: 0.8744\n",
            "Epoch 8/100\n",
            "165/165 [==============================] - 33s 199ms/step - loss: 0.3873 - accuracy: 0.8575 - val_loss: 0.3385 - val_accuracy: 0.8752\n",
            "Epoch 9/100\n",
            "165/165 [==============================] - 37s 226ms/step - loss: 0.3741 - accuracy: 0.8622 - val_loss: 0.3303 - val_accuracy: 0.8790\n",
            "Epoch 10/100\n",
            "165/165 [==============================] - 31s 191ms/step - loss: 0.3647 - accuracy: 0.8656 - val_loss: 0.3312 - val_accuracy: 0.8762\n",
            "Epoch 11/100\n",
            "165/165 [==============================] - 33s 197ms/step - loss: 0.3561 - accuracy: 0.8702 - val_loss: 0.3161 - val_accuracy: 0.8820\n",
            "Epoch 12/100\n",
            "165/165 [==============================] - 32s 196ms/step - loss: 0.3480 - accuracy: 0.8716 - val_loss: 0.3177 - val_accuracy: 0.8826\n",
            "Epoch 13/100\n",
            "165/165 [==============================] - 32s 194ms/step - loss: 0.3403 - accuracy: 0.8738 - val_loss: 0.3050 - val_accuracy: 0.8876\n",
            "Epoch 14/100\n",
            "165/165 [==============================] - 33s 199ms/step - loss: 0.3342 - accuracy: 0.8762 - val_loss: 0.3005 - val_accuracy: 0.8879\n",
            "Epoch 15/100\n",
            "165/165 [==============================] - 33s 197ms/step - loss: 0.3312 - accuracy: 0.8765 - val_loss: 0.3027 - val_accuracy: 0.8882\n",
            "Epoch 16/100\n",
            "165/165 [==============================] - 33s 200ms/step - loss: 0.3246 - accuracy: 0.8808 - val_loss: 0.2976 - val_accuracy: 0.8909\n",
            "Epoch 17/100\n",
            "165/165 [==============================] - 32s 193ms/step - loss: 0.3156 - accuracy: 0.8825 - val_loss: 0.2933 - val_accuracy: 0.8926\n",
            "Epoch 18/100\n",
            "165/165 [==============================] - 33s 199ms/step - loss: 0.3117 - accuracy: 0.8842 - val_loss: 0.2899 - val_accuracy: 0.8932\n",
            "Epoch 19/100\n",
            "165/165 [==============================] - 32s 194ms/step - loss: 0.3113 - accuracy: 0.8833 - val_loss: 0.2960 - val_accuracy: 0.8918\n",
            "Epoch 20/100\n",
            "165/165 [==============================] - 32s 194ms/step - loss: 0.3062 - accuracy: 0.8868 - val_loss: 0.2845 - val_accuracy: 0.8943\n",
            "Epoch 21/100\n",
            "165/165 [==============================] - 32s 195ms/step - loss: 0.3018 - accuracy: 0.8889 - val_loss: 0.2884 - val_accuracy: 0.8933\n",
            "Epoch 22/100\n",
            "165/165 [==============================] - 32s 192ms/step - loss: 0.2950 - accuracy: 0.8898 - val_loss: 0.2834 - val_accuracy: 0.8960\n",
            "Epoch 23/100\n",
            "165/165 [==============================] - 32s 196ms/step - loss: 0.2943 - accuracy: 0.8919 - val_loss: 0.2797 - val_accuracy: 0.8959\n",
            "Epoch 24/100\n",
            "165/165 [==============================] - 32s 193ms/step - loss: 0.2913 - accuracy: 0.8921 - val_loss: 0.2789 - val_accuracy: 0.8975\n",
            "Epoch 25/100\n",
            "165/165 [==============================] - 32s 194ms/step - loss: 0.2864 - accuracy: 0.8944 - val_loss: 0.2734 - val_accuracy: 0.8989\n",
            "Epoch 26/100\n",
            "165/165 [==============================] - 31s 191ms/step - loss: 0.2838 - accuracy: 0.8941 - val_loss: 0.2777 - val_accuracy: 0.8980\n",
            "Epoch 27/100\n",
            "165/165 [==============================] - 33s 202ms/step - loss: 0.2800 - accuracy: 0.8949 - val_loss: 0.2749 - val_accuracy: 0.8977\n",
            "Epoch 28/100\n",
            "165/165 [==============================] - 32s 193ms/step - loss: 0.2778 - accuracy: 0.8966 - val_loss: 0.2757 - val_accuracy: 0.8964\n",
            "Epoch 29/100\n",
            "165/165 [==============================] - 31s 191ms/step - loss: 0.2748 - accuracy: 0.8984 - val_loss: 0.2741 - val_accuracy: 0.8972\n",
            "Epoch 30/100\n",
            "165/165 [==============================] - 32s 197ms/step - loss: 0.2734 - accuracy: 0.8993 - val_loss: 0.2704 - val_accuracy: 0.8994\n",
            "Epoch 31/100\n",
            "165/165 [==============================] - 32s 192ms/step - loss: 0.2698 - accuracy: 0.8997 - val_loss: 0.2696 - val_accuracy: 0.9002\n",
            "Epoch 32/100\n",
            "165/165 [==============================] - 32s 192ms/step - loss: 0.2655 - accuracy: 0.9013 - val_loss: 0.2641 - val_accuracy: 0.9032\n",
            "Epoch 33/100\n",
            "165/165 [==============================] - 32s 194ms/step - loss: 0.2654 - accuracy: 0.9034 - val_loss: 0.2639 - val_accuracy: 0.9041\n",
            "Epoch 34/100\n",
            "165/165 [==============================] - 33s 198ms/step - loss: 0.2591 - accuracy: 0.9024 - val_loss: 0.2682 - val_accuracy: 0.9009\n",
            "Epoch 35/100\n",
            "165/165 [==============================] - 32s 193ms/step - loss: 0.2584 - accuracy: 0.9034 - val_loss: 0.2661 - val_accuracy: 0.9015\n",
            "Epoch 36/100\n",
            "165/165 [==============================] - 32s 194ms/step - loss: 0.2533 - accuracy: 0.9061 - val_loss: 0.2673 - val_accuracy: 0.8993\n",
            "Epoch 37/100\n",
            "165/165 [==============================] - 32s 196ms/step - loss: 0.2533 - accuracy: 0.9065 - val_loss: 0.2639 - val_accuracy: 0.9025\n",
            "Epoch 38/100\n",
            "165/165 [==============================] - 32s 192ms/step - loss: 0.2519 - accuracy: 0.9061 - val_loss: 0.2664 - val_accuracy: 0.9021\n",
            "Epoch 39/100\n",
            "165/165 [==============================] - 33s 198ms/step - loss: 0.2526 - accuracy: 0.9063 - val_loss: 0.2643 - val_accuracy: 0.9018\n",
            "Epoch 40/100\n",
            "165/165 [==============================] - 32s 194ms/step - loss: 0.2483 - accuracy: 0.9080 - val_loss: 0.2642 - val_accuracy: 0.9024\n",
            "Epoch 41/100\n",
            "165/165 [==============================] - 33s 199ms/step - loss: 0.2477 - accuracy: 0.9075 - val_loss: 0.2601 - val_accuracy: 0.9046\n",
            "Epoch 42/100\n",
            "165/165 [==============================] - 32s 195ms/step - loss: 0.2462 - accuracy: 0.9080 - val_loss: 0.2661 - val_accuracy: 0.9011\n",
            "Epoch 43/100\n",
            "165/165 [==============================] - 31s 191ms/step - loss: 0.2455 - accuracy: 0.9094 - val_loss: 0.2538 - val_accuracy: 0.9061\n",
            "Epoch 44/100\n",
            "165/165 [==============================] - 32s 196ms/step - loss: 0.2376 - accuracy: 0.9125 - val_loss: 0.2558 - val_accuracy: 0.9056\n",
            "Epoch 45/100\n",
            "165/165 [==============================] - 32s 192ms/step - loss: 0.2374 - accuracy: 0.9128 - val_loss: 0.2604 - val_accuracy: 0.9032\n",
            "Epoch 46/100\n",
            "165/165 [==============================] - 33s 200ms/step - loss: 0.2367 - accuracy: 0.9129 - val_loss: 0.2573 - val_accuracy: 0.9041\n",
            "Epoch 47/100\n",
            "165/165 [==============================] - 32s 195ms/step - loss: 0.2351 - accuracy: 0.9121 - val_loss: 0.2503 - val_accuracy: 0.9076\n",
            "Epoch 48/100\n",
            "165/165 [==============================] - 32s 194ms/step - loss: 0.2323 - accuracy: 0.9141 - val_loss: 0.2647 - val_accuracy: 0.9033\n",
            "Epoch 49/100\n",
            "165/165 [==============================] - 32s 193ms/step - loss: 0.2315 - accuracy: 0.9154 - val_loss: 0.2573 - val_accuracy: 0.9045\n",
            "Epoch 50/100\n",
            "165/165 [==============================] - 31s 191ms/step - loss: 0.2317 - accuracy: 0.9134 - val_loss: 0.2564 - val_accuracy: 0.9038\n",
            "Epoch 51/100\n",
            "165/165 [==============================] - 32s 194ms/step - loss: 0.2242 - accuracy: 0.9164 - val_loss: 0.2553 - val_accuracy: 0.9057\n",
            "Epoch 52/100\n",
            "165/165 [==============================] - 32s 194ms/step - loss: 0.2261 - accuracy: 0.9167 - val_loss: 0.2569 - val_accuracy: 0.9063\n",
            "Epoch 53/100\n",
            "165/165 [==============================] - 32s 197ms/step - loss: 0.2236 - accuracy: 0.9178 - val_loss: 0.2592 - val_accuracy: 0.9064\n",
            "Epoch 54/100\n",
            "165/165 [==============================] - 32s 192ms/step - loss: 0.2225 - accuracy: 0.9165 - val_loss: 0.2516 - val_accuracy: 0.9073\n",
            "Epoch 55/100\n",
            "165/165 [==============================] - 32s 193ms/step - loss: 0.2209 - accuracy: 0.9170 - val_loss: 0.2584 - val_accuracy: 0.9046\n",
            "Epoch 56/100\n",
            "165/165 [==============================] - 31s 189ms/step - loss: 0.2183 - accuracy: 0.9188 - val_loss: 0.2584 - val_accuracy: 0.9047\n",
            "Epoch 57/100\n",
            "165/165 [==============================] - 32s 195ms/step - loss: 0.2177 - accuracy: 0.9183 - val_loss: 0.2551 - val_accuracy: 0.9062\n",
            "Epoch 58/100\n",
            "165/165 [==============================] - 31s 190ms/step - loss: 0.2154 - accuracy: 0.9194 - val_loss: 0.2540 - val_accuracy: 0.9075\n",
            "Epoch 59/100\n",
            "165/165 [==============================] - 32s 194ms/step - loss: 0.2149 - accuracy: 0.9200 - val_loss: 0.2485 - val_accuracy: 0.9074\n",
            "Epoch 60/100\n",
            "165/165 [==============================] - 32s 194ms/step - loss: 0.2147 - accuracy: 0.9193 - val_loss: 0.2558 - val_accuracy: 0.9058\n",
            "Epoch 61/100\n",
            "165/165 [==============================] - 32s 196ms/step - loss: 0.2109 - accuracy: 0.9219 - val_loss: 0.2521 - val_accuracy: 0.9064\n",
            "Epoch 62/100\n",
            "165/165 [==============================] - 33s 197ms/step - loss: 0.2078 - accuracy: 0.9232 - val_loss: 0.2601 - val_accuracy: 0.9054\n",
            "Epoch 63/100\n",
            "165/165 [==============================] - 35s 209ms/step - loss: 0.2093 - accuracy: 0.9229 - val_loss: 0.2581 - val_accuracy: 0.9074\n",
            "Epoch 64/100\n",
            "165/165 [==============================] - 32s 192ms/step - loss: 0.2076 - accuracy: 0.9231 - val_loss: 0.2543 - val_accuracy: 0.9051\n",
            "Epoch 65/100\n",
            "165/165 [==============================] - 31s 189ms/step - loss: 0.2024 - accuracy: 0.9239 - val_loss: 0.2564 - val_accuracy: 0.9074\n",
            "Epoch 66/100\n",
            "165/165 [==============================] - 32s 195ms/step - loss: 0.2022 - accuracy: 0.9246 - val_loss: 0.2518 - val_accuracy: 0.9086\n",
            "Epoch 67/100\n",
            "165/165 [==============================] - 31s 191ms/step - loss: 0.2042 - accuracy: 0.9242 - val_loss: 0.2524 - val_accuracy: 0.9071\n",
            "Epoch 68/100\n",
            "165/165 [==============================] - 33s 197ms/step - loss: 0.1997 - accuracy: 0.9246 - val_loss: 0.2564 - val_accuracy: 0.9059\n",
            "Epoch 69/100\n",
            "165/165 [==============================] - 32s 194ms/step - loss: 0.2013 - accuracy: 0.9255 - val_loss: 0.2523 - val_accuracy: 0.9092\n",
            "Epoch 70/100\n",
            "165/165 [==============================] - 32s 194ms/step - loss: 0.1969 - accuracy: 0.9262 - val_loss: 0.2715 - val_accuracy: 0.9013\n",
            "Epoch 71/100\n",
            "165/165 [==============================] - 32s 194ms/step - loss: 0.1979 - accuracy: 0.9258 - val_loss: 0.2569 - val_accuracy: 0.9067\n",
            "Epoch 72/100\n",
            "165/165 [==============================] - 32s 194ms/step - loss: 0.1949 - accuracy: 0.9280 - val_loss: 0.2575 - val_accuracy: 0.9072\n",
            "Epoch 73/100\n",
            "165/165 [==============================] - 33s 200ms/step - loss: 0.1947 - accuracy: 0.9272 - val_loss: 0.2628 - val_accuracy: 0.9060\n",
            "Epoch 74/100\n",
            "165/165 [==============================] - 32s 194ms/step - loss: 0.1914 - accuracy: 0.9290 - val_loss: 0.2567 - val_accuracy: 0.9063\n",
            "Epoch 75/100\n",
            "165/165 [==============================] - 31s 190ms/step - loss: 0.1894 - accuracy: 0.9289 - val_loss: 0.2542 - val_accuracy: 0.9086\n",
            "Epoch 76/100\n",
            "165/165 [==============================] - 31s 191ms/step - loss: 0.1923 - accuracy: 0.9269 - val_loss: 0.2513 - val_accuracy: 0.9073\n",
            "Epoch 77/100\n",
            "165/165 [==============================] - 32s 193ms/step - loss: 0.1892 - accuracy: 0.9296 - val_loss: 0.2529 - val_accuracy: 0.9097\n",
            "Epoch 78/100\n",
            "165/165 [==============================] - 32s 193ms/step - loss: 0.1859 - accuracy: 0.9310 - val_loss: 0.2548 - val_accuracy: 0.9089\n",
            "Epoch 79/100\n",
            "165/165 [==============================] - 31s 190ms/step - loss: 0.1869 - accuracy: 0.9313 - val_loss: 0.2512 - val_accuracy: 0.9089\n",
            "Epoch 80/100\n",
            "165/165 [==============================] - 32s 194ms/step - loss: 0.1866 - accuracy: 0.9315 - val_loss: 0.2600 - val_accuracy: 0.9091\n",
            "Epoch 81/100\n",
            "165/165 [==============================] - 32s 193ms/step - loss: 0.1824 - accuracy: 0.9316 - val_loss: 0.2523 - val_accuracy: 0.9100\n",
            "Epoch 82/100\n",
            "165/165 [==============================] - 32s 195ms/step - loss: 0.1839 - accuracy: 0.9322 - val_loss: 0.2594 - val_accuracy: 0.9083\n",
            "Epoch 83/100\n",
            "165/165 [==============================] - 32s 194ms/step - loss: 0.1808 - accuracy: 0.9324 - val_loss: 0.2624 - val_accuracy: 0.9074\n",
            "Epoch 84/100\n",
            "165/165 [==============================] - 32s 193ms/step - loss: 0.1833 - accuracy: 0.9322 - val_loss: 0.2586 - val_accuracy: 0.9074\n",
            "Epoch 85/100\n",
            "165/165 [==============================] - 32s 194ms/step - loss: 0.1771 - accuracy: 0.9339 - val_loss: 0.2620 - val_accuracy: 0.9058\n",
            "Epoch 86/100\n",
            "165/165 [==============================] - 32s 193ms/step - loss: 0.1832 - accuracy: 0.9305 - val_loss: 0.2538 - val_accuracy: 0.9087\n",
            "Epoch 87/100\n",
            "165/165 [==============================] - 31s 189ms/step - loss: 0.1781 - accuracy: 0.9326 - val_loss: 0.2671 - val_accuracy: 0.9067\n",
            "Epoch 88/100\n",
            "165/165 [==============================] - 32s 192ms/step - loss: 0.1770 - accuracy: 0.9335 - val_loss: 0.2574 - val_accuracy: 0.9081\n",
            "Epoch 89/100\n",
            "165/165 [==============================] - 32s 193ms/step - loss: 0.1731 - accuracy: 0.9353 - val_loss: 0.2545 - val_accuracy: 0.9080\n",
            "Epoch 90/100\n",
            "165/165 [==============================] - 31s 191ms/step - loss: 0.1755 - accuracy: 0.9344 - val_loss: 0.2618 - val_accuracy: 0.9061\n",
            "Epoch 91/100\n",
            "165/165 [==============================] - 32s 194ms/step - loss: 0.1721 - accuracy: 0.9360 - val_loss: 0.2589 - val_accuracy: 0.9073\n",
            "Epoch 92/100\n",
            "165/165 [==============================] - 31s 189ms/step - loss: 0.1715 - accuracy: 0.9354 - val_loss: 0.2569 - val_accuracy: 0.9087\n",
            "Epoch 93/100\n",
            "165/165 [==============================] - 32s 192ms/step - loss: 0.1683 - accuracy: 0.9377 - val_loss: 0.2606 - val_accuracy: 0.9066\n",
            "Epoch 94/100\n",
            "165/165 [==============================] - 31s 188ms/step - loss: 0.1721 - accuracy: 0.9349 - val_loss: 0.2553 - val_accuracy: 0.9088\n",
            "Epoch 95/100\n",
            "165/165 [==============================] - 32s 193ms/step - loss: 0.1661 - accuracy: 0.9389 - val_loss: 0.2619 - val_accuracy: 0.9099\n",
            "Epoch 96/100\n",
            "165/165 [==============================] - 31s 189ms/step - loss: 0.1680 - accuracy: 0.9372 - val_loss: 0.2654 - val_accuracy: 0.9056\n",
            "Epoch 97/100\n",
            "165/165 [==============================] - 33s 197ms/step - loss: 0.1692 - accuracy: 0.9361 - val_loss: 0.2544 - val_accuracy: 0.9114\n",
            "Epoch 98/100\n",
            "165/165 [==============================] - 31s 190ms/step - loss: 0.1671 - accuracy: 0.9377 - val_loss: 0.2585 - val_accuracy: 0.9079\n",
            "Epoch 99/100\n",
            "165/165 [==============================] - 33s 199ms/step - loss: 0.1617 - accuracy: 0.9399 - val_loss: 0.2579 - val_accuracy: 0.9100\n",
            "Epoch 100/100\n",
            "165/165 [==============================] - 32s 191ms/step - loss: 0.1609 - accuracy: 0.9401 - val_loss: 0.2674 - val_accuracy: 0.9073\n"
          ]
        }
      ]
    },
    {
      "cell_type": "code",
      "execution_count": null,
      "metadata": {
        "id": "9QXeo0LjdBzE"
      },
      "outputs": [],
      "source": [
        "model.save(\"my_model_fash_vgg_3_3\")"
      ]
    },
    {
      "cell_type": "markdown",
      "metadata": {
        "id": "jvkkW6G_WeEw"
      },
      "source": [
        "Evaluate The Model"
      ]
    },
    {
      "cell_type": "code",
      "execution_count": null,
      "metadata": {
        "id": "jEv4Ysl9jtMW",
        "colab": {
          "base_uri": "https://localhost:8080/"
        },
        "outputId": "2044be5a-cadc-4eb2-b080-688cb1bf4783"
      },
      "outputs": [
        {
          "output_type": "stream",
          "name": "stdout",
          "text": [
            "563/563 [==============================] - 5s 9ms/step - loss: 0.2674 - accuracy: 0.9073\n",
            "\n",
            "Test loss:0.2673550248146057,    Test accuracy:0.9072777628898621\n"
          ]
        }
      ],
      "source": [
        "test_loss, test_acc = model.evaluate(x_val, y_val)\n",
        "\n",
        "print(f'\\nTest loss:{test_loss},    Test accuracy:{test_acc}')"
      ]
    },
    {
      "cell_type": "code",
      "execution_count": null,
      "metadata": {
        "colab": {
          "base_uri": "https://localhost:8080/"
        },
        "id": "5p2sJng6We7J",
        "outputId": "3ed9a62d-21f6-40bb-c60b-b084113d7a20"
      },
      "outputs": [
        {
          "output_type": "stream",
          "name": "stdout",
          "text": [
            "Accuracy after fitting: 94.00714039802551%\n"
          ]
        }
      ],
      "source": [
        "print(f\"Accuracy after fitting: {fash_vgg.history['accuracy'][-1]*100}%\")\n",
        "\n",
        "# For better accuracy i can increase number of epochs or i can change \n",
        "# parameters on layers or i can add additional layer to the model."
      ]
    },
    {
      "cell_type": "code",
      "execution_count": null,
      "metadata": {
        "colab": {
          "base_uri": "https://localhost:8080/",
          "height": 388
        },
        "id": "UMwj00fbXTbD",
        "outputId": "222a0190-aaf1-4fea-9553-6f2f652dbb51"
      },
      "outputs": [
        {
          "output_type": "display_data",
          "data": {
            "text/plain": [
              "<Figure size 1440x432 with 2 Axes>"
            ],
            "image/png": "[encoded data removed]"
          },
          "metadata": {
            "needs_background": "light"
          }
        }
      ],
      "source": [
        "plt.figure(figsize=(20,6))\n",
        "\n",
        "plt.subplot(1,2,1)\n",
        "plt.plot(fash_vgg.history['loss'], color=\"blue\", label = \"Loss\")\n",
        "plt.plot(fash_vgg.history['val_loss'], color=\"orange\", label = \"Validation Loss\")\n",
        "plt.ylabel(\"Loss\")\n",
        "plt.xlabel(\"Number of Epochs\")\n",
        "plt.legend()\n",
        "\n",
        "plt.subplot(1,2,2)\n",
        "plt.plot(fash_vgg.history['accuracy'], color=\"green\", label = \"Accuracy\")\n",
        "plt.plot(fash_vgg.history['val_accuracy'], color=\"red\", label = \"Validation Accuracy\")\n",
        "plt.ylabel(\"Accuracy\")\n",
        "plt.xlabel(\"Number of Epochs\")\n",
        "plt.legend()\n",
        "plt.show()"
      ]
    },
    {
      "cell_type": "markdown",
      "metadata": {
        "id": "x-4xLvWGYE95"
      },
      "source": [
        "out score by giving test data we imported before"
      ]
    },
    {
      "cell_type": "code",
      "execution_count": null,
      "metadata": {
        "id": "tMTesWoQYO-f",
        "colab": {
          "base_uri": "https://localhost:8080/"
        },
        "outputId": "2c217065-5212-4b16-d9e8-1dd46363590c"
      },
      "outputs": [
        {
          "output_type": "stream",
          "name": "stdout",
          "text": [
            "313/313 [==============================] - 3s 11ms/step - loss: 0.2984 - accuracy: 0.8992\n",
            "Test Loss: 0.2984434962272644\n",
            "Test Accuracy: 89.92000222206116%\n"
          ]
        }
      ],
      "source": [
        "# Y_test = to_categorical(Y_test, num_classes=10) # One-Hot Encoding\n",
        "score = model.evaluate(X_test, Y_test)\n",
        "print(f\"Test Loss: {score[0]}\")\n",
        "print(f\"Test Accuracy: {score[1]*100}%\")"
      ]
    },
    {
      "cell_type": "code",
      "execution_count": null,
      "metadata": {
        "id": "bnEk-0KBYrZA",
        "colab": {
          "base_uri": "https://localhost:8080/",
          "height": 639
        },
        "outputId": "9ec97593-266c-4d9e-f737-58ca7045b4fc"
      },
      "outputs": [
        {
          "output_type": "stream",
          "name": "stdout",
          "text": [
            "313/313 [==============================] - 3s 7ms/step\n"
          ]
        },
        {
          "output_type": "display_data",
          "data": {
            "text/plain": [
              "<Figure size 720x720 with 2 Axes>"
            ],
            "image/png": "[encoded data removed]"
          },
          "metadata": {
            "needs_background": "light"
          }
        }
      ],
      "source": [
        "Y_pred = model.predict(X_test)\n",
        "Y_pred_classes = np.argmax(Y_pred, axis = 1)\n",
        "Y_true = np.argmax(Y_test, axis = 1)\n",
        "confusionMatrix = confusion_matrix(Y_true, Y_pred_classes)\n",
        "f,ax=plt.subplots(figsize=(10,10))\n",
        "sns.heatmap(confusionMatrix, annot=True, linewidths=0.1, cmap = \"gist_yarg_r\", linecolor=\"black\", fmt='.0f', ax=ax)\n",
        "plt.xlabel(\"Predicted Label\")\n",
        "plt.ylabel(\"True Label\")\n",
        "plt.title(\"Confusion Matrix\")\n",
        "plt.show()"
      ]
    },
    {
      "cell_type": "code",
      "execution_count": null,
      "metadata": {
        "id": "KdSjXGf4ZV1r",
        "colab": {
          "base_uri": "https://localhost:8080/"
        },
        "outputId": "cb8b55ae-533f-465b-c489-6b6b830640f3"
      },
      "outputs": [
        {
          "output_type": "stream",
          "name": "stdout",
          "text": [
            "Class: 0\n",
            "Number of Wrong Prediction: 166 out of 1000\n",
            "Percentage of True Prediction: 83.4% \n",
            "<<<<<<<<<<<<<<<<<<<<<<<<<<<<<<<<<<<<<\n",
            "Class: 1\n",
            "Number of Wrong Prediction: 18 out of 1000\n",
            "Percentage of True Prediction: 98.2% \n",
            "<<<<<<<<<<<<<<<<<<<<<<<<<<<<<<<<<<<<<\n",
            "Class: 2\n",
            "Number of Wrong Prediction: 63 out of 1000\n",
            "Percentage of True Prediction: 93.7% \n",
            "<<<<<<<<<<<<<<<<<<<<<<<<<<<<<<<<<<<<<\n",
            "Class: 3\n",
            "Number of Wrong Prediction: 108 out of 1000\n",
            "Percentage of True Prediction: 89.2% \n",
            "<<<<<<<<<<<<<<<<<<<<<<<<<<<<<<<<<<<<<\n",
            "Class: 4\n",
            "Number of Wrong Prediction: 212 out of 1000\n",
            "Percentage of True Prediction: 78.8% \n",
            "<<<<<<<<<<<<<<<<<<<<<<<<<<<<<<<<<<<<<\n",
            "Class: 5\n",
            "Number of Wrong Prediction: 13 out of 1000\n",
            "Percentage of True Prediction: 98.7% \n",
            "<<<<<<<<<<<<<<<<<<<<<<<<<<<<<<<<<<<<<\n",
            "Class: 6\n",
            "Number of Wrong Prediction: 378 out of 1000\n",
            "Percentage of True Prediction: 62.2% \n",
            "<<<<<<<<<<<<<<<<<<<<<<<<<<<<<<<<<<<<<\n",
            "Class: 7\n",
            "Number of Wrong Prediction: 23 out of 1000\n",
            "Percentage of True Prediction: 97.7% \n",
            "<<<<<<<<<<<<<<<<<<<<<<<<<<<<<<<<<<<<<\n",
            "Class: 8\n",
            "Number of Wrong Prediction: 15 out of 1000\n",
            "Percentage of True Prediction: 98.5% \n",
            "<<<<<<<<<<<<<<<<<<<<<<<<<<<<<<<<<<<<<\n",
            "Class: 9\n",
            "Number of Wrong Prediction: 44 out of 1000\n",
            "Percentage of True Prediction: 95.6% \n",
            "<<<<<<<<<<<<<<<<<<<<<<<<<<<<<<<<<<<<<\n"
          ]
        }
      ],
      "source": [
        "for i in range(len(confusionMatrix)):\n",
        "    print(f\"Class: {str(i)}\")\n",
        "    print(f\"Number of Wrong Prediction: {str(sum(confusionMatrix[i])-confusionMatrix[i][i])} out of 1000\")\n",
        "    print(f\"Percentage of True Prediction: {confusionMatrix[i][i] / 10}% \")\n",
        "    print(\"<<<<<<<<<<<<<<<<<<<<<<<<<<<<<<<<<<<<<\")"
      ]
    }
  ],
  "metadata": {
    "accelerator": "GPU",
    "colab": {
      "provenance": [],
      "include_colab_link": true
    },
    "gpuClass": "standard",
    "kernelspec": {
      "display_name": "Python 3",
      "name": "python3"
    },
    "language_info": {
      "name": "python"
    }
  },
  "nbformat": 4,
  "nbformat_minor": 0
}