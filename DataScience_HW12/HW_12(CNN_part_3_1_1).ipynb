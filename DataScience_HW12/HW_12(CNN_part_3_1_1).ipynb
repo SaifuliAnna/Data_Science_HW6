{
  "cells": [
    {
      "cell_type": "markdown",
      "metadata": {
        "id": "view-in-github",
        "colab_type": "text"
      },
      "source": [
        "<a href=\"https://colab.research.google.com/github/SaifuliAnna/DataScience_HW12/blob/main/HW_12(CNN_part_3_1_1).ipynb\" target=\"_parent\"><img src=\"https://colab.research.google.com/assets/colab-badge.svg\" alt=\"Open In Colab\"/></a>"
      ]
    },
    {
      "cell_type": "code",
      "execution_count": null,
      "metadata": {
        "id": "b4_576Efddj4"
      },
      "outputs": [],
      "source": [
        "from keras.applications.vgg16 import VGG16\n",
        "\n",
        "from keras import layers, models, Model\n",
        "\n",
        "import tensorflow as tf\n",
        "from sklearn.metrics import confusion_matrix\n",
        "from keras.utils.np_utils import to_categorical\n",
        "from keras.models import Sequential\n",
        "from keras.layers import Dense, Dropout, Flatten, Conv2D, MaxPool2D\n",
        "from keras.optimizers import RMSprop, Adam\n",
        "from keras.preprocessing.image import ImageDataGenerator\n",
        "from keras.callbacks import ReduceLROnPlateau\n",
        "import itertools\n",
        "from keras import callbacks\n",
        "\n",
        "import numpy as np\n",
        "import pandas as pd\n",
        "import seaborn as sns\n",
        "\n",
        "import matplotlib.pyplot as plt# Reading Train Data\n",
        "from keras.datasets import fashion_mnist"
      ]
    },
    {
      "cell_type": "code",
      "execution_count": null,
      "metadata": {
        "colab": {
          "base_uri": "https://localhost:8080/"
        },
        "id": "ME0sEDJ70ggB",
        "outputId": "94088661-0432-4532-ee4c-90418d72b0ca"
      },
      "outputs": [
        {
          "output_type": "stream",
          "name": "stdout",
          "text": [
            "Downloading data from https://storage.googleapis.com/tensorflow/tf-keras-datasets/train-labels-idx1-ubyte.gz\n",
            "29515/29515 [==============================] - 0s 0us/step\n",
            "Downloading data from https://storage.googleapis.com/tensorflow/tf-keras-datasets/train-images-idx3-ubyte.gz\n",
            "26421880/26421880 [==============================] - 2s 0us/step\n",
            "Downloading data from https://storage.googleapis.com/tensorflow/tf-keras-datasets/t10k-labels-idx1-ubyte.gz\n",
            "5148/5148 [==============================] - 0s 0us/step\n",
            "Downloading data from https://storage.googleapis.com/tensorflow/tf-keras-datasets/t10k-images-idx3-ubyte.gz\n",
            "4422102/4422102 [==============================] - 0s 0us/step\n",
            "Shape of Train : 47040000\n",
            "Shape of Train : 60000\n",
            "Shape of Train : 7840000\n",
            "Shape of Train : 10000\n"
          ]
        }
      ],
      "source": [
        "(train_images, train_labels), (test_images, test_labels) = fashion_mnist.load_data()\n",
        "print(\"Shape of Train : \" + str(train_images.size))\n",
        "print(\"Shape of Train : \" + str(train_labels.size))\n",
        "print(\"Shape of Train : \" + str(test_images.size))\n",
        "print(\"Shape of Train : \" + str(test_labels.size))"
      ]
    },
    {
      "cell_type": "code",
      "execution_count": null,
      "metadata": {
        "colab": {
          "base_uri": "https://localhost:8080/"
        },
        "id": "EJdjXS2ZFfYt",
        "outputId": "70e0597a-d77e-4001-ed65-25f889652855"
      },
      "outputs": [
        {
          "output_type": "stream",
          "name": "stdout",
          "text": [
            "Shape of Train : (60000,)\n",
            "Shape of Train : (60000, 28, 28)\n",
            "Shape of Train : (10000, 28, 28)\n",
            "Shape of Train : (10000,)\n"
          ]
        }
      ],
      "source": [
        "Y_train = train_labels\n",
        "X_train = train_images\n",
        "X_test = test_images\n",
        "Y_test = test_labels\n",
        "\n",
        "print(\"Shape of Train : \" + str(Y_train.shape))\n",
        "print(\"Shape of Train : \" + str(X_train.shape))\n",
        "print(\"Shape of Train : \" + str(X_test.shape))\n",
        "print(\"Shape of Train : \" + str(Y_test.shape))"
      ]
    },
    {
      "cell_type": "code",
      "execution_count": null,
      "metadata": {
        "colab": {
          "base_uri": "https://localhost:8080/",
          "height": 399
        },
        "id": "npo-DONNGOOH",
        "outputId": "3b393764-b790-4cdb-eebc-4b51ae16aae6"
      },
      "outputs": [
        {
          "output_type": "display_data",
          "data": {
            "text/plain": [
              "<Figure size 720x720 with 6 Axes>"
            ],
            "image/png": "[encoded data removed]"
          },
          "metadata": {
            "needs_background": "light"
          }
        }
      ],
      "source": [
        "plt.figure(figsize=(10,10))\n",
        "for i in range(6):\n",
        "    plt.subplot(3,3,i+1)\n",
        "    img = X_train[i]\n",
        "    plt.imshow(img)\n",
        "    plt.title(f\"Class: {str(i)}, {X_train[i].shape}\")\n",
        "    plt.axis('off')\n",
        "    \n",
        "plt.show()"
      ]
    },
    {
      "cell_type": "markdown",
      "metadata": {
        "id": "jzucCnI9Jf-z"
      },
      "source": [
        "Train-Test Split"
      ]
    },
    {
      "cell_type": "code",
      "execution_count": null,
      "metadata": {
        "colab": {
          "base_uri": "https://localhost:8080/"
        },
        "id": "RctkQ9w4IHpN",
        "outputId": "5a9e336c-9f02-4d22-ce9a-5a5615a816b4"
      },
      "outputs": [
        {
          "output_type": "stream",
          "name": "stdout",
          "text": [
            "x_train shape (42000, 28, 28)\n",
            "x_test shape (18000, 28, 28)\n",
            "y_train shape (42000,)\n",
            "y_test shape (18000,)\n"
          ]
        }
      ],
      "source": [
        "from sklearn.model_selection import train_test_split\n",
        "x_train, x_val, y_train, y_val = train_test_split(X_train, Y_train, test_size = 0.3, random_state = 42)\n",
        "\n",
        "print(\"x_train shape\",x_train.shape)\n",
        "print(\"x_test shape\",x_val.shape)\n",
        "print(\"y_train shape\",y_train.shape)\n",
        "print(\"y_test shape\",y_val.shape)"
      ]
    },
    {
      "cell_type": "code",
      "execution_count": null,
      "metadata": {
        "id": "3jcX2vWG-BKP"
      },
      "outputs": [],
      "source": [
        "# Нормализуем значения пикселей в диапазоне от 0 до 1\n",
        "x_train = x_train.astype(\"float32\") / 255.0\n",
        "x_val = x_val.astype(\"float32\") / 255.0\n",
        "\n",
        "X_test = X_test.astype(\"float32\") / 255.0"
      ]
    },
    {
      "cell_type": "code",
      "execution_count": null,
      "metadata": {
        "id": "wTMbDYcn-LPk",
        "colab": {
          "base_uri": "https://localhost:8080/"
        },
        "outputId": "6439b1f6-4ca6-465c-a601-313ec9c7e8d9"
      },
      "outputs": [
        {
          "output_type": "stream",
          "name": "stdout",
          "text": [
            "Shape of Train : (42000, 28, 28, 3)\n",
            "Shape of Valid : (18000, 28, 28, 3)\n",
            "Shape of Test : (10000, 28, 28, 3)\n"
          ]
        }
      ],
      "source": [
        "x_train = np.stack((x_train,)*3, axis=-1)\n",
        "x_val = np.stack((x_val,)*3, axis=-1)\n",
        "\n",
        "X_test = np.stack((X_test,)*3, axis=-1)\n",
        "\n",
        "print(\"Shape of Train : \" + str(x_train.shape))\n",
        "print(\"Shape of Valid : \" + str(x_val.shape))\n",
        "\n",
        "print(\"Shape of Test : \" + str(X_test.shape))"
      ]
    },
    {
      "cell_type": "code",
      "execution_count": null,
      "metadata": {
        "colab": {
          "base_uri": "https://localhost:8080/"
        },
        "id": "rX5ZtSWr-hhF",
        "outputId": "cada6285-1b50-43de-fce2-7bfd8aec8db4"
      },
      "outputs": [
        {
          "output_type": "stream",
          "name": "stdout",
          "text": [
            "Shape of Train : (42000, 32, 32, 3)\n",
            "Shape of Valid : (18000, 32, 32, 3)\n",
            "Shape of Test : (10000, 32, 32, 3)\n"
          ]
        }
      ],
      "source": [
        "# Resizing images\n",
        "x_train = tf.image.resize(x_train, (32, 32))\n",
        "x_val = tf.image.resize(x_val, (32, 32))\n",
        "\n",
        "X_test = tf.image.resize(X_test, (32, 32))\n",
        "\n",
        "print(\"Shape of Train : \" + str(x_train.shape))\n",
        "print(\"Shape of Valid : \" + str(x_val.shape))\n",
        "\n",
        "print(\"Shape of Test : \" + str(X_test.shape))"
      ]
    },
    {
      "cell_type": "code",
      "execution_count": null,
      "metadata": {
        "id": "Lk6Lr4A6_3ha",
        "colab": {
          "base_uri": "https://localhost:8080/"
        },
        "outputId": "e65975eb-f8eb-414b-8938-8e18752023d9"
      },
      "outputs": [
        {
          "output_type": "stream",
          "name": "stdout",
          "text": [
            "Shape of Train : (42000, 10)\n",
            "Shape of Valid: (18000, 10)\n",
            "Shape of Test : (10000, 10)\n"
          ]
        }
      ],
      "source": [
        "# Transforming labels to correct format\n",
        "y_train = to_categorical(y_train, num_classes=10)\n",
        "y_val = to_categorical(y_val, num_classes=10)\n",
        "\n",
        "Y_test = to_categorical(Y_test, num_classes=10)\n",
        "\n",
        "print(\"Shape of Train : \" + str(y_train.shape))\n",
        "print(\"Shape of Valid: \" + str(y_val.shape))\n",
        "\n",
        "print(\"Shape of Test : \" + str(Y_test.shape))"
      ]
    },
    {
      "cell_type": "markdown",
      "metadata": {
        "id": "iFmycFvQENlq"
      },
      "source": [
        "Defining the parameters for instanitaing VGG16 model."
      ]
    },
    {
      "cell_type": "code",
      "execution_count": null,
      "metadata": {
        "id": "P6UBqvXVBLrn",
        "colab": {
          "base_uri": "https://localhost:8080/"
        },
        "outputId": "49bc3616-5971-4458-eff1-67e910c3703c"
      },
      "outputs": [
        {
          "output_type": "stream",
          "name": "stdout",
          "text": [
            "Downloading data from https://storage.googleapis.com/tensorflow/keras-applications/vgg16/vgg16_weights_tf_dim_ordering_tf_kernels_notop.h5\n",
            "58889256/58889256 [==============================] - 4s 0us/step\n"
          ]
        }
      ],
      "source": [
        "# Loading VGG16 model\n",
        "# Загружаем предобученную сеть VGG16 без последних слоев\n",
        "conv_base = VGG16(weights=\"imagenet\", include_top=False, input_shape=(32, 32, 3))\n",
        "\n",
        "\n",
        "conv_base.trainable = True\n",
        "set_trainable = False\n",
        "for layer in conv_base.layers:    \n",
        "    if layer.name == \"block5_conv1\":        \n",
        "        set_trainable = True    \n",
        "    if set_trainable:        \n",
        "        layer.trainable = True    \n",
        "    else:        \n",
        "        layer.trainable = False"
      ]
    },
    {
      "cell_type": "code",
      "execution_count": null,
      "metadata": {
        "colab": {
          "base_uri": "https://localhost:8080/"
        },
        "id": "FRSeR3hfFuZV",
        "outputId": "b2191043-80ca-4499-e65b-8ae72b7ac57b"
      },
      "outputs": [
        {
          "output_type": "stream",
          "name": "stdout",
          "text": [
            "Model: \"vgg16\"\n",
            "_________________________________________________________________\n",
            " Layer (type)                Output Shape              Param #   \n",
            "=================================================================\n",
            " input_2 (InputLayer)        [(None, 32, 32, 3)]       0         \n",
            "                                                                 \n",
            " block1_conv1 (Conv2D)       (None, 32, 32, 64)        1792      \n",
            "                                                                 \n",
            " block1_conv2 (Conv2D)       (None, 32, 32, 64)        36928     \n",
            "                                                                 \n",
            " block1_pool (MaxPooling2D)  (None, 16, 16, 64)        0         \n",
            "                                                                 \n",
            " block2_conv1 (Conv2D)       (None, 16, 16, 128)       73856     \n",
            "                                                                 \n",
            " block2_conv2 (Conv2D)       (None, 16, 16, 128)       147584    \n",
            "                                                                 \n",
            " block2_pool (MaxPooling2D)  (None, 8, 8, 128)         0         \n",
            "                                                                 \n",
            " block3_conv1 (Conv2D)       (None, 8, 8, 256)         295168    \n",
            "                                                                 \n",
            " block3_conv2 (Conv2D)       (None, 8, 8, 256)         590080    \n",
            "                                                                 \n",
            " block3_conv3 (Conv2D)       (None, 8, 8, 256)         590080    \n",
            "                                                                 \n",
            " block3_pool (MaxPooling2D)  (None, 4, 4, 256)         0         \n",
            "                                                                 \n",
            " block4_conv1 (Conv2D)       (None, 4, 4, 512)         1180160   \n",
            "                                                                 \n",
            " block4_conv2 (Conv2D)       (None, 4, 4, 512)         2359808   \n",
            "                                                                 \n",
            " block4_conv3 (Conv2D)       (None, 4, 4, 512)         2359808   \n",
            "                                                                 \n",
            " block4_pool (MaxPooling2D)  (None, 2, 2, 512)         0         \n",
            "                                                                 \n",
            " block5_conv1 (Conv2D)       (None, 2, 2, 512)         2359808   \n",
            "                                                                 \n",
            " block5_conv2 (Conv2D)       (None, 2, 2, 512)         2359808   \n",
            "                                                                 \n",
            " block5_conv3 (Conv2D)       (None, 2, 2, 512)         2359808   \n",
            "                                                                 \n",
            " block5_pool (MaxPooling2D)  (None, 1, 1, 512)         0         \n",
            "                                                                 \n",
            "=================================================================\n",
            "Total params: 14,714,688\n",
            "Trainable params: 7,079,424\n",
            "Non-trainable params: 7,635,264\n",
            "_________________________________________________________________\n"
          ]
        }
      ],
      "source": [
        "conv_base.summary()"
      ]
    },
    {
      "cell_type": "markdown",
      "metadata": {
        "id": "fDaW3qdrJ6rq"
      },
      "source": [
        "Create Model"
      ]
    },
    {
      "cell_type": "code",
      "execution_count": null,
      "metadata": {
        "id": "YRRbR78-nTiB"
      },
      "outputs": [],
      "source": [
        "model = models.Sequential([   \n",
        "    conv_base,   \n",
        "    layers.Flatten(),  \n",
        "    layers.Dense(512, activation=\"relu\"),   \n",
        "    layers.Dropout(0.5),\n",
        "    layers.Dense(10, activation=\"softmax\")\n",
        "])"
      ]
    },
    {
      "cell_type": "markdown",
      "metadata": {
        "id": "nCgLyl5JKqOY"
      },
      "source": [
        "Optimizer\n",
        "\n",
        "Adam optimizer we can say adam optimizer updates leraning rate dynamically."
      ]
    },
    {
      "cell_type": "code",
      "execution_count": null,
      "metadata": {
        "id": "JjayGF1bKqo8"
      },
      "outputs": [],
      "source": [
        "optimizer = Adam(learning_rate=0.00001, beta_1=0.9, beta_2=0.999, epsilon=None, decay=0.0, amsgrad=False);"
      ]
    },
    {
      "cell_type": "markdown",
      "metadata": {
        "id": "-uAu-53NLXmy"
      },
      "source": [
        "Compile Model\n",
        "\n",
        "Since we have 10 classes we’ll use categorical crossentropy."
      ]
    },
    {
      "cell_type": "code",
      "execution_count": null,
      "metadata": {
        "id": "8CT0En8eLYb9"
      },
      "outputs": [],
      "source": [
        "model.compile(optimizer = optimizer, loss = 'categorical_crossentropy', metrics=['accuracy'])"
      ]
    },
    {
      "cell_type": "markdown",
      "metadata": {
        "id": "Cz9XHrKoLsnU"
      },
      "source": [
        "Epoch and Batch Size"
      ]
    },
    {
      "cell_type": "markdown",
      "metadata": {
        "id": "mlN3q3a1L05R"
      },
      "source": [
        "Epoch is the number of times the algorithm sees the entire data set. If one epoch is too big to run to the computer at once we divide it smaller parts and number of this parts is called batch."
      ]
    },
    {
      "cell_type": "code",
      "execution_count": null,
      "metadata": {
        "id": "RHwowmecLtvA"
      },
      "outputs": [],
      "source": [
        "# epochs = 100\n",
        "# batchSize = 300\n",
        "# steps_per_epoch=x_train.shape[0] // batchSize"
      ]
    },
    {
      "cell_type": "markdown",
      "metadata": {
        "id": "kaJ52oo4L41W"
      },
      "source": [
        "Data Augmentation\n",
        "\n",
        "By using “data augmentation” we can create new data with different orientations. It prevents overfitting."
      ]
    },
    {
      "cell_type": "markdown",
      "metadata": {
        "id": "c8E1ekgkMBaa"
      },
      "source": [
        "Data Augmentation\n",
        "\n",
        "By using “data augmentation” we can create new data with different orientations. It prevents overfitting."
      ]
    },
    {
      "cell_type": "markdown",
      "metadata": {
        "id": "YeJYAQocOu0L"
      },
      "source": [
        "Reduced learning and Early stopping for callback Implementation"
      ]
    },
    {
      "cell_type": "code",
      "source": [
        "np.random.seed(300)"
      ],
      "metadata": {
        "id": "QGarnv84aogP"
      },
      "execution_count": null,
      "outputs": []
    },
    {
      "cell_type": "markdown",
      "metadata": {
        "id": "mFuUmKDIM5vY"
      },
      "source": [
        "Fit The Model"
      ]
    },
    {
      "cell_type": "code",
      "source": [
        "# Data Augmentation\n",
        "datagen = ImageDataGenerator(\n",
        "        featurewise_center=False,  # set input mean to 0 over the dataset\n",
        "        samplewise_center=False,  # set each sample mean to 0\n",
        "        featurewise_std_normalization=False,  # divide inputs by std of the dataset\n",
        "        samplewise_std_normalization=False,  # divide each input by its std\n",
        "        zca_whitening=False,  # dimesion reduction\n",
        "        rotation_range=0.1,  # randomly rotate images in the range\n",
        "        zoom_range =0.1, # Randomly zoom image\n",
        "        width_shift_range=0.1,  # randomly shift images horizontally\n",
        "        height_shift_range=0.1,  # randomly shift images vertically\n",
        "        horizontal_flip=False,  # randomly flip images\n",
        "        vertical_flip=False)  # randomly flip imagesdatagen.fit(x_train)\n",
        "\n",
        "datagen.fit(x_train)"
      ],
      "metadata": {
        "id": "-FS0PBGGZKwy"
      },
      "execution_count": null,
      "outputs": []
    },
    {
      "cell_type": "code",
      "execution_count": null,
      "metadata": {
        "id": "TK2ao8hYPDph",
        "colab": {
          "base_uri": "https://localhost:8080/"
        },
        "outputId": "f4ee3a49-545a-4954-85bd-3561bcb745f9"
      },
      "outputs": [
        {
          "output_type": "stream",
          "name": "stdout",
          "text": [
            "Epoch 1/20\n",
            "165/165 [==============================] - 41s 181ms/step - loss: 1.3351 - accuracy: 0.5484 - val_loss: 0.5867 - val_accuracy: 0.7979\n",
            "Epoch 2/20\n",
            "165/165 [==============================] - 28s 172ms/step - loss: 0.6384 - accuracy: 0.7761 - val_loss: 0.4692 - val_accuracy: 0.8283\n",
            "Epoch 3/20\n",
            "165/165 [==============================] - 29s 178ms/step - loss: 0.5375 - accuracy: 0.8076 - val_loss: 0.4237 - val_accuracy: 0.8454\n",
            "Epoch 4/20\n",
            "165/165 [==============================] - 29s 178ms/step - loss: 0.4915 - accuracy: 0.8220 - val_loss: 0.4082 - val_accuracy: 0.8522\n",
            "Epoch 5/20\n",
            "165/165 [==============================] - 29s 178ms/step - loss: 0.4588 - accuracy: 0.8356 - val_loss: 0.3777 - val_accuracy: 0.8615\n",
            "Epoch 6/20\n",
            "165/165 [==============================] - 29s 178ms/step - loss: 0.4364 - accuracy: 0.8424 - val_loss: 0.3647 - val_accuracy: 0.8671\n",
            "Epoch 7/20\n",
            "165/165 [==============================] - 32s 196ms/step - loss: 0.4155 - accuracy: 0.8475 - val_loss: 0.3503 - val_accuracy: 0.8717\n",
            "Epoch 8/20\n",
            "165/165 [==============================] - 29s 174ms/step - loss: 0.4030 - accuracy: 0.8533 - val_loss: 0.3442 - val_accuracy: 0.8737\n",
            "Epoch 9/20\n",
            "165/165 [==============================] - 28s 172ms/step - loss: 0.3904 - accuracy: 0.8577 - val_loss: 0.3422 - val_accuracy: 0.8756\n",
            "Epoch 10/20\n",
            "165/165 [==============================] - 29s 179ms/step - loss: 0.3775 - accuracy: 0.8623 - val_loss: 0.3259 - val_accuracy: 0.8801\n",
            "Epoch 11/20\n",
            "165/165 [==============================] - 29s 176ms/step - loss: 0.3697 - accuracy: 0.8659 - val_loss: 0.3229 - val_accuracy: 0.8821\n",
            "Epoch 12/20\n",
            "165/165 [==============================] - 29s 177ms/step - loss: 0.3624 - accuracy: 0.8681 - val_loss: 0.3188 - val_accuracy: 0.8837\n",
            "Epoch 13/20\n",
            "165/165 [==============================] - 29s 179ms/step - loss: 0.3511 - accuracy: 0.8716 - val_loss: 0.3083 - val_accuracy: 0.8868\n",
            "Epoch 14/20\n",
            "165/165 [==============================] - 28s 173ms/step - loss: 0.3472 - accuracy: 0.8727 - val_loss: 0.3051 - val_accuracy: 0.8871\n",
            "Epoch 15/20\n",
            "165/165 [==============================] - 29s 178ms/step - loss: 0.3409 - accuracy: 0.8740 - val_loss: 0.3066 - val_accuracy: 0.8853\n",
            "Epoch 16/20\n",
            "165/165 [==============================] - 30s 179ms/step - loss: 0.3346 - accuracy: 0.8780 - val_loss: 0.3008 - val_accuracy: 0.8896\n",
            "Epoch 17/20\n",
            "165/165 [==============================] - 29s 178ms/step - loss: 0.3277 - accuracy: 0.8817 - val_loss: 0.2988 - val_accuracy: 0.8903\n",
            "Epoch 18/20\n",
            "165/165 [==============================] - 29s 175ms/step - loss: 0.3265 - accuracy: 0.8807 - val_loss: 0.2931 - val_accuracy: 0.8921\n",
            "Epoch 19/20\n",
            "165/165 [==============================] - 29s 173ms/step - loss: 0.3217 - accuracy: 0.8835 - val_loss: 0.2877 - val_accuracy: 0.8941\n",
            "Epoch 20/20\n",
            "165/165 [==============================] - 29s 174ms/step - loss: 0.3132 - accuracy: 0.8858 - val_loss: 0.2845 - val_accuracy: 0.8948\n"
          ]
        }
      ],
      "source": [
        "fash_vgg = model.fit(datagen.flow(x_train, y_train, batch_size=256), epochs=20, validation_data=(x_val, y_val), verbose=1)"
      ]
    },
    {
      "cell_type": "code",
      "execution_count": null,
      "metadata": {
        "id": "9QXeo0LjdBzE",
        "colab": {
          "base_uri": "https://localhost:8080/"
        },
        "outputId": "9f407f24-6ae9-48c1-e886-54455999a5a8"
      },
      "outputs": [
        {
          "output_type": "stream",
          "name": "stderr",
          "text": [
            "WARNING:absl:Found untraced functions such as _jit_compiled_convolution_op, _jit_compiled_convolution_op, _jit_compiled_convolution_op, _jit_compiled_convolution_op, _jit_compiled_convolution_op while saving (showing 5 of 13). These functions will not be directly callable after loading.\n"
          ]
        }
      ],
      "source": [
        "model.save(\"my_model_fash_vgg_3_1_1\")"
      ]
    },
    {
      "cell_type": "markdown",
      "metadata": {
        "id": "jvkkW6G_WeEw"
      },
      "source": [
        "Evaluate The Model"
      ]
    },
    {
      "cell_type": "code",
      "execution_count": null,
      "metadata": {
        "id": "jEv4Ysl9jtMW",
        "colab": {
          "base_uri": "https://localhost:8080/"
        },
        "outputId": "f05e8ce4-43d3-4cbf-b0ba-d06c4fa44a92"
      },
      "outputs": [
        {
          "output_type": "stream",
          "name": "stdout",
          "text": [
            "563/563 [==============================] - 5s 8ms/step - loss: 0.2845 - accuracy: 0.8948\n",
            "\n",
            "Test loss:0.2845088541507721,    Test accuracy:0.894777774810791\n"
          ]
        }
      ],
      "source": [
        "test_loss, test_acc = model.evaluate(x_val, y_val)\n",
        "\n",
        "print(f'\\nTest loss:{test_loss},    Test accuracy:{test_acc}')"
      ]
    },
    {
      "cell_type": "code",
      "execution_count": null,
      "metadata": {
        "colab": {
          "base_uri": "https://localhost:8080/"
        },
        "id": "5p2sJng6We7J",
        "outputId": "07bd9c41-40d0-4ba2-e11f-71f822a81ffd"
      },
      "outputs": [
        {
          "output_type": "stream",
          "name": "stdout",
          "text": [
            "Accuracy after fitting: 88.58333230018616%\n"
          ]
        }
      ],
      "source": [
        "print(f\"Accuracy after fitting: {fash_vgg.history['accuracy'][-1]*100}%\")\n",
        "\n",
        "# For better accuracy i can increase number of epochs or i can change \n",
        "# parameters on layers or i can add additional layer to the model."
      ]
    },
    {
      "cell_type": "code",
      "execution_count": null,
      "metadata": {
        "colab": {
          "base_uri": "https://localhost:8080/",
          "height": 388
        },
        "id": "UMwj00fbXTbD",
        "outputId": "f3407aac-b615-4621-9198-d1f2e652e2e1"
      },
      "outputs": [
        {
          "output_type": "display_data",
          "data": {
            "text/plain": [
              "<Figure size 1440x432 with 2 Axes>"
            ],
            "image/png": "[encoded data removed]"
          },
          "metadata": {
            "needs_background": "light"
          }
        }
      ],
      "source": [
        "plt.figure(figsize=(20,6))\n",
        "\n",
        "plt.subplot(1,2,1)\n",
        "plt.plot(fash_vgg.history['loss'], color=\"blue\", label = \"Loss\")\n",
        "plt.plot(fash_vgg.history['val_loss'], color=\"orange\", label = \"Validation Loss\")\n",
        "plt.ylabel(\"Loss\")\n",
        "plt.xlabel(\"Number of Epochs\")\n",
        "plt.legend()\n",
        "\n",
        "plt.subplot(1,2,2)\n",
        "plt.plot(fash_vgg.history['accuracy'], color=\"green\", label = \"Accuracy\")\n",
        "plt.plot(fash_vgg.history['val_accuracy'], color=\"red\", label = \"Validation Accuracy\")\n",
        "plt.ylabel(\"Accuracy\")\n",
        "plt.xlabel(\"Number of Epochs\")\n",
        "plt.legend()\n",
        "plt.show()"
      ]
    },
    {
      "cell_type": "markdown",
      "metadata": {
        "id": "x-4xLvWGYE95"
      },
      "source": [
        "out score by giving test data we imported before"
      ]
    },
    {
      "cell_type": "code",
      "execution_count": null,
      "metadata": {
        "id": "tMTesWoQYO-f",
        "colab": {
          "base_uri": "https://localhost:8080/"
        },
        "outputId": "6e9fe22d-656c-45ee-8409-76197c8f3b44"
      },
      "outputs": [
        {
          "output_type": "stream",
          "name": "stdout",
          "text": [
            "313/313 [==============================] - 3s 9ms/step - loss: 0.3042 - accuracy: 0.8897\n",
            "Test Loss: 0.3042365610599518\n",
            "Test Accuracy: 88.96999955177307%\n"
          ]
        }
      ],
      "source": [
        "# Y_test = to_categorical(Y_test, num_classes=10) # One-Hot Encoding\n",
        "score = model.evaluate(X_test, Y_test)\n",
        "print(f\"Test Loss: {score[0]}\")\n",
        "print(f\"Test Accuracy: {score[1]*100}%\")"
      ]
    },
    {
      "cell_type": "code",
      "execution_count": null,
      "metadata": {
        "id": "bnEk-0KBYrZA",
        "colab": {
          "base_uri": "https://localhost:8080/",
          "height": 639
        },
        "outputId": "09e3b53c-cfec-4b45-bd52-1c719eacce57"
      },
      "outputs": [
        {
          "output_type": "stream",
          "name": "stdout",
          "text": [
            "313/313 [==============================] - 3s 8ms/step\n"
          ]
        },
        {
          "output_type": "display_data",
          "data": {
            "text/plain": [
              "<Figure size 720x720 with 2 Axes>"
            ],
            "image/png": "[encoded data removed]"
          },
          "metadata": {
            "needs_background": "light"
          }
        }
      ],
      "source": [
        "Y_pred = model.predict(X_test)\n",
        "Y_pred_classes = np.argmax(Y_pred, axis = 1)\n",
        "Y_true = np.argmax(Y_test, axis = 1)\n",
        "confusionMatrix = confusion_matrix(Y_true, Y_pred_classes)\n",
        "f,ax=plt.subplots(figsize=(10,10))\n",
        "sns.heatmap(confusionMatrix, annot=True, linewidths=0.1, cmap = \"gist_yarg_r\", linecolor=\"black\", fmt='.0f', ax=ax)\n",
        "plt.xlabel(\"Predicted Label\")\n",
        "plt.ylabel(\"True Label\")\n",
        "plt.title(\"Confusion Matrix\")\n",
        "plt.show()"
      ]
    },
    {
      "cell_type": "code",
      "execution_count": null,
      "metadata": {
        "id": "KdSjXGf4ZV1r",
        "colab": {
          "base_uri": "https://localhost:8080/"
        },
        "outputId": "4a71c1ba-e9e6-448f-bd8c-95515fb42dbf"
      },
      "outputs": [
        {
          "output_type": "stream",
          "name": "stdout",
          "text": [
            "Class: 0\n",
            "Number of Wrong Prediction: 149 out of 1000\n",
            "Percentage of True Prediction: 85.1% \n",
            "<<<<<<<<<<<<<<<<<<<<<<<<<<<<<<<<<<<<<\n",
            "Class: 1\n",
            "Number of Wrong Prediction: 26 out of 1000\n",
            "Percentage of True Prediction: 97.4% \n",
            "<<<<<<<<<<<<<<<<<<<<<<<<<<<<<<<<<<<<<\n",
            "Class: 2\n",
            "Number of Wrong Prediction: 200 out of 1000\n",
            "Percentage of True Prediction: 80.0% \n",
            "<<<<<<<<<<<<<<<<<<<<<<<<<<<<<<<<<<<<<\n",
            "Class: 3\n",
            "Number of Wrong Prediction: 126 out of 1000\n",
            "Percentage of True Prediction: 87.4% \n",
            "<<<<<<<<<<<<<<<<<<<<<<<<<<<<<<<<<<<<<\n",
            "Class: 4\n",
            "Number of Wrong Prediction: 180 out of 1000\n",
            "Percentage of True Prediction: 82.0% \n",
            "<<<<<<<<<<<<<<<<<<<<<<<<<<<<<<<<<<<<<\n",
            "Class: 5\n",
            "Number of Wrong Prediction: 22 out of 1000\n",
            "Percentage of True Prediction: 97.8% \n",
            "<<<<<<<<<<<<<<<<<<<<<<<<<<<<<<<<<<<<<\n",
            "Class: 6\n",
            "Number of Wrong Prediction: 316 out of 1000\n",
            "Percentage of True Prediction: 68.4% \n",
            "<<<<<<<<<<<<<<<<<<<<<<<<<<<<<<<<<<<<<\n",
            "Class: 7\n",
            "Number of Wrong Prediction: 26 out of 1000\n",
            "Percentage of True Prediction: 97.4% \n",
            "<<<<<<<<<<<<<<<<<<<<<<<<<<<<<<<<<<<<<\n",
            "Class: 8\n",
            "Number of Wrong Prediction: 15 out of 1000\n",
            "Percentage of True Prediction: 98.5% \n",
            "<<<<<<<<<<<<<<<<<<<<<<<<<<<<<<<<<<<<<\n",
            "Class: 9\n",
            "Number of Wrong Prediction: 43 out of 1000\n",
            "Percentage of True Prediction: 95.7% \n",
            "<<<<<<<<<<<<<<<<<<<<<<<<<<<<<<<<<<<<<\n"
          ]
        }
      ],
      "source": [
        "for i in range(len(confusionMatrix)):\n",
        "    print(f\"Class: {str(i)}\")\n",
        "    print(f\"Number of Wrong Prediction: {str(sum(confusionMatrix[i])-confusionMatrix[i][i])} out of 1000\")\n",
        "    print(f\"Percentage of True Prediction: {confusionMatrix[i][i] / 10}% \")\n",
        "    print(\"<<<<<<<<<<<<<<<<<<<<<<<<<<<<<<<<<<<<<\")"
      ]
    }
  ],
  "metadata": {
    "accelerator": "GPU",
    "colab": {
      "provenance": [],
      "include_colab_link": true
    },
    "gpuClass": "standard",
    "kernelspec": {
      "display_name": "Python 3",
      "name": "python3"
    },
    "language_info": {
      "name": "python"
    }
  },
  "nbformat": 4,
  "nbformat_minor": 0
}