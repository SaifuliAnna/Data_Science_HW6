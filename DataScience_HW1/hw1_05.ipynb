{
 "cells": [
  {
   "cell_type": "code",
   "execution_count": 7,
   "id": "8136add3",
   "metadata": {},
   "outputs": [],
   "source": [
    "import numpy as np"
   ]
  },
  {
   "cell_type": "code",
   "execution_count": 8,
   "id": "7561129f",
   "metadata": {},
   "outputs": [],
   "source": [
    "# P(x) = c0 + c1x + c2x2 + c3x3"
   ]
  },
  {
   "cell_type": "code",
   "execution_count": 11,
   "id": "42bfd428",
   "metadata": {},
   "outputs": [],
   "source": [
    "def get_polynom(coords):\n",
    "    a = []\n",
    "    b = []\n",
    "    for x, y in coords:\n",
    "        b.append(y)\n",
    "        x_row = []\n",
    "        for i in range(len(coords)):\n",
    "            x_row.append(x ** i)\n",
    "        a.append(x_row)\n",
    "    return np.linalg.solve(a, b).astype('int')"
   ]
  },
  {
   "cell_type": "code",
   "execution_count": 12,
   "id": "f083e522",
   "metadata": {},
   "outputs": [
    {
     "data": {
      "text/plain": [
       "array([1, 1])"
      ]
     },
     "execution_count": 12,
     "metadata": {},
     "output_type": "execute_result"
    }
   ],
   "source": [
    "get_polynom([(1, 2), (3, 4)])"
   ]
  }
 ],
 "metadata": {
  "kernelspec": {
   "display_name": "Python 3 (ipykernel)",
   "language": "python",
   "name": "python3"
  },
  "language_info": {
   "codemirror_mode": {
    "name": "ipython",
    "version": 3
   },
   "file_extension": ".py",
   "mimetype": "text/x-python",
   "name": "python",
   "nbconvert_exporter": "python",
   "pygments_lexer": "ipython3",
   "version": "3.9.13"
  }
 },
 "nbformat": 4,
 "nbformat_minor": 5
}
