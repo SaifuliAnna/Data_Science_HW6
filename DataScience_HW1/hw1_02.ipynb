{
 "cells": [
  {
   "cell_type": "code",
   "execution_count": 2,
   "id": "8136add3",
   "metadata": {},
   "outputs": [],
   "source": [
    "import numpy as np"
   ]
  },
  {
   "cell_type": "code",
   "execution_count": 3,
   "id": "08691238",
   "metadata": {},
   "outputs": [],
   "source": [
    "a = np.matrix(\"1,1,1;0,2,1;0,1,2\")"
   ]
  },
  {
   "cell_type": "code",
   "execution_count": 4,
   "id": "7970935d",
   "metadata": {},
   "outputs": [],
   "source": [
    "b = np.matrix(\"1328;1448;1228\")"
   ]
  },
  {
   "cell_type": "code",
   "execution_count": 5,
   "id": "656558cb",
   "metadata": {},
   "outputs": [],
   "source": [
    "x = np.linalg.solve(a, b)"
   ]
  },
  {
   "cell_type": "code",
   "execution_count": 6,
   "id": "c9f0132b",
   "metadata": {},
   "outputs": [
    {
     "name": "stdout",
     "output_type": "stream",
     "text": [
      "[[436.]\n",
      " [556.]\n",
      " [336.]]\n"
     ]
    }
   ],
   "source": [
    "print(x)"
   ]
  },
  {
   "cell_type": "code",
   "execution_count": 7,
   "id": "beaf568f",
   "metadata": {},
   "outputs": [],
   "source": [
    "x = x.astype('int')"
   ]
  },
  {
   "cell_type": "code",
   "execution_count": 8,
   "id": "0f746571",
   "metadata": {},
   "outputs": [
    {
     "name": "stdout",
     "output_type": "stream",
     "text": [
      "[[436]\n",
      " [556]\n",
      " [336]]\n"
     ]
    }
   ],
   "source": [
    "print(x)"
   ]
  }
 ],
 "metadata": {
  "kernelspec": {
   "display_name": "Python 3 (ipykernel)",
   "language": "python",
   "name": "python3"
  },
  "language_info": {
   "codemirror_mode": {
    "name": "ipython",
    "version": 3
   },
   "file_extension": ".py",
   "mimetype": "text/x-python",
   "name": "python",
   "nbconvert_exporter": "python",
   "pygments_lexer": "ipython3",
   "version": "3.9.13"
  }
 },
 "nbformat": 4,
 "nbformat_minor": 5
}
